{
 "cells": [
  {
   "metadata": {
    "ExecuteTime": {
     "end_time": "2025-06-29T11:49:26.101208Z",
     "start_time": "2025-06-29T11:49:26.096861Z"
    }
   },
   "cell_type": "code",
   "source": [
    "import pandas as pd\n",
    "import matplotlib.pyplot as plt\n",
    "import seaborn as sns\n",
    "import numpy as np"
   ],
   "id": "77668fd997d2fd81",
   "outputs": [],
   "execution_count": 57
  },
  {
   "cell_type": "code",
   "id": "initial_id",
   "metadata": {
    "collapsed": true,
    "ExecuteTime": {
     "end_time": "2025-06-29T11:42:41.076481Z",
     "start_time": "2025-06-29T11:42:40.169255Z"
    }
   },
   "source": [
    "df = pd.read_csv('..\\\\datas\\\\recipes_with_profiles.csv')\n",
    "df.drop(columns=['sehir'], inplace=True)\n",
    "df.head()"
   ],
   "outputs": [
    {
     "data": {
      "text/plain": [
       "   kategori_id             tarif_adi  \\\n",
       "0            1             Çiğ Köfte   \n",
       "1            1      Orjinal Çiğköfte   \n",
       "2            1  Etli Urfa Çiğköftesi   \n",
       "3            1       Hakiki Çiğköfte   \n",
       "4            1      Çiğ Köfte (Etli)   \n",
       "\n",
       "                                           tarif_url     profil_adi  kayit_ay  \\\n",
       "0  https://www.nefisyemektarifleri.com/cig-kofte-...  eminezeynep58      96.0   \n",
       "1  https://www.nefisyemektarifleri.com/orjinal-ci...       bircan79     138.0   \n",
       "2  https://www.nefisyemektarifleri.com/etli-urfa-...      burcintrs      72.0   \n",
       "3  https://www.nefisyemektarifleri.com/hakiki-cig...    mervisteyze      55.0   \n",
       "4  https://www.nefisyemektarifleri.com/cig-kofte-...      iugurchef      57.0   \n",
       "\n",
       "   tarif_sayisi  takipci  takip eslesen_sehir  \n",
       "0           9.0      3.0    1.0         Sivas  \n",
       "1         919.0  17684.0    9.0         Kilis  \n",
       "2         212.0    288.0   73.0        Ankara  \n",
       "3          25.0     64.0    0.0      İstanbul  \n",
       "4          81.0    939.0    4.0      İstanbul  "
      ],
      "text/html": [
       "<div>\n",
       "<style scoped>\n",
       "    .dataframe tbody tr th:only-of-type {\n",
       "        vertical-align: middle;\n",
       "    }\n",
       "\n",
       "    .dataframe tbody tr th {\n",
       "        vertical-align: top;\n",
       "    }\n",
       "\n",
       "    .dataframe thead th {\n",
       "        text-align: right;\n",
       "    }\n",
       "</style>\n",
       "<table border=\"1\" class=\"dataframe\">\n",
       "  <thead>\n",
       "    <tr style=\"text-align: right;\">\n",
       "      <th></th>\n",
       "      <th>kategori_id</th>\n",
       "      <th>tarif_adi</th>\n",
       "      <th>tarif_url</th>\n",
       "      <th>profil_adi</th>\n",
       "      <th>kayit_ay</th>\n",
       "      <th>tarif_sayisi</th>\n",
       "      <th>takipci</th>\n",
       "      <th>takip</th>\n",
       "      <th>eslesen_sehir</th>\n",
       "    </tr>\n",
       "  </thead>\n",
       "  <tbody>\n",
       "    <tr>\n",
       "      <th>0</th>\n",
       "      <td>1</td>\n",
       "      <td>Çiğ Köfte</td>\n",
       "      <td>https://www.nefisyemektarifleri.com/cig-kofte-...</td>\n",
       "      <td>eminezeynep58</td>\n",
       "      <td>96.0</td>\n",
       "      <td>9.0</td>\n",
       "      <td>3.0</td>\n",
       "      <td>1.0</td>\n",
       "      <td>Sivas</td>\n",
       "    </tr>\n",
       "    <tr>\n",
       "      <th>1</th>\n",
       "      <td>1</td>\n",
       "      <td>Orjinal Çiğköfte</td>\n",
       "      <td>https://www.nefisyemektarifleri.com/orjinal-ci...</td>\n",
       "      <td>bircan79</td>\n",
       "      <td>138.0</td>\n",
       "      <td>919.0</td>\n",
       "      <td>17684.0</td>\n",
       "      <td>9.0</td>\n",
       "      <td>Kilis</td>\n",
       "    </tr>\n",
       "    <tr>\n",
       "      <th>2</th>\n",
       "      <td>1</td>\n",
       "      <td>Etli Urfa Çiğköftesi</td>\n",
       "      <td>https://www.nefisyemektarifleri.com/etli-urfa-...</td>\n",
       "      <td>burcintrs</td>\n",
       "      <td>72.0</td>\n",
       "      <td>212.0</td>\n",
       "      <td>288.0</td>\n",
       "      <td>73.0</td>\n",
       "      <td>Ankara</td>\n",
       "    </tr>\n",
       "    <tr>\n",
       "      <th>3</th>\n",
       "      <td>1</td>\n",
       "      <td>Hakiki Çiğköfte</td>\n",
       "      <td>https://www.nefisyemektarifleri.com/hakiki-cig...</td>\n",
       "      <td>mervisteyze</td>\n",
       "      <td>55.0</td>\n",
       "      <td>25.0</td>\n",
       "      <td>64.0</td>\n",
       "      <td>0.0</td>\n",
       "      <td>İstanbul</td>\n",
       "    </tr>\n",
       "    <tr>\n",
       "      <th>4</th>\n",
       "      <td>1</td>\n",
       "      <td>Çiğ Köfte (Etli)</td>\n",
       "      <td>https://www.nefisyemektarifleri.com/cig-kofte-...</td>\n",
       "      <td>iugurchef</td>\n",
       "      <td>57.0</td>\n",
       "      <td>81.0</td>\n",
       "      <td>939.0</td>\n",
       "      <td>4.0</td>\n",
       "      <td>İstanbul</td>\n",
       "    </tr>\n",
       "  </tbody>\n",
       "</table>\n",
       "</div>"
      ]
     },
     "execution_count": 40,
     "metadata": {},
     "output_type": "execute_result"
    }
   ],
   "execution_count": 40
  },
  {
   "metadata": {
    "ExecuteTime": {
     "end_time": "2025-06-29T11:43:00.792097Z",
     "start_time": "2025-06-29T11:43:00.745331Z"
    }
   },
   "cell_type": "code",
   "source": "df.info()",
   "id": "62eb099ae746480c",
   "outputs": [
    {
     "name": "stdout",
     "output_type": "stream",
     "text": [
      "<class 'pandas.core.frame.DataFrame'>\n",
      "RangeIndex: 321312 entries, 0 to 321311\n",
      "Data columns (total 9 columns):\n",
      " #   Column         Non-Null Count   Dtype  \n",
      "---  ------         --------------   -----  \n",
      " 0   kategori_id    321312 non-null  int64  \n",
      " 1   tarif_adi      321312 non-null  object \n",
      " 2   tarif_url      321312 non-null  object \n",
      " 3   profil_adi     321312 non-null  object \n",
      " 4   kayit_ay       321312 non-null  float64\n",
      " 5   tarif_sayisi   321293 non-null  float64\n",
      " 6   takipci        321312 non-null  float64\n",
      " 7   takip          321312 non-null  float64\n",
      " 8   eslesen_sehir  321312 non-null  object \n",
      "dtypes: float64(4), int64(1), object(4)\n",
      "memory usage: 22.1+ MB\n"
     ]
    }
   ],
   "execution_count": 42
  },
  {
   "metadata": {
    "ExecuteTime": {
     "end_time": "2025-06-29T11:43:03.121432Z",
     "start_time": "2025-06-29T11:43:03.040300Z"
    }
   },
   "cell_type": "code",
   "source": "df.describe()",
   "id": "91f2a1cc0213472e",
   "outputs": [
    {
     "data": {
      "text/plain": [
       "         kategori_id       kayit_ay   tarif_sayisi        takipci  \\\n",
       "count  321312.000000  321312.000000  321293.000000  321312.000000   \n",
       "mean       42.052749      90.096971     117.946883     803.542759   \n",
       "std        18.509044      31.216590     167.334459    3013.613463   \n",
       "min         1.000000       0.000000       1.000000       0.000000   \n",
       "25%        25.000000      65.000000      19.000000      27.000000   \n",
       "50%        41.000000      92.000000      52.000000      92.000000   \n",
       "75%        59.000000     116.000000     146.000000     375.000000   \n",
       "max        68.000000     213.000000    1363.000000   48908.000000   \n",
       "\n",
       "               takip  \n",
       "count  321312.000000  \n",
       "mean       80.322917  \n",
       "std       472.792846  \n",
       "min         0.000000  \n",
       "25%         4.000000  \n",
       "50%        12.000000  \n",
       "75%        35.000000  \n",
       "max     16072.000000  "
      ],
      "text/html": [
       "<div>\n",
       "<style scoped>\n",
       "    .dataframe tbody tr th:only-of-type {\n",
       "        vertical-align: middle;\n",
       "    }\n",
       "\n",
       "    .dataframe tbody tr th {\n",
       "        vertical-align: top;\n",
       "    }\n",
       "\n",
       "    .dataframe thead th {\n",
       "        text-align: right;\n",
       "    }\n",
       "</style>\n",
       "<table border=\"1\" class=\"dataframe\">\n",
       "  <thead>\n",
       "    <tr style=\"text-align: right;\">\n",
       "      <th></th>\n",
       "      <th>kategori_id</th>\n",
       "      <th>kayit_ay</th>\n",
       "      <th>tarif_sayisi</th>\n",
       "      <th>takipci</th>\n",
       "      <th>takip</th>\n",
       "    </tr>\n",
       "  </thead>\n",
       "  <tbody>\n",
       "    <tr>\n",
       "      <th>count</th>\n",
       "      <td>321312.000000</td>\n",
       "      <td>321312.000000</td>\n",
       "      <td>321293.000000</td>\n",
       "      <td>321312.000000</td>\n",
       "      <td>321312.000000</td>\n",
       "    </tr>\n",
       "    <tr>\n",
       "      <th>mean</th>\n",
       "      <td>42.052749</td>\n",
       "      <td>90.096971</td>\n",
       "      <td>117.946883</td>\n",
       "      <td>803.542759</td>\n",
       "      <td>80.322917</td>\n",
       "    </tr>\n",
       "    <tr>\n",
       "      <th>std</th>\n",
       "      <td>18.509044</td>\n",
       "      <td>31.216590</td>\n",
       "      <td>167.334459</td>\n",
       "      <td>3013.613463</td>\n",
       "      <td>472.792846</td>\n",
       "    </tr>\n",
       "    <tr>\n",
       "      <th>min</th>\n",
       "      <td>1.000000</td>\n",
       "      <td>0.000000</td>\n",
       "      <td>1.000000</td>\n",
       "      <td>0.000000</td>\n",
       "      <td>0.000000</td>\n",
       "    </tr>\n",
       "    <tr>\n",
       "      <th>25%</th>\n",
       "      <td>25.000000</td>\n",
       "      <td>65.000000</td>\n",
       "      <td>19.000000</td>\n",
       "      <td>27.000000</td>\n",
       "      <td>4.000000</td>\n",
       "    </tr>\n",
       "    <tr>\n",
       "      <th>50%</th>\n",
       "      <td>41.000000</td>\n",
       "      <td>92.000000</td>\n",
       "      <td>52.000000</td>\n",
       "      <td>92.000000</td>\n",
       "      <td>12.000000</td>\n",
       "    </tr>\n",
       "    <tr>\n",
       "      <th>75%</th>\n",
       "      <td>59.000000</td>\n",
       "      <td>116.000000</td>\n",
       "      <td>146.000000</td>\n",
       "      <td>375.000000</td>\n",
       "      <td>35.000000</td>\n",
       "    </tr>\n",
       "    <tr>\n",
       "      <th>max</th>\n",
       "      <td>68.000000</td>\n",
       "      <td>213.000000</td>\n",
       "      <td>1363.000000</td>\n",
       "      <td>48908.000000</td>\n",
       "      <td>16072.000000</td>\n",
       "    </tr>\n",
       "  </tbody>\n",
       "</table>\n",
       "</div>"
      ]
     },
     "execution_count": 43,
     "metadata": {},
     "output_type": "execute_result"
    }
   ],
   "execution_count": 43
  },
  {
   "metadata": {
    "ExecuteTime": {
     "end_time": "2025-06-29T11:43:32.199744Z",
     "start_time": "2025-06-29T11:43:32.049383Z"
    }
   },
   "cell_type": "code",
   "source": [
    "missing_counts = df.isna().sum()\n",
    "print(missing_counts)\n",
    "df_clean = df.dropna(subset=['eslesen_sehir'])\n",
    "df_clean['takipci'] = df_clean['takipci'].fillna(df_clean['takipci'].median())\n",
    "df_clean['takip'] = df_clean['takip'].fillna(df_clean['takip'].median())\n",
    "df_clean['tarif_sayisi'] = df_clean['tarif_sayisi'].fillna(df_clean['tarif_sayisi'].median())\n",
    "\n",
    "missing_counts = df_clean.isna().sum()\n",
    "print(missing_counts)\n"
   ],
   "id": "efb696de3cbdbe68",
   "outputs": [
    {
     "name": "stdout",
     "output_type": "stream",
     "text": [
      "kategori_id       0\n",
      "tarif_adi         0\n",
      "tarif_url         0\n",
      "profil_adi        0\n",
      "kayit_ay          0\n",
      "tarif_sayisi     19\n",
      "takipci           0\n",
      "takip             0\n",
      "eslesen_sehir     0\n",
      "dtype: int64\n",
      "kategori_id      0\n",
      "tarif_adi        0\n",
      "tarif_url        0\n",
      "profil_adi       0\n",
      "kayit_ay         0\n",
      "tarif_sayisi     0\n",
      "takipci          0\n",
      "takip            0\n",
      "eslesen_sehir    0\n",
      "dtype: int64\n"
     ]
    }
   ],
   "execution_count": 45
  },
  {
   "metadata": {
    "ExecuteTime": {
     "end_time": "2025-06-29T11:43:39.927369Z",
     "start_time": "2025-06-29T11:43:39.818468Z"
    }
   },
   "cell_type": "code",
   "source": [
    "print(df_clean.dtypes)\n",
    "categorical_cols = ['kategori_id', 'tarif_adi', 'profil_adi', 'eslesen_sehir']\n",
    "for col in categorical_cols:\n",
    "    print(f\"{col} unique values: {df_clean[col].nunique()}\")"
   ],
   "id": "f43b427802518caa",
   "outputs": [
    {
     "name": "stdout",
     "output_type": "stream",
     "text": [
      "kategori_id        int64\n",
      "tarif_adi         object\n",
      "tarif_url         object\n",
      "profil_adi        object\n",
      "kayit_ay         float64\n",
      "tarif_sayisi     float64\n",
      "takipci          float64\n",
      "takip            float64\n",
      "eslesen_sehir     object\n",
      "dtype: object\n",
      "kategori_id unique values: 66\n",
      "tarif_adi unique values: 172640\n",
      "profil_adi unique values: 21807\n",
      "eslesen_sehir unique values: 81\n"
     ]
    }
   ],
   "execution_count": 47
  },
  {
   "metadata": {
    "ExecuteTime": {
     "end_time": "2025-06-29T11:43:57.467312Z",
     "start_time": "2025-06-29T11:43:57.291758Z"
    }
   },
   "cell_type": "code",
   "source": [
    "numeric_cols = ['kayit_ay', 'tarif_sayisi', 'takipci', 'takip']\n",
    "correlation_matrix = df_clean[numeric_cols].corr()\n",
    "\n",
    "# Grafik oluştur ve kaydet\n",
    "plt.figure(figsize=(6, 5))\n",
    "sns.heatmap(\n",
    "    correlation_matrix,\n",
    "    annot=True,\n",
    "    cmap='coolwarm',\n",
    "    vmin=-1,\n",
    "    vmax=1,\n",
    "    cbar=False,\n",
    "    square=True,\n",
    "    xticklabels=True,\n",
    "    yticklabels=True\n",
    ")\n",
    "plt.title(\"Correlation Matrix\", fontsize=12)\n",
    "plt.tight_layout()\n",
    "plt.savefig('..//correlation_heatmap.png', dpi=300)\n",
    "plt.close()\n",
    "\n",
    "print(\"✅ Korelasyon ısı haritası 'correlation_heatmap.png' olarak kaydedildi.\")\n"
   ],
   "id": "cde21b3ff6d00f10",
   "outputs": [
    {
     "name": "stdout",
     "output_type": "stream",
     "text": [
      "✅ Korelasyon ısı haritası 'correlation_heatmap.png' olarak kaydedildi.\n"
     ]
    }
   ],
   "execution_count": 48
  },
  {
   "metadata": {
    "ExecuteTime": {
     "end_time": "2025-06-29T11:44:05.071363Z",
     "start_time": "2025-06-29T11:44:05.044208Z"
    }
   },
   "cell_type": "code",
   "source": [
    "cov_matrix = df_clean[numeric_cols].cov()\n",
    "print(cov_matrix)"
   ],
   "id": "1a6183323e12c9ef",
   "outputs": [
    {
     "name": "stdout",
     "output_type": "stream",
     "text": [
      "                  kayit_ay   tarif_sayisi       takipci          takip\n",
      "kayit_ay        974.475504     679.261698  1.418556e+04    -579.426709\n",
      "tarif_sayisi    679.261698   27999.422514  2.911081e+05    4584.577792\n",
      "takipci       14185.560802  291108.109969  9.081866e+06   79858.434162\n",
      "takip          -579.426709    4584.577792  7.985843e+04  223533.075613\n"
     ]
    }
   ],
   "execution_count": 49
  },
  {
   "metadata": {
    "ExecuteTime": {
     "end_time": "2025-06-29T11:46:18.758071Z",
     "start_time": "2025-06-29T11:46:17.980668Z"
    }
   },
   "cell_type": "code",
   "source": [
    "df_clean[numeric_cols].hist(bins=30, figsize=(10,6))\n",
    "plt.tight_layout()\n",
    "plt.savefig('..//histogram_numeric.png', dpi=300)\n",
    "plt.close()\n",
    "\n",
    "print(\"Histogram grafiği 'histogram_numeric.png' olarak kaydedildi.\")\n"
   ],
   "id": "de3e2121741e8cd4",
   "outputs": [
    {
     "name": "stdout",
     "output_type": "stream",
     "text": [
      "Histogram grafiği 'histogram_numeric.png' olarak kaydedildi.\n"
     ]
    }
   ],
   "execution_count": 53
  },
  {
   "metadata": {
    "ExecuteTime": {
     "end_time": "2025-06-29T11:47:18.753554Z",
     "start_time": "2025-06-29T11:47:16.129798Z"
    }
   },
   "cell_type": "code",
   "source": [
    "numeric_cols = ['kayit_ay', 'tarif_sayisi', 'takipci', 'takip']\n",
    "sns.set_theme(style='whitegrid')\n",
    "\n",
    "plt.figure(figsize=(10, 6))\n",
    "df_melted = df_clean[numeric_cols].melt(var_name='Değişken', value_name='Değer')\n",
    "\n",
    "sns.boxplot(x='Değişken', y='Değer', data=df_melted)\n",
    "\n",
    "plt.title('Boxplots of Numeric Variables', fontsize=14)\n",
    "plt.xlabel('')\n",
    "plt.ylabel('Value')\n",
    "plt.tight_layout()\n",
    "\n",
    "plt.savefig('..//boxplots_numeric.png', dpi=300)\n",
    "plt.close()\n",
    "\n",
    "print(\"📦 Boxplot grafiği 'boxplots_numeric.png' olarak kaydedildi.\")\n"
   ],
   "id": "b12aa4edc1176256",
   "outputs": [
    {
     "name": "stdout",
     "output_type": "stream",
     "text": [
      "📦 Boxplot grafiği 'boxplots_numeric.png' olarak kaydedildi.\n"
     ]
    }
   ],
   "execution_count": 55
  },
  {
   "metadata": {
    "ExecuteTime": {
     "end_time": "2025-06-29T11:50:26.655746Z",
     "start_time": "2025-06-29T11:50:23.726546Z"
    }
   },
   "cell_type": "code",
   "source": [
    "df_log = df_clean.copy()\n",
    "for col in numeric_cols:\n",
    "    df_log[col+'_log'] = np.log1p(df_log[col])\n",
    "\n",
    "# Log dönüşümlü veriler için boxplot\n",
    "plt.figure(figsize=(10,6))\n",
    "sns.boxplot(data=df_log[[col+'_log' for col in numeric_cols]], palette=\"Set2\")\n",
    "plt.title('Box Plot of Log-Transformed Numeric Variables')\n",
    "plt.savefig('..//boxplot_log_transformed.png')\n",
    "plt.close()"
   ],
   "id": "21dcadd425dd050e",
   "outputs": [],
   "execution_count": 59
  },
  {
   "metadata": {
    "ExecuteTime": {
     "end_time": "2025-06-29T11:57:36.802605Z",
     "start_time": "2025-06-29T11:57:36.186762Z"
    }
   },
   "cell_type": "code",
   "source": [
    "plt.figure(figsize=(12,6))\n",
    "sns.countplot(y='eslesen_sehir', data=df_clean, order=df_clean['eslesen_sehir'].value_counts().index[:20])\n",
    "plt.title('Top 20 Cities by User Count')\n",
    "plt.ylabel('City')\n",
    "plt.savefig('..//Top 20 Cities.png', dpi=300)\n",
    "plt.close()"
   ],
   "id": "4a6e6977d257d6e5",
   "outputs": [],
   "execution_count": 64
  },
  {
   "metadata": {
    "ExecuteTime": {
     "end_time": "2025-06-29T11:51:45.355199Z",
     "start_time": "2025-06-29T11:51:09.357643Z"
    }
   },
   "cell_type": "code",
   "source": [
    "sns.pairplot(df_clean[numeric_cols])\n",
    "plt.suptitle(\"Scatter Plot Matrix of Numeric Variables\", y=1.02)\n",
    "plt.savefig(\"..//scatter_plot_matrix.png\")\n",
    "plt.close()"
   ],
   "id": "add3f094feb00ec3",
   "outputs": [],
   "execution_count": 60
  },
  {
   "metadata": {},
   "cell_type": "markdown",
   "source": "kategorilerin eklenmesi",
   "id": "f14a2995e6eb5e0d"
  },
  {
   "metadata": {
    "ExecuteTime": {
     "end_time": "2025-06-29T11:57:58.693077Z",
     "start_time": "2025-06-29T11:57:58.620693Z"
    }
   },
   "cell_type": "code",
   "source": [
    "categories_clean = pd.read_csv('..\\\\datas\\\\categories_clean.csv')\n",
    "df_merged = df_clean.merge(categories_clean[['kategori_id', 'ana_kategori', 'alt_kategori']],\n",
    "                           on='kategori_id',\n",
    "                           how='left')\n",
    "\n",
    "# Sonucu kontrol etmek için ilk 5 satırı yazdır\n",
    "print(df_merged.head())"
   ],
   "id": "dc5433ee12e4703",
   "outputs": [
    {
     "name": "stdout",
     "output_type": "stream",
     "text": [
      "   kategori_id             tarif_adi  \\\n",
      "0            1             Çiğ Köfte   \n",
      "1            1      Orjinal Çiğköfte   \n",
      "2            1  Etli Urfa Çiğköftesi   \n",
      "3            1       Hakiki Çiğköfte   \n",
      "4            1      Çiğ Köfte (Etli)   \n",
      "\n",
      "                                           tarif_url     profil_adi  kayit_ay  \\\n",
      "0  https://www.nefisyemektarifleri.com/cig-kofte-...  eminezeynep58      96.0   \n",
      "1  https://www.nefisyemektarifleri.com/orjinal-ci...       bircan79     138.0   \n",
      "2  https://www.nefisyemektarifleri.com/etli-urfa-...      burcintrs      72.0   \n",
      "3  https://www.nefisyemektarifleri.com/hakiki-cig...    mervisteyze      55.0   \n",
      "4  https://www.nefisyemektarifleri.com/cig-kofte-...      iugurchef      57.0   \n",
      "\n",
      "   tarif_sayisi  takipci  takip eslesen_sehir ana_kategori    alt_kategori  \n",
      "0           9.0      3.0    1.0         Sivas  aperatifler  etli-cig-kofte  \n",
      "1         919.0  17684.0    9.0         Kilis  aperatifler  etli-cig-kofte  \n",
      "2         212.0    288.0   73.0        Ankara  aperatifler  etli-cig-kofte  \n",
      "3          25.0     64.0    0.0      İstanbul  aperatifler  etli-cig-kofte  \n",
      "4          81.0    939.0    4.0      İstanbul  aperatifler  etli-cig-kofte  \n"
     ]
    }
   ],
   "execution_count": 65
  },
  {
   "metadata": {
    "ExecuteTime": {
     "end_time": "2025-06-29T12:16:26.644598Z",
     "start_time": "2025-06-29T12:16:24.830195Z"
    }
   },
   "cell_type": "code",
   "source": [
    "df_merged.info()\n",
    "df_merged.to_csv(\"..\\\\datas\\\\CullinaryMapDataset.csv\", index=False)"
   ],
   "id": "992fd93ac5476a35",
   "outputs": [
    {
     "name": "stdout",
     "output_type": "stream",
     "text": [
      "<class 'pandas.core.frame.DataFrame'>\n",
      "RangeIndex: 321312 entries, 0 to 321311\n",
      "Data columns (total 11 columns):\n",
      " #   Column         Non-Null Count   Dtype  \n",
      "---  ------         --------------   -----  \n",
      " 0   kategori_id    321312 non-null  int64  \n",
      " 1   tarif_adi      321312 non-null  object \n",
      " 2   tarif_url      321312 non-null  object \n",
      " 3   profil_adi     321312 non-null  object \n",
      " 4   kayit_ay       321312 non-null  float64\n",
      " 5   tarif_sayisi   321312 non-null  float64\n",
      " 6   takipci        321312 non-null  float64\n",
      " 7   takip          321312 non-null  float64\n",
      " 8   eslesen_sehir  321312 non-null  object \n",
      " 9   ana_kategori   321312 non-null  object \n",
      " 10  alt_kategori   321312 non-null  object \n",
      "dtypes: float64(4), int64(1), object(6)\n",
      "memory usage: 27.0+ MB\n"
     ]
    }
   ],
   "execution_count": 82
  },
  {
   "metadata": {
    "ExecuteTime": {
     "end_time": "2025-06-29T12:03:06.057058Z",
     "start_time": "2025-06-29T12:03:05.232283Z"
    }
   },
   "cell_type": "code",
   "source": [
    "ana_kategori_counts = df_merged['ana_kategori'].value_counts()\n",
    "alt_kategori_counts = df_merged['alt_kategori'].value_counts()\n",
    "\n",
    "ana_kategori_counts.plot(kind='bar', figsize=(12,8), title='Ana Kategori Bazında Tarif Sayısı')\n",
    "plt.xlabel('Ana Kategori')\n",
    "plt.ylabel('Tarif Sayısı')\n",
    "plt.xticks(rotation=45)\n",
    "plt.tight_layout()  # <-- Bu satırı ekle\n",
    "plt.savefig('../ana_kategori_count.png', dpi=300)\n",
    "plt.close()\n",
    "\n",
    "alt_kategori_counts.head(20).plot(kind='bar', figsize=(12,8), title='Alt Kategori Bazında Tarif Sayısı (İlk 20)')\n",
    "plt.xlabel('Alt Kategori')\n",
    "plt.ylabel('Tarif Sayısı')\n",
    "plt.xticks(rotation=90)\n",
    "plt.tight_layout()  # <-- Bu satırı ekle\n",
    "plt.savefig('../alt_kategori_count.png', dpi=300)\n",
    "plt.close()"
   ],
   "id": "e7a49bd2bd6c1421",
   "outputs": [],
   "execution_count": 75
  },
  {
   "metadata": {
    "ExecuteTime": {
     "end_time": "2025-06-29T12:02:01.026480Z",
     "start_time": "2025-06-29T12:02:00.068895Z"
    }
   },
   "cell_type": "code",
   "source": [
    "kategori_avg_tarif = df_merged.groupby('ana_kategori')['tarif_sayisi'].mean().sort_values(ascending=False)\n",
    "print(kategori_avg_tarif)\n",
    "plt.figure(figsize=(12,6))\n",
    "sns.boxplot(x='ana_kategori', y='tarif_sayisi', data=df_merged)\n",
    "plt.title('Ana Kategori Bazında Tarif Sayısı Dağılımı')\n",
    "plt.xticks(rotation=45)\n",
    "plt.savefig('..//ana_kategori_avg_tarif.png', dpi=300)\n",
    "plt.close()\n"
   ],
   "id": "3271182b135bdda4",
   "outputs": [
    {
     "name": "stdout",
     "output_type": "stream",
     "text": [
      "ana_kategori\n",
      "sandvic               156.135965\n",
      "kahvaltılık           154.223857\n",
      "diger                 146.265783\n",
      "salata-meze-kanepe    141.243352\n",
      "corba                 133.982464\n",
      "et-yemekleri          128.421762\n",
      "bakliyat_yemekleri    127.153750\n",
      "pilav                 127.088539\n",
      "sebze-yemekleri       123.217322\n",
      "hizli-yemekler        122.990774\n",
      "aperatifler           120.616969\n",
      "dolma-sarma           117.387527\n",
      "hamurisi              116.229681\n",
      "makarna               112.312078\n",
      "icecek                110.091598\n",
      "kurabiye              109.072395\n",
      "tatli                 102.383898\n",
      "Name: tarif_sayisi, dtype: float64\n"
     ]
    }
   ],
   "execution_count": 72
  },
  {
   "metadata": {
    "ExecuteTime": {
     "end_time": "2025-06-29T12:08:17.637007Z",
     "start_time": "2025-06-29T12:08:17.502646Z"
    }
   },
   "cell_type": "code",
   "source": [
    "user_categories = df_merged.groupby(['profil_adi', 'ana_kategori']).size().reset_index(name='tarif_sayisi')\n",
    "\n",
    "# 2. Her kullanıcı için kaç farklı ana kategoride tarif var?\n",
    "user_category_counts = user_categories.groupby('profil_adi')['ana_kategori'].nunique().reset_index(name='kategori_sayisi')\n",
    "\n",
    "# 3. Sadece 1 kategoride tarif giren kullanıcılar\n",
    "single_category_users = user_category_counts[user_category_counts['kategori_sayisi'] == 1]['profil_adi']\n",
    "\n",
    "# 4. Bu kullanıcıların hangi ana kategoride tarif girdiğini bul\n",
    "single_category_details = user_categories[user_categories['profil_adi'].isin(single_category_users)]\n",
    "\n",
    "# 5. Her ana kategori için kaç kullanıcı sadece o kategoriye ait tarif paylaşmış?\n",
    "result = single_category_details.groupby('ana_kategori')['profil_adi'].nunique().reset_index(name='kullanici_sayisi')\n",
    "\n",
    "# Sonucu görelim\n",
    "print(result.sort_values(by='kullanici_sayisi', ascending=False))\n"
   ],
   "id": "180797f2ebd91288",
   "outputs": [
    {
     "name": "stdout",
     "output_type": "stream",
     "text": [
      "          ana_kategori  kullanici_sayisi\n",
      "16               tatli              2543\n",
      "6             hamurisi               783\n",
      "10            kurabiye               486\n",
      "5         et-yemekleri               390\n",
      "15     sebze-yemekleri               226\n",
      "13  salata-meze-kanepe               191\n",
      "2                corba               189\n",
      "9          kahvaltılık               146\n",
      "8               icecek               130\n",
      "3                diger               116\n",
      "11             makarna               110\n",
      "0          aperatifler               110\n",
      "12               pilav                55\n",
      "1   bakliyat_yemekleri                35\n",
      "4          dolma-sarma                35\n",
      "7       hizli-yemekler                11\n",
      "14             sandvic                 5\n"
     ]
    }
   ],
   "execution_count": 77
  },
  {
   "metadata": {
    "ExecuteTime": {
     "end_time": "2025-06-29T12:13:35.102099Z",
     "start_time": "2025-06-29T12:13:34.981972Z"
    }
   },
   "cell_type": "code",
   "source": [
    "user_category_counts = df_merged.groupby('profil_adi').agg(\n",
    "    unique_ana_kategori = ('ana_kategori', 'nunique'),\n",
    "    unique_alt_kategori = ('alt_kategori', 'nunique'),\n",
    "    tarif_sayisi = ('tarif_adi', 'count')\n",
    ").reset_index()\n",
    "\n",
    "print(user_category_counts.head())"
   ],
   "id": "b7f519e1114ca31e",
   "outputs": [
    {
     "name": "stdout",
     "output_type": "stream",
     "text": [
      "    profil_adi  unique_ana_kategori  unique_alt_kategori  tarif_sayisi\n",
      "0      00hacer                    7                    9            14\n",
      "1   00handan00                    3                    4             4\n",
      "2      00kbr00                    7                    8            10\n",
      "3  0144malatya                    9                   18            21\n",
      "4        01adn                   10                   27            93\n"
     ]
    }
   ],
   "execution_count": 79
  },
  {
   "metadata": {
    "ExecuteTime": {
     "end_time": "2025-06-29T12:38:15.693676Z",
     "start_time": "2025-06-29T12:38:15.596960Z"
    }
   },
   "cell_type": "code",
   "source": "df_merged.describe()",
   "id": "a87244879c6ecb4c",
   "outputs": [
    {
     "data": {
      "text/plain": [
       "         kategori_id       kayit_ay   tarif_sayisi        takipci  \\\n",
       "count  321312.000000  321312.000000  321312.000000  321312.000000   \n",
       "mean       42.052749      90.096971     117.942984     803.542759   \n",
       "std        18.509044      31.216590     167.330280    3013.613463   \n",
       "min         1.000000       0.000000       1.000000       0.000000   \n",
       "25%        25.000000      65.000000      19.000000      27.000000   \n",
       "50%        41.000000      92.000000      52.000000      92.000000   \n",
       "75%        59.000000     116.000000     146.000000     375.000000   \n",
       "max        68.000000     213.000000    1363.000000   48908.000000   \n",
       "\n",
       "               takip  \n",
       "count  321312.000000  \n",
       "mean       80.322917  \n",
       "std       472.792846  \n",
       "min         0.000000  \n",
       "25%         4.000000  \n",
       "50%        12.000000  \n",
       "75%        35.000000  \n",
       "max     16072.000000  "
      ],
      "text/html": [
       "<div>\n",
       "<style scoped>\n",
       "    .dataframe tbody tr th:only-of-type {\n",
       "        vertical-align: middle;\n",
       "    }\n",
       "\n",
       "    .dataframe tbody tr th {\n",
       "        vertical-align: top;\n",
       "    }\n",
       "\n",
       "    .dataframe thead th {\n",
       "        text-align: right;\n",
       "    }\n",
       "</style>\n",
       "<table border=\"1\" class=\"dataframe\">\n",
       "  <thead>\n",
       "    <tr style=\"text-align: right;\">\n",
       "      <th></th>\n",
       "      <th>kategori_id</th>\n",
       "      <th>kayit_ay</th>\n",
       "      <th>tarif_sayisi</th>\n",
       "      <th>takipci</th>\n",
       "      <th>takip</th>\n",
       "    </tr>\n",
       "  </thead>\n",
       "  <tbody>\n",
       "    <tr>\n",
       "      <th>count</th>\n",
       "      <td>321312.000000</td>\n",
       "      <td>321312.000000</td>\n",
       "      <td>321312.000000</td>\n",
       "      <td>321312.000000</td>\n",
       "      <td>321312.000000</td>\n",
       "    </tr>\n",
       "    <tr>\n",
       "      <th>mean</th>\n",
       "      <td>42.052749</td>\n",
       "      <td>90.096971</td>\n",
       "      <td>117.942984</td>\n",
       "      <td>803.542759</td>\n",
       "      <td>80.322917</td>\n",
       "    </tr>\n",
       "    <tr>\n",
       "      <th>std</th>\n",
       "      <td>18.509044</td>\n",
       "      <td>31.216590</td>\n",
       "      <td>167.330280</td>\n",
       "      <td>3013.613463</td>\n",
       "      <td>472.792846</td>\n",
       "    </tr>\n",
       "    <tr>\n",
       "      <th>min</th>\n",
       "      <td>1.000000</td>\n",
       "      <td>0.000000</td>\n",
       "      <td>1.000000</td>\n",
       "      <td>0.000000</td>\n",
       "      <td>0.000000</td>\n",
       "    </tr>\n",
       "    <tr>\n",
       "      <th>25%</th>\n",
       "      <td>25.000000</td>\n",
       "      <td>65.000000</td>\n",
       "      <td>19.000000</td>\n",
       "      <td>27.000000</td>\n",
       "      <td>4.000000</td>\n",
       "    </tr>\n",
       "    <tr>\n",
       "      <th>50%</th>\n",
       "      <td>41.000000</td>\n",
       "      <td>92.000000</td>\n",
       "      <td>52.000000</td>\n",
       "      <td>92.000000</td>\n",
       "      <td>12.000000</td>\n",
       "    </tr>\n",
       "    <tr>\n",
       "      <th>75%</th>\n",
       "      <td>59.000000</td>\n",
       "      <td>116.000000</td>\n",
       "      <td>146.000000</td>\n",
       "      <td>375.000000</td>\n",
       "      <td>35.000000</td>\n",
       "    </tr>\n",
       "    <tr>\n",
       "      <th>max</th>\n",
       "      <td>68.000000</td>\n",
       "      <td>213.000000</td>\n",
       "      <td>1363.000000</td>\n",
       "      <td>48908.000000</td>\n",
       "      <td>16072.000000</td>\n",
       "    </tr>\n",
       "  </tbody>\n",
       "</table>\n",
       "</div>"
      ]
     },
     "execution_count": 85,
     "metadata": {},
     "output_type": "execute_result"
    }
   ],
   "execution_count": 85
  }
 ],
 "metadata": {
  "kernelspec": {
   "display_name": "Python 3",
   "language": "python",
   "name": "python3"
  },
  "language_info": {
   "codemirror_mode": {
    "name": "ipython",
    "version": 2
   },
   "file_extension": ".py",
   "mimetype": "text/x-python",
   "name": "python",
   "nbconvert_exporter": "python",
   "pygments_lexer": "ipython2",
   "version": "2.7.6"
  }
 },
 "nbformat": 4,
 "nbformat_minor": 5
}
