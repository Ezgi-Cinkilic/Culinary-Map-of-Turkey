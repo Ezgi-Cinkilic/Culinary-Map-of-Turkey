{
 "cells": [
  {
   "metadata": {
    "ExecuteTime": {
     "end_time": "2025-07-28T12:48:50.280019Z",
     "start_time": "2025-07-28T12:48:48.978169Z"
    }
   },
   "cell_type": "code",
   "source": [
    "import pandas as pd\n",
    "import matplotlib.pyplot as plt"
   ],
   "id": "ffc2a2e92c5dd4d5",
   "outputs": [],
   "execution_count": 1
  },
  {
   "metadata": {
    "ExecuteTime": {
     "end_time": "2025-07-28T12:48:53.546691Z",
     "start_time": "2025-07-28T12:48:52.535244Z"
    }
   },
   "cell_type": "code",
   "source": "df = pd.read_csv('..\\\\datas\\\\CullinaryMapDataset.csv')",
   "id": "9e0992ccf32225ae",
   "outputs": [],
   "execution_count": 2
  },
  {
   "metadata": {
    "ExecuteTime": {
     "end_time": "2025-07-28T12:48:53.692866Z",
     "start_time": "2025-07-28T12:48:53.639792Z"
    }
   },
   "cell_type": "code",
   "source": [
    "# Her şehir-alt kategori kombinasyonunda kaç tarif var\n",
    "pivot = df.groupby([\"eslesen_sehir\", \"alt_kategori\"]).size().unstack(fill_value=0)\n",
    "\n",
    "# Şehirdeki toplam tarif sayısına göre normalize et\n",
    "pivot_norm = pivot.div(pivot.sum(axis=1), axis=0)"
   ],
   "id": "29fa868b6d446cfb",
   "outputs": [],
   "execution_count": 3
  },
  {
   "metadata": {
    "ExecuteTime": {
     "end_time": "2025-07-28T12:48:55.701776Z",
     "start_time": "2025-07-28T12:48:53.772125Z"
    }
   },
   "cell_type": "code",
   "source": [
    "import pandas as pd\n",
    "import matplotlib.pyplot as plt\n",
    "\n",
    "# Şehir başına toplam tarif sayısı\n",
    "city_recipe_counts = df.groupby(\"eslesen_sehir\").size()\n",
    "\n",
    "# Şehir başına benzersiz kullanıcı sayısı\n",
    "city_user_counts = df.groupby(\"eslesen_sehir\")[\"profil_adi\"].nunique()\n",
    "\n",
    "# Histogram çizimi\n",
    "fig, axes = plt.subplots(1, 2, figsize=(14, 5))\n",
    "\n",
    "# Recipe count histogram\n",
    "axes[0].hist(city_recipe_counts, bins=range(0, city_recipe_counts.max()+50, 50), color=\"skyblue\", edgecolor=\"black\")\n",
    "axes[0].set_title(\"Distribution of Total Recipes per City\")\n",
    "axes[0].set_xlabel(\"Number of Recipes\")\n",
    "axes[0].set_ylabel(\"Number of Cities\")\n",
    "\n",
    "# User count histogram\n",
    "axes[1].hist(city_user_counts, bins=range(0, city_user_counts.max()+50, 50), color=\"lightgreen\", edgecolor=\"black\")\n",
    "axes[1].set_title(\"Distribution of Unique Users per City\")\n",
    "axes[1].set_xlabel(\"Number of Users\")\n",
    "axes[1].set_ylabel(\"Number of Cities\")\n",
    "\n",
    "plt.tight_layout()\n",
    "plt.savefig('..\\\\graphs\\\\city_recipe_user_histograms.png', dpi=300)\n",
    "plt.close()\n"
   ],
   "id": "8b145a7833868b99",
   "outputs": [],
   "execution_count": 4
  },
  {
   "metadata": {
    "ExecuteTime": {
     "end_time": "2025-07-28T12:48:56.563273Z",
     "start_time": "2025-07-28T12:48:55.734918Z"
    }
   },
   "cell_type": "code",
   "source": [
    "alt_kategori_sehir_sayisi = df.groupby(\"alt_kategori\")[\"eslesen_sehir\"].nunique().sort_values(ascending=False)\n",
    "\n",
    "# Yazdır\n",
    "print(\"Alt kategorilerin geçtiği şehir sayısı:\")\n",
    "print(alt_kategori_sehir_sayisi)\n",
    "\n",
    "# Bar plot çizimi\n",
    "plt.figure(figsize=(12, 6))\n",
    "alt_kategori_sehir_sayisi.plot(kind='bar', color='cornflowerblue', edgecolor='black')\n",
    "plt.title(\"Number of Cities per Alt Category\")\n",
    "plt.xlabel(\"Alt Category\")\n",
    "plt.ylabel(\"Number of Cities\")\n",
    "plt.xticks(rotation=45, ha=\"right\")\n",
    "plt.tight_layout()\n",
    "\n",
    "# Kaydet\n",
    "plt.savefig('..\\\\graphs\\\\alt_category_city_coverage.png', dpi=300)\n",
    "plt.close()"
   ],
   "id": "55f230ad70252a6c",
   "outputs": [
    {
     "name": "stdout",
     "output_type": "stream",
     "text": [
      "Alt kategorilerin geçtiği şehir sayısı:\n",
      "alt_kategori\n",
      "aperatifler             81\n",
      "helva-tatli             81\n",
      "kek                     81\n",
      "kirmizi-et-yemekleri    81\n",
      "kofte                   81\n",
      "                        ..\n",
      "salamura                35\n",
      "kanepe                  35\n",
      "dondurulmus-yemekler    34\n",
      "pekmez                  26\n",
      "etli-cig-kofte          14\n",
      "Name: eslesen_sehir, Length: 65, dtype: int64\n"
     ]
    }
   ],
   "execution_count": 5
  },
  {
   "metadata": {
    "ExecuteTime": {
     "end_time": "2025-07-28T12:48:57.158748Z",
     "start_time": "2025-07-28T12:48:56.588103Z"
    }
   },
   "cell_type": "code",
   "source": [
    "import pandas as pd\n",
    "\n",
    "# Örnek df verisi yüklü olduğunu varsayıyorum\n",
    "\n",
    "# 81 ilde geçmeyen alt kategoriler\n",
    "alt_kategori_sehir_sayisi = df.groupby(\"alt_kategori\")[\"eslesen_sehir\"].nunique()\n",
    "az_sehirde_goren_cats = alt_kategori_sehir_sayisi[alt_kategori_sehir_sayisi < 81].index.tolist()\n",
    "\n",
    "print(\"81 ilde geçmeyen alt kategoriler:\")\n",
    "print(az_sehirde_goren_cats)\n",
    "\n",
    "# Bu alt kategorilerin hangi şehirlerde geçtiğini bul\n",
    "for cat in az_sehirde_goren_cats:\n",
    "    sehirler = df.loc[df[\"alt_kategori\"] == cat, \"eslesen_sehir\"].unique()\n",
    "    print(f\"\\nAlt kategori '{cat}' şu şehirlerde var ({len(sehirler)} şehir):\")\n",
    "    print(sehirler.tolist())\n"
   ],
   "id": "9daf348094cced51",
   "outputs": [
    {
     "name": "stdout",
     "output_type": "stream",
     "text": [
      "81 ilde geçmeyen alt kategoriler:\n",
      "['baharat-yapimi', 'bakliyat_yemekleri', 'balik-deniz-urunleri', 'corek-hamurisi', 'dolma', 'dondurma', 'dondurmali', 'dondurulmus-yemekler', 'donut-tatli', 'durum', 'etli-cig-kofte', 'etsiz-cig-kofte', 'geleneksel-tatlilar', 'hamburger', 'hosaf', 'kanepe', 'kebap', 'kis', 'kis-hazirliklari-diger', 'kizartma', 'komposto', 'krep-hamurisi', 'lokum', 'manti', 'pekmez', 'recel', 'sakatat-yemekleri', 'salamura', 'sandvic', 'sarma', 'sicak', 'sicak-icecekler', 'soguk-icecekler', 'sos', 'sulu-yemek', 'sut-urunleri', 'tart', 'tost', 'tursu']\n",
      "\n",
      "Alt kategori 'baharat-yapimi' şu şehirlerde var (37 şehir):\n",
      "['Ankara', 'Hatay', 'İstanbul', 'Muş', 'Şanlıurfa', 'Aydın', 'İzmir', 'Kahramanmaraş', 'Adana', 'Kayseri', 'Malatya', 'Erzurum', 'Bursa', 'Adıyaman', 'Antalya', 'Diyarbakır', 'Konya', 'Kocaeli', 'Balıkesir', 'Gaziantep', 'Kilis', 'Çanakkale', 'Isparta', 'Gümüşhane', 'Mersin', 'Şırnak', 'Zonguldak', 'Kastamonu', 'Van', 'Batman', 'Bayburt', 'Manisa', 'Afyon', 'Erzincan', 'Ordu', 'Düzce', 'Kütahya']\n",
      "\n",
      "Alt kategori 'bakliyat_yemekleri' şu şehirlerde var (79 şehir):\n",
      "['Kocaeli', 'Mersin', 'İstanbul', 'Ankara', 'Erzincan', 'Samsun', 'Batman', 'İzmir', 'Denizli', 'Erzurum', 'Şanlıurfa', 'Nevşehir', 'Aydın', 'Gaziantep', 'Eskişehir', 'Elazığ', 'Balıkesir', 'Hatay', 'Tokat', 'Konya', 'Adana', 'Yozgat', 'Van', 'Afyon', 'Bursa', 'Adıyaman', 'Karaman', 'Kahramanmaraş', 'Antalya', 'Muş', 'Kayseri', 'Siirt', 'Ordu', 'Tekirdağ', 'Mardin', 'Diyarbakır', 'Trabzon', 'Kütahya', 'Kırıkkale', 'Malatya', 'Manisa', 'Burdur', 'Rize', 'Uşak', 'Çanakkale', 'Sakarya', 'Kastamonu', 'Edirne', 'Şırnak', 'Kars', 'Aksaray', 'Bingöl', 'Artvin', 'Kırklareli', 'Sivas', 'Osmaniye', 'Hakkari', 'Muğla', 'Ağrı', 'Düzce', 'Amasya', 'Kilis', 'Zonguldak', 'Niğde', 'Karabük', 'Çorum', 'Isparta', 'Yalova', 'Bitlis', 'Bolu', 'Bilecik', 'Iğdır', 'Giresun', 'Çankırı', 'Kırşehir', 'Bayburt', 'Sinop', 'Gümüşhane', 'Bartın']\n",
      "\n",
      "Alt kategori 'balik-deniz-urunleri' şu şehirlerde var (80 şehir):\n",
      "['Ankara', 'İstanbul', 'Bolu', 'Eskişehir', 'İzmir', 'Antalya', 'Malatya', 'Trabzon', 'Kocaeli', 'Yozgat', 'Erzurum', 'Şırnak', 'Bursa', 'Samsun', 'Kayseri', 'Gaziantep', 'Aydın', 'Mersin', 'Erzincan', 'Kırklareli', 'Ordu', 'Adana', 'Tekirdağ', 'Sakarya', 'Manisa', 'Hatay', 'Konya', 'Sivas', 'Nevşehir', 'Amasya', 'Van', 'Diyarbakır', 'Denizli', 'Batman', 'Çanakkale', 'Elazığ', 'Uşak', 'Isparta', 'Burdur', 'Iğdır', 'Kahramanmaraş', 'Tokat', 'Şanlıurfa', 'Aksaray', 'Bingöl', 'Kilis', 'Afyon', 'Kütahya', 'Yalova', 'Zonguldak', 'Karaman', 'Mardin', 'Giresun', 'Çankırı', 'Muş', 'Çorum', 'Balıkesir', 'Muğla', 'Edirne', 'Düzce', 'Osmaniye', 'Sinop', 'Kırıkkale', 'Kastamonu', 'Kars', 'Rize', 'Gümüşhane', 'Ağrı', 'Bartın', 'Karabük', 'Bayburt', 'Tunceli', 'Niğde', 'Adıyaman', 'Bilecik', 'Hakkari', 'Bitlis', 'Kırşehir', 'Siirt', 'Artvin']\n",
      "\n",
      "Alt kategori 'corek-hamurisi' şu şehirlerde var (79 şehir):\n",
      "['Aydın', 'Nevşehir', 'İstanbul', 'Osmaniye', 'Sakarya', 'Ankara', 'Samsun', 'Çanakkale', 'Mersin', 'Ağrı', 'Manisa', 'Kastamonu', 'Konya', 'Bursa', 'Eskişehir', 'Kırklareli', 'Erzincan', 'Denizli', 'Şanlıurfa', 'Diyarbakır', 'Erzurum', 'Malatya', 'Kütahya', 'Trabzon', 'Kars', 'Afyon', 'İzmir', 'Kocaeli', 'Muğla', 'Adıyaman', 'Bayburt', 'Antalya', 'Batman', 'Kırıkkale', 'Van', 'Gaziantep', 'Amasya', 'Kahramanmaraş', 'Bartın', 'Çankırı', 'Sivas', 'Kayseri', 'Elazığ', 'Bingöl', 'Rize', 'Çorum', 'Karabük', 'Hatay', 'Zonguldak', 'Tekirdağ', 'Giresun', 'Kilis', 'Kırşehir', 'Bitlis', 'Yozgat', 'Adana', 'Balıkesir', 'Tokat', 'Bolu', 'Burdur', 'Ordu', 'Aksaray', 'Uşak', 'Edirne', 'Niğde', 'Iğdır', 'Mardin', 'Siirt', 'Şırnak', 'Muş', 'Artvin', 'Tunceli', 'Isparta', 'Yalova', 'Karaman', 'Düzce', 'Gümüşhane', 'Bilecik', 'Sinop']\n",
      "\n",
      "Alt kategori 'dolma' şu şehirlerde var (60 şehir):\n",
      "['Ankara', 'İstanbul', 'Çanakkale', 'Ordu', 'Kırıkkale', 'Sivas', 'Niğde', 'Bursa', 'Aydın', 'Isparta', 'Samsun', 'Çorum', 'Erzurum', 'Balıkesir', 'Sakarya', 'İzmir', 'Kocaeli', 'Edirne', 'Diyarbakır', 'Adana', 'Ağrı', 'Şanlıurfa', 'Gaziantep', 'Kahramanmaraş', 'Gümüşhane', 'Rize', 'Konya', 'Tekirdağ', 'Iğdır', 'Erzincan', 'Kütahya', 'Mersin', 'Düzce', 'Yalova', 'Bolu', 'Kilis', 'Denizli', 'Antalya', 'Şırnak', 'Tokat', 'Bayburt', 'Batman', 'Trabzon', 'Siirt', 'Eskişehir', 'Kayseri', 'Mardin', 'Malatya', 'Muğla', 'Kırklareli', 'Aksaray', 'Bilecik', 'Karaman', 'Elazığ', 'Yozgat', 'Osmaniye', 'Hatay', 'Afyon', 'Amasya', 'Muş']\n",
      "\n",
      "Alt kategori 'dondurma' şu şehirlerde var (61 şehir):\n",
      "['Çanakkale', 'İstanbul', 'Denizli', 'İzmir', 'Tunceli', 'Kırıkkale', 'Ankara', 'Adana', 'Erzurum', 'Manisa', 'Konya', 'Antalya', 'Tokat', 'Muğla', 'Şanlıurfa', 'Burdur', 'Trabzon', 'Eskişehir', 'Kayseri', 'Sakarya', 'Edirne', 'Balıkesir', 'Kocaeli', 'Diyarbakır', 'Mersin', 'Hatay', 'Elazığ', 'Düzce', 'Yalova', 'Bursa', 'Samsun', 'Bolu', 'Bayburt', 'Tekirdağ', 'Malatya', 'Rize', 'Sivas', 'Zonguldak', 'Isparta', 'Gaziantep', 'Mardin', 'Şırnak', 'Kahramanmaraş', 'Afyon', 'Kastamonu', 'Adıyaman', 'Batman', 'Gümüşhane', 'Niğde', 'Amasya', 'Bitlis', 'Van', 'Aydın', 'Kütahya', 'Aksaray', 'Muş', 'Uşak', 'Kırklareli', 'Ordu', 'Çorum', 'Karaman']\n",
      "\n",
      "Alt kategori 'dondurmali' şu şehirlerde var (48 şehir):\n",
      "['Manisa', 'Antalya', 'Tekirdağ', 'İstanbul', 'Tokat', 'İzmir', 'Bursa', 'Erzincan', 'Gaziantep', 'Ankara', 'Hatay', 'Çanakkale', 'Burdur', 'Konya', 'Malatya', 'Şanlıurfa', 'Kocaeli', 'Samsun', 'Adıyaman', 'Kütahya', 'Elazığ', 'Çorum', 'Yalova', 'Adana', 'Afyon', 'Erzurum', 'Balıkesir', 'Kayseri', 'Edirne', 'Mersin', 'Siirt', 'Eskişehir', 'Ağrı', 'Trabzon', 'Niğde', 'Muğla', 'Muş', 'Düzce', 'Van', 'Bartın', 'Mardin', 'Amasya', 'Kırıkkale', 'Batman', 'Denizli', 'Sivas', 'Kırşehir', 'Aksaray']\n",
      "\n",
      "Alt kategori 'dondurulmus-yemekler' şu şehirlerde var (34 şehir):\n",
      "['Hatay', 'Ankara', 'Van', 'Gaziantep', 'İzmir', 'Trabzon', 'Konya', 'Manisa', 'İstanbul', 'Aksaray', 'Kayseri', 'Kocaeli', 'Mersin', 'Erzurum', 'Diyarbakır', 'Samsun', 'Iğdır', 'Antalya', 'Afyon', 'Muğla', 'Amasya', 'Batman', 'Bingöl', 'Niğde', 'Malatya', 'Şırnak', 'Bursa', 'Kahramanmaraş', 'Bayburt', 'Nevşehir', 'Mardin', 'Elazığ', 'Ordu', 'Çanakkale']\n",
      "\n",
      "Alt kategori 'donut-tatli' şu şehirlerde var (59 şehir):\n",
      "['Kütahya', 'İstanbul', 'Kilis', 'Kırıkkale', 'Mersin', 'Gaziantep', 'Edirne', 'Aksaray', 'Adıyaman', 'Konya', 'Trabzon', 'Ordu', 'Nevşehir', 'Ankara', 'Antalya', 'Aydın', 'İzmir', 'Batman', 'Erzurum', 'Denizli', 'Hatay', 'Adana', 'Hakkari', 'Elazığ', 'Muğla', 'Sinop', 'Diyarbakır', 'Kahramanmaraş', 'Malatya', 'Kocaeli', 'Şırnak', 'Çorum', 'Burdur', 'Samsun', 'Kırşehir', 'Kayseri', 'Bursa', 'Van', 'Sivas', 'Bitlis', 'Manisa', 'Sakarya', 'Kars', 'Giresun', 'Zonguldak', 'Kastamonu', 'Ağrı', 'Mardin', 'Tekirdağ', 'Yozgat', 'Rize', 'Osmaniye', 'Iğdır', 'Eskişehir', 'Tokat', 'Gümüşhane', 'Afyon', 'Isparta', 'Düzce']\n",
      "\n",
      "Alt kategori 'durum' şu şehirlerde var (57 şehir):\n",
      "['Mersin', 'İstanbul', 'Çanakkale', 'Kocaeli', 'Kırklareli', 'Antalya', 'Kayseri', 'Ordu', 'Aydın', 'Muğla', 'İzmir', 'Trabzon', 'Malatya', 'Gaziantep', 'Tekirdağ', 'Sivas', 'Edirne', 'Tokat', 'Kırıkkale', 'Eskişehir', 'Van', 'Konya', 'Diyarbakır', 'Samsun', 'Sakarya', 'Erzurum', 'Ankara', 'Adana', 'Kütahya', 'Çorum', 'Elazığ', 'Bursa', 'Çankırı', 'Mardin', 'Amasya', 'Hatay', 'Denizli', 'Şanlıurfa', 'Karaman', 'Balıkesir', 'Şırnak', 'Burdur', 'Rize', 'Kahramanmaraş', 'Nevşehir', 'Osmaniye', 'Aksaray', 'Afyon', 'Karabük', 'Manisa', 'Erzincan', 'Kastamonu', 'Gümüşhane', 'Kilis', 'Isparta', 'Uşak', 'Bilecik']\n",
      "\n",
      "Alt kategori 'etli-cig-kofte' şu şehirlerde var (14 şehir):\n",
      "['Sivas', 'Kilis', 'Ankara', 'İstanbul', 'Gaziantep', 'Bursa', 'Mardin', 'Kocaeli', 'Antalya', 'Tokat', 'Konya', 'Tekirdağ', 'Siirt', 'Erzurum']\n",
      "\n",
      "Alt kategori 'etsiz-cig-kofte' şu şehirlerde var (65 şehir):\n",
      "['Kocaeli', 'Adana', 'Yalova', 'Antalya', 'İstanbul', 'Kahramanmaraş', 'Van', 'Amasya', 'Ankara', 'Hatay', 'İzmir', 'Şanlıurfa', 'Kayseri', 'Gaziantep', 'Çanakkale', 'Balıkesir', 'Mardin', 'Mersin', 'Adıyaman', 'Konya', 'Samsun', 'Eskişehir', 'Rize', 'Kastamonu', 'Afyon', 'Elazığ', 'Kütahya', 'Malatya', 'Niğde', 'Çorum', 'Aksaray', 'Bursa', 'Erzincan', 'Tekirdağ', 'Ağrı', 'Edirne', 'Diyarbakır', 'Karaman', 'Karabük', 'Sivas', 'Aydın', 'Isparta', 'Manisa', 'Osmaniye', 'Kilis', 'Sakarya', 'Erzurum', 'Çankırı', 'Trabzon', 'Bolu', 'Muğla', 'Bingöl', 'Giresun', 'Kırıkkale', 'Ordu', 'Gümüşhane', 'Yozgat', 'Iğdır', 'Bilecik', 'Uşak', 'Batman', 'Bayburt', 'Muş', 'Denizli', 'Burdur']\n",
      "\n",
      "Alt kategori 'geleneksel-tatlilar' şu şehirlerde var (79 şehir):\n",
      "['Malatya', 'Ankara', 'Afyon', 'İstanbul', 'Trabzon', 'Mersin', 'Bursa', 'İzmir', 'Gaziantep', 'Kocaeli', 'Ordu', 'Kastamonu', 'Adana', 'Samsun', 'Eskişehir', 'Adıyaman', 'Çanakkale', 'Denizli', 'Konya', 'Tokat', 'Siirt', 'Çorum', 'Ağrı', 'Aksaray', 'Şanlıurfa', 'Antalya', 'Rize', 'Aydın', 'Muş', 'Sakarya', 'Van', 'Hatay', 'Edirne', 'Kars', 'Kütahya', 'Kayseri', 'Erzurum', 'Burdur', 'Batman', 'Karaman', 'Uşak', 'Tekirdağ', 'Manisa', 'Kırklareli', 'Diyarbakır', 'Muğla', 'Nevşehir', 'Sivas', 'Tunceli', 'Kahramanmaraş', 'Kırıkkale', 'Çankırı', 'Elazığ', 'Erzincan', 'Yalova', 'Balıkesir', 'Zonguldak', 'Kilis', 'Artvin', 'Niğde', 'Osmaniye', 'Giresun', 'Gümüşhane', 'Yozgat', 'Amasya', 'Mardin', 'Şırnak', 'Bartın', 'Bingöl', 'Karabük', 'Bolu', 'Hakkari', 'Isparta', 'Iğdır', 'Kırşehir', 'Sinop', 'Bayburt', 'Bitlis', 'Düzce']\n",
      "\n",
      "Alt kategori 'hamburger' şu şehirlerde var (67 şehir):\n",
      "['Konya', 'Antalya', 'Van', 'Erzurum', 'Osmaniye', 'İstanbul', 'İzmir', 'Mersin', 'Şanlıurfa', 'Gaziantep', 'Adana', 'Malatya', 'Diyarbakır', 'Ankara', 'Eskişehir', 'Ordu', 'Samsun', 'Çanakkale', 'Aydın', 'Bitlis', 'Trabzon', 'Hatay', 'Kayseri', 'Tekirdağ', 'Kütahya', 'Bursa', 'Elazığ', 'Nevşehir', 'Adıyaman', 'Kastamonu', 'Uşak', 'Edirne', 'Sivas', 'Amasya', 'Bolu', 'Balıkesir', 'Çorum', 'Muğla', 'Denizli', 'Kocaeli', 'Rize', 'Karaman', 'Bingöl', 'Kilis', 'Mardin', 'Kırklareli', 'Kahramanmaraş', 'Afyon', 'Yozgat', 'Kırıkkale', 'Bilecik', 'Sakarya', 'Batman', 'Siirt', 'Giresun', 'Tokat', 'Isparta', 'Erzincan', 'Artvin', 'Ağrı', 'Hakkari', 'Bayburt', 'Kırşehir', 'Kars', 'Burdur', 'Yalova', 'Manisa']\n",
      "\n",
      "Alt kategori 'hosaf' şu şehirlerde var (61 şehir):\n",
      "['Konya', 'Ankara', 'Van', 'Şırnak', 'Antalya', 'Eskişehir', 'Diyarbakır', 'İzmir', 'Tokat', 'Mersin', 'Nevşehir', 'Aksaray', 'İstanbul', 'Gaziantep', 'Şanlıurfa', 'Kayseri', 'Afyon', 'Manisa', 'Kilis', 'Muğla', 'Bingöl', 'Mardin', 'Adana', 'Samsun', 'Kocaeli', 'Bitlis', 'Kütahya', 'Balıkesir', 'Kırşehir', 'Batman', 'Sakarya', 'Bursa', 'Uşak', 'Ordu', 'Yalova', 'Edirne', 'Erzurum', 'Artvin', 'Isparta', 'Çanakkale', 'Yozgat', 'Osmaniye', 'Amasya', 'Ağrı', 'Kahramanmaraş', 'Malatya', 'Giresun', 'Trabzon', 'Tekirdağ', 'Kırklareli', 'Denizli', 'Hatay', 'Düzce', 'Aydın', 'Erzincan', 'Gümüşhane', 'Niğde', 'Iğdır', 'Burdur', 'Adıyaman', 'Ardahan']\n",
      "\n",
      "Alt kategori 'kanepe' şu şehirlerde var (35 şehir):\n",
      "['İstanbul', 'Kütahya', 'İzmir', 'Konya', 'Bursa', 'Hatay', 'Ankara', 'Elazığ', 'Balıkesir', 'Niğde', 'Van', 'Sakarya', 'Kırklareli', 'Mardin', 'Şanlıurfa', 'Adıyaman', 'Amasya', 'Gaziantep', 'Bolu', 'Nevşehir', 'Yozgat', 'Tekirdağ', 'Samsun', 'Adana', 'Aksaray', 'Trabzon', 'Sinop', 'Ordu', 'Isparta', 'Antalya', 'Kastamonu', 'Malatya', 'Afyon', 'Muğla', 'Bingöl']\n",
      "\n",
      "Alt kategori 'kebap' şu şehirlerde var (80 şehir):\n",
      "['Erzincan', 'Eskişehir', 'İstanbul', 'İzmir', 'Bursa', 'Ankara', 'Şanlıurfa', 'Balıkesir', 'Erzurum', 'Antalya', 'Samsun', 'Manisa', 'Kayseri', 'Edirne', 'Nevşehir', 'Kilis', 'Kütahya', 'Hatay', 'Konya', 'Trabzon', 'Gaziantep', 'Muğla', 'Sakarya', 'Bayburt', 'Çorum', 'Ardahan', 'Bingöl', 'Mersin', 'Ordu', 'Diyarbakır', 'Malatya', 'Kastamonu', 'Kahramanmaraş', 'Van', 'Siirt', 'Afyon', 'Muş', 'Kırklareli', 'Kocaeli', 'Yalova', 'Adana', 'Tekirdağ', 'Şırnak', 'Sivas', 'Karabük', 'Aydın', 'Çanakkale', 'Giresun', 'Mardin', 'Kırıkkale', 'Çankırı', 'Gümüşhane', 'Iğdır', 'Aksaray', 'Rize', 'Zonguldak', 'Yozgat', 'Tunceli', 'Niğde', 'Batman', 'Denizli', 'Elazığ', 'Tokat', 'Isparta', 'Ağrı', 'Amasya', 'Bolu', 'Adıyaman', 'Artvin', 'Osmaniye', 'Düzce', 'Karaman', 'Sinop', 'Kırşehir', 'Uşak', 'Burdur', 'Bitlis', 'Bartın', 'Bilecik', 'Hakkari']\n",
      "\n",
      "Alt kategori 'kis' şu şehirlerde var (60 şehir):\n",
      "['Ankara', 'İstanbul', 'Nevşehir', 'Aydın', 'Bayburt', 'Malatya', 'Tekirdağ', 'Gaziantep', 'Kastamonu', 'Sivas', 'Giresun', 'Çorum', 'Antalya', 'İzmir', 'Aksaray', 'Kocaeli', 'Çanakkale', 'Çankırı', 'Şanlıurfa', 'Van', 'Balıkesir', 'Manisa', 'Bursa', 'Kahramanmaraş', 'Amasya', 'Düzce', 'Zonguldak', 'Ordu', 'Kırklareli', 'Konya', 'Uşak', 'Kayseri', 'Rize', 'Samsun', 'Kütahya', 'Osmaniye', 'Elazığ', 'Isparta', 'Hatay', 'Afyon', 'Adana', 'Tokat', 'Batman', 'Eskişehir', 'Yozgat', 'Trabzon', 'Sakarya', 'Niğde', 'Diyarbakır', 'Yalova', 'Erzurum', 'Mersin', 'Kilis', 'Denizli', 'Muğla', 'Kırıkkale', 'Adıyaman', 'Erzincan', 'Bartın', 'Edirne']\n",
      "\n",
      "Alt kategori 'kis-hazirliklari-diger' şu şehirlerde var (75 şehir):\n",
      "['Bayburt', 'Gaziantep', 'Mersin', 'Bursa', 'Amasya', 'Eskişehir', 'Çanakkale', 'İstanbul', 'Kocaeli', 'Malatya', 'Ankara', 'İzmir', 'Niğde', 'Ordu', 'Ağrı', 'Kilis', 'Tekirdağ', 'Sakarya', 'Kırıkkale', 'Erzurum', 'Antalya', 'Trabzon', 'Rize', 'Sivas', 'Denizli', 'Balıkesir', 'Kahramanmaraş', 'Aydın', 'Şanlıurfa', 'Afyon', 'Diyarbakır', 'Konya', 'Düzce', 'Samsun', 'Kayseri', 'Bingöl', 'Manisa', 'Van', 'Muğla', 'Artvin', 'Kütahya', 'Adana', 'Isparta', 'Aksaray', 'Edirne', 'Erzincan', 'Hatay', 'Kastamonu', 'Çankırı', 'Osmaniye', 'Tokat', 'Zonguldak', 'Kırşehir', 'Karaman', 'Mardin', 'Batman', 'Yalova', 'Muş', 'Elazığ', 'Kars', 'Şırnak', 'Karabük', 'Çorum', 'Yozgat', 'Nevşehir', 'Iğdır', 'Siirt', 'Gümüşhane', 'Sinop', 'Adıyaman', 'Bitlis', 'Bilecik', 'Bolu', 'Kırklareli', 'Giresun']\n",
      "\n",
      "Alt kategori 'kizartma' şu şehirlerde var (80 şehir):\n",
      "['İstanbul', 'Ankara', 'Trabzon', 'Elazığ', 'Konya', 'Afyon', 'Eskişehir', 'Antalya', 'Mersin', 'Kastamonu', 'Bayburt', 'Sakarya', 'Bursa', 'İzmir', 'Van', 'Muğla', 'Aydın', 'Adana', 'Erzurum', 'Çorum', 'Muş', 'Balıkesir', 'Giresun', 'Düzce', 'Nevşehir', 'Malatya', 'Gaziantep', 'Hatay', 'Kütahya', 'Amasya', 'Kayseri', 'Denizli', 'Yozgat', 'Kırklareli', 'Ağrı', 'Manisa', 'Çanakkale', 'Kocaeli', 'Şanlıurfa', 'Kırıkkale', 'Diyarbakır', 'Rize', 'Ordu', 'Zonguldak', 'Tekirdağ', 'Kahramanmaraş', 'Niğde', 'Samsun', 'Karabük', 'Yalova', 'Uşak', 'Kilis', 'Kırşehir', 'Edirne', 'Mardin', 'Hakkari', 'Osmaniye', 'Aksaray', 'Adıyaman', 'Bilecik', 'Çankırı', 'Sivas', 'Artvin', 'Burdur', 'Bitlis', 'Ardahan', 'Tokat', 'Isparta', 'Batman', 'Iğdır', 'Erzincan', 'Bolu', 'Gümüşhane', 'Siirt', 'Bartın', 'Şırnak', 'Kars', 'Karaman', 'Sinop', 'Tunceli']\n",
      "\n",
      "Alt kategori 'komposto' şu şehirlerde var (49 şehir):\n",
      "['İzmir', 'Kırklareli', 'Ankara', 'Diyarbakır', 'Denizli', 'İstanbul', 'Niğde', 'Bursa', 'Mardin', 'Konya', 'Malatya', 'Van', 'Muğla', 'Hatay', 'Kocaeli', 'Bayburt', 'Kahramanmaraş', 'Antalya', 'Mersin', 'Tekirdağ', 'Kayseri', 'Kilis', 'Erzurum', 'Siirt', 'Manisa', 'Şırnak', 'Sakarya', 'Uşak', 'Eskişehir', 'Bilecik', 'Trabzon', 'Düzce', 'Adana', 'Aydın', 'Gaziantep', 'Balıkesir', 'Çanakkale', 'Sivas', 'Burdur', 'Şanlıurfa', 'Kastamonu', 'Afyon', 'Amasya', 'Zonguldak', 'Tokat', 'Kırşehir', 'Adıyaman', 'Aksaray', 'Erzincan']\n",
      "\n",
      "Alt kategori 'krep-hamurisi' şu şehirlerde var (75 şehir):\n",
      "['Ankara', 'Bursa', 'Konya', 'Kocaeli', 'Aydın', 'Erzurum', 'Batman', 'İstanbul', 'Rize', 'Bayburt', 'İzmir', 'Aksaray', 'Gaziantep', 'Tekirdağ', 'Adana', 'Sivas', 'Balıkesir', 'Manisa', 'Nevşehir', 'Malatya', 'Kayseri', 'Isparta', 'Antalya', 'Diyarbakır', 'Samsun', 'Hatay', 'Sakarya', 'Kilis', 'Mersin', 'Erzincan', 'Trabzon', 'Yozgat', 'Kırklareli', 'Tokat', 'Kütahya', 'Çorum', 'Denizli', 'Afyon', 'Eskişehir', 'Karaman', 'Edirne', 'Van', 'Muş', 'Elazığ', 'Osmaniye', 'Kahramanmaraş', 'Muğla', 'Zonguldak', 'Karabük', 'Uşak', 'Amasya', 'Ordu', 'Çankırı', 'Çanakkale', 'Burdur', 'Şanlıurfa', 'Kırşehir', 'Bitlis', 'Kastamonu', 'Yalova', 'Mardin', 'Gümüşhane', 'Niğde', 'Ağrı', 'Bingöl', 'Düzce', 'Bilecik', 'Giresun', 'Bolu', 'Siirt', 'Adıyaman', 'Hakkari', 'Kırıkkale', 'Şırnak', 'Tunceli']\n",
      "\n",
      "Alt kategori 'lokum' şu şehirlerde var (77 şehir):\n",
      "['Gaziantep', 'Kayseri', 'İstanbul', 'İzmir', 'Ankara', 'Nevşehir', 'Adıyaman', 'Malatya', 'Adana', 'Kilis', 'Isparta', 'Rize', 'Trabzon', 'Denizli', 'Şanlıurfa', 'Sivas', 'Hakkari', 'Tekirdağ', 'Aydın', 'Antalya', 'Hatay', 'Kahramanmaraş', 'Muş', 'Balıkesir', 'Bursa', 'Niğde', 'Konya', 'Çanakkale', 'Aksaray', 'Mersin', 'Kırklareli', 'Manisa', 'Diyarbakır', 'Kocaeli', 'Eskişehir', 'Bartın', 'Tokat', 'Kars', 'Kırşehir', 'Sakarya', 'Giresun', 'Osmaniye', 'Batman', 'Karabük', 'Yozgat', 'Artvin', 'Bayburt', 'Kastamonu', 'Kütahya', 'Afyon', 'Mardin', 'Samsun', 'Erzurum', 'Edirne', 'Elazığ', 'Bilecik', 'Muğla', 'Kırıkkale', 'Ordu', 'Çorum', 'Yalova', 'Siirt', 'Bingöl', 'Bolu', 'Burdur', 'Ağrı', 'Düzce', 'Uşak', 'Van', 'Amasya', 'Şırnak', 'Karaman', 'Bitlis', 'Gümüşhane', 'Zonguldak', 'Sinop', 'Erzincan']\n",
      "\n",
      "Alt kategori 'manti' şu şehirlerde var (80 şehir):\n",
      "['Çanakkale', 'Malatya', 'Ankara', 'Erzincan', 'İstanbul', 'Van', 'Bayburt', 'Eskişehir', 'Nevşehir', 'Bursa', 'Gaziantep', 'Mersin', 'Erzurum', 'Amasya', 'Niğde', 'İzmir', 'Çorum', 'Kastamonu', 'Sivas', 'Adıyaman', 'Şanlıurfa', 'Konya', 'Samsun', 'Denizli', 'Şırnak', 'Kocaeli', 'Rize', 'Sakarya', 'Diyarbakır', 'Giresun', 'Kayseri', 'Tekirdağ', 'Aksaray', 'Antalya', 'Aydın', 'Karabük', 'Bingöl', 'Kahramanmaraş', 'Karaman', 'Trabzon', 'Elazığ', 'Adana', 'Kırklareli', 'Hatay', 'Manisa', 'Siirt', 'Balıkesir', 'Afyon', 'Osmaniye', 'Yozgat', 'Muğla', 'Bartın', 'Kırşehir', 'Batman', 'Gümüşhane', 'Düzce', 'Mardin', 'Ağrı', 'Ordu', 'Muş', 'Edirne', 'Kırıkkale', 'Yalova', 'Bolu', 'Artvin', 'Bilecik', 'Kilis', 'Hakkari', 'Kütahya', 'Uşak', 'Çankırı', 'Zonguldak', 'Iğdır', 'Tokat', 'Bitlis', 'Burdur', 'Isparta', 'Sinop', 'Kars', 'Tunceli']\n",
      "\n",
      "Alt kategori 'pekmez' şu şehirlerde var (26 şehir):\n",
      "['Bursa', 'Elazığ', 'Eskişehir', 'Hatay', 'Manisa', 'Şanlıurfa', 'Ankara', 'Nevşehir', 'İstanbul', 'Malatya', 'Balıkesir', 'Zonguldak', 'Kahramanmaraş', 'Adana', 'Antalya', 'Artvin', 'Mersin', 'Diyarbakır', 'Kırşehir', 'Niğde', 'Osmaniye', 'Kırklareli', 'Gaziantep', 'Kayseri', 'Sivas', 'Şırnak']\n",
      "\n",
      "Alt kategori 'recel' şu şehirlerde var (76 şehir):\n",
      "['İzmir', 'Mersin', 'İstanbul', 'Şanlıurfa', 'Ankara', 'Trabzon', 'Afyon', 'Van', 'Çanakkale', 'Aydın', 'Diyarbakır', 'Kocaeli', 'Kayseri', 'Sakarya', 'Niğde', 'Erzurum', 'Gaziantep', 'Tokat', 'Batman', 'Ağrı', 'Bursa', 'Elazığ', 'Denizli', 'Artvin', 'Eskişehir', 'Isparta', 'Konya', 'Kırklareli', 'Manisa', 'Antalya', 'Tekirdağ', 'Adana', 'Hatay', 'Mardin', 'Balıkesir', 'Çorum', 'Rize', 'Kütahya', 'Ordu', 'Samsun', 'Giresun', 'Malatya', 'Nevşehir', 'Kahramanmaraş', 'Kastamonu', 'Sivas', 'Erzincan', 'Muğla', 'Bolu', 'Zonguldak', 'Kilis', 'Yozgat', 'Osmaniye', 'Bartın', 'Amasya', 'Yalova', 'Iğdır', 'Gümüşhane', 'Bingöl', 'Edirne', 'Şırnak', 'Ardahan', 'Kırşehir', 'Siirt', 'Aksaray', 'Karabük', 'Adıyaman', 'Bilecik', 'Uşak', 'Burdur', 'Çankırı', 'Kars', 'Bitlis', 'Muş', 'Sinop', 'Düzce']\n",
      "\n",
      "Alt kategori 'sakatat-yemekleri' şu şehirlerde var (72 şehir):\n",
      "['İstanbul', 'Adana', 'Uşak', 'Bursa', 'Kayseri', 'Ankara', 'Konya', 'Eskişehir', 'Hatay', 'Manisa', 'Gaziantep', 'Erzurum', 'Zonguldak', 'İzmir', 'Diyarbakır', 'Şırnak', 'Mersin', 'Kocaeli', 'Van', 'Malatya', 'Aksaray', 'Sakarya', 'Denizli', 'Antalya', 'Giresun', 'Çanakkale', 'Şanlıurfa', 'Kahramanmaraş', 'Trabzon', 'Adıyaman', 'Elazığ', 'Yalova', 'Muğla', 'Afyon', 'Bolu', 'Balıkesir', 'Batman', 'Tekirdağ', 'Mardin', 'Edirne', 'Kütahya', 'Aydın', 'Çankırı', 'Amasya', 'Düzce', 'Bingöl', 'Samsun', 'Yozgat', 'Kırşehir', 'Çorum', 'Muş', 'Kırklareli', 'Sivas', 'Erzincan', 'Bayburt', 'Kastamonu', 'Isparta', 'Nevşehir', 'Tokat', 'Siirt', 'Niğde', 'Kilis', 'Karabük', 'Osmaniye', 'Bilecik', 'Ağrı', 'Burdur', 'Rize', 'Ordu', 'Sinop', 'Bitlis', 'Artvin']\n",
      "\n",
      "Alt kategori 'salamura' şu şehirlerde var (35 şehir):\n",
      "['Ankara', 'Adana', 'Malatya', 'Mersin', 'Konya', 'Gaziantep', 'İstanbul', 'Kayseri', 'Sivas', 'İzmir', 'Hatay', 'Aydın', 'Isparta', 'Kilis', 'Denizli', 'Çanakkale', 'Ordu', 'Aksaray', 'Yozgat', 'Erzurum', 'Manisa', 'Eskişehir', 'Afyon', 'Şanlıurfa', 'Balıkesir', 'Samsun', 'Adıyaman', 'Şırnak', 'Elazığ', 'Osmaniye', 'Bursa', 'Tokat', 'Çankırı', 'Giresun', 'Bilecik']\n",
      "\n",
      "Alt kategori 'sandvic' şu şehirlerde var (44 şehir):\n",
      "['Antalya', 'Tekirdağ', 'İstanbul', 'Ankara', 'Aydın', 'Siirt', 'Adana', 'Malatya', 'İzmir', 'Bursa', 'Gaziantep', 'Kocaeli', 'Diyarbakır', 'Adıyaman', 'Samsun', 'Osmaniye', 'Sivas', 'Mersin', 'Erzurum', 'Kayseri', 'Afyon', 'Hatay', 'Kastamonu', 'Kırklareli', 'Denizli', 'Uşak', 'Kilis', 'Şanlıurfa', 'Trabzon', 'Bayburt', 'Çanakkale', 'Bilecik', 'Bitlis', 'Van', 'Karaman', 'Edirne', 'Konya', 'Batman', 'Manisa', 'Aksaray', 'Eskişehir', 'Kırşehir', 'Isparta', 'Mardin']\n",
      "\n",
      "Alt kategori 'sarma' şu şehirlerde var (48 şehir):\n",
      "['Ardahan', 'Erzincan', 'Aksaray', 'İzmir', 'İstanbul', 'Van', 'Muğla', 'Gaziantep', 'Kars', 'Ankara', 'Aydın', 'Malatya', 'Manisa', 'Çorum', 'Artvin', 'Mersin', 'Konya', 'Şanlıurfa', 'Rize', 'Sivas', 'Kahramanmaraş', 'Balıkesir', 'Yalova', 'Kocaeli', 'Hatay', 'Osmaniye', 'Edirne', 'Samsun', 'Çanakkale', 'Mardin', 'Erzurum', 'Denizli', 'Trabzon', 'Karaman', 'Isparta', 'Tekirdağ', 'Bursa', 'Kayseri', 'Sakarya', 'Elazığ', 'Amasya', 'Diyarbakır', 'Kırklareli', 'Antalya', 'Kütahya', 'Muş', 'Ordu', 'Eskişehir']\n",
      "\n",
      "Alt kategori 'sicak' şu şehirlerde var (77 şehir):\n",
      "['Adana', 'Sivas', 'Bursa', 'İstanbul', 'Gaziantep', 'Aksaray', 'Rize', 'Bayburt', 'Eskişehir', 'Ankara', 'Konya', 'İzmir', 'Tokat', 'Van', 'Sakarya', 'Erzurum', 'Kocaeli', 'Amasya', 'Tekirdağ', 'Giresun', 'Batman', 'Malatya', 'Muğla', 'Yozgat', 'Aydın', 'Mersin', 'Samsun', 'Elazığ', 'Ağrı', 'Afyon', 'Denizli', 'Hakkari', 'Manisa', 'Kayseri', 'Hatay', 'Antalya', 'Adıyaman', 'Niğde', 'Diyarbakır', 'Kütahya', 'Yalova', 'Bingöl', 'Şanlıurfa', 'Iğdır', 'Erzincan', 'Gümüşhane', 'Bilecik', 'Karabük', 'Kilis', 'Çorum', 'Ordu', 'Zonguldak', 'Kırşehir', 'Edirne', 'Nevşehir', 'Siirt', 'Balıkesir', 'Trabzon', 'Bitlis', 'Düzce', 'Muş', 'Çanakkale', 'Uşak', 'Burdur', 'Mardin', 'Isparta', 'Kırklareli', 'Bolu', 'Kastamonu', 'Karaman', 'Kahramanmaraş', 'Osmaniye', 'Artvin', 'Şırnak', 'Kars', 'Tunceli', 'Sinop']\n",
      "\n",
      "Alt kategori 'sicak-icecekler' şu şehirlerde var (77 şehir):\n",
      "['Balıkesir', 'Aydın', 'Şanlıurfa', 'İstanbul', 'Mersin', 'Bursa', 'İzmir', 'Siirt', 'Ankara', 'Kocaeli', 'Samsun', 'Eskişehir', 'Kilis', 'Van', 'Konya', 'Gaziantep', 'Adıyaman', 'Kayseri', 'Trabzon', 'Elazığ', 'Sakarya', 'Afyon', 'Aksaray', 'Burdur', 'Zonguldak', 'Hatay', 'Bingöl', 'Sivas', 'Malatya', 'Manisa', 'Antalya', 'Erzurum', 'Yalova', 'Kahramanmaraş', 'Adana', 'Kırklareli', 'Edirne', 'Muş', 'Amasya', 'Diyarbakır', 'Nevşehir', 'Bitlis', 'Niğde', 'Mardin', 'Çanakkale', 'Osmaniye', 'Düzce', 'Kırşehir', 'Muğla', 'Tekirdağ', 'Kütahya', 'Tokat', 'Çorum', 'Bolu', 'Yozgat', 'Isparta', 'Ağrı', 'Uşak', 'Bilecik', 'Kırıkkale', 'Batman', 'Kastamonu', 'Karabük', 'Kars', 'Ordu', 'Karaman', 'Bartın', 'Gümüşhane', 'Şırnak', 'Bayburt', 'Rize', 'Iğdır', 'Denizli', 'Erzincan', 'Giresun', 'Çankırı', 'Sinop']\n",
      "\n",
      "Alt kategori 'soguk-icecekler' şu şehirlerde var (79 şehir):\n",
      "['Batman', 'Düzce', 'Kocaeli', 'Mersin', 'Sakarya', 'Ankara', 'Muğla', 'İstanbul', 'İzmir', 'Diyarbakır', 'Kırşehir', 'Yalova', 'Yozgat', 'Bursa', 'Konya', 'Erzincan', 'Aydın', 'Denizli', 'Artvin', 'Kırıkkale', 'Eskişehir', 'Erzurum', 'Şanlıurfa', 'Adıyaman', 'Malatya', 'Balıkesir', 'Kayseri', 'Sivas', 'Kastamonu', 'Gaziantep', 'Tekirdağ', 'Niğde', 'Uşak', 'Elazığ', 'Adana', 'Antalya', 'Van', 'Aksaray', 'Ordu', 'Trabzon', 'Kahramanmaraş', 'Afyon', 'Tokat', 'Kütahya', 'Manisa', 'Edirne', 'Çorum', 'Kilis', 'Mardin', 'Nevşehir', 'Burdur', 'Çanakkale', 'Bitlis', 'Osmaniye', 'Hatay', 'Muş', 'Zonguldak', 'Amasya', 'Hakkari', 'Bingöl', 'Karaman', 'Sinop', 'Isparta', 'Samsun', 'Bolu', 'Bilecik', 'Kırklareli', 'Çankırı', 'Ağrı', 'Karabük', 'Şırnak', 'Rize', 'Gümüşhane', 'Bartın', 'Siirt', 'Giresun', 'Iğdır', 'Tunceli', 'Kars']\n",
      "\n",
      "Alt kategori 'sos' şu şehirlerde var (78 şehir):\n",
      "['Malatya', 'Kırklareli', 'Eskişehir', 'Trabzon', 'İstanbul', 'Erzurum', 'Afyon', 'Konya', 'Ankara', 'Çankırı', 'Gaziantep', 'İzmir', 'Antalya', 'Balıkesir', 'Kayseri', 'Hatay', 'Bursa', 'Çanakkale', 'Karaman', 'Kocaeli', 'Batman', 'Van', 'Samsun', 'Aksaray', 'Bilecik', 'Manisa', 'Amasya', 'Şanlıurfa', 'Bartın', 'Sakarya', 'Adana', 'Kahramanmaraş', 'Mardin', 'Kırşehir', 'Sivas', 'Bolu', 'Mersin', 'Tekirdağ', 'Siirt', 'Karabük', 'Tokat', 'Bayburt', 'Edirne', 'Kütahya', 'Bitlis', 'Nevşehir', 'Aydın', 'Muğla', 'Kırıkkale', 'Elazığ', 'Muş', 'Ordu', 'Rize', 'Erzincan', 'Diyarbakır', 'Artvin', 'Denizli', 'Isparta', 'Osmaniye', 'Tunceli', 'Niğde', 'Kastamonu', 'Adıyaman', 'Yozgat', 'Çorum', 'Burdur', 'Hakkari', 'Yalova', 'Giresun', 'Zonguldak', 'Şırnak', 'Uşak', 'Kars', 'Gümüşhane', 'Düzce', 'Sinop', 'Ağrı', 'Kilis']\n",
      "\n",
      "Alt kategori 'sulu-yemek' şu şehirlerde var (79 şehir):\n",
      "['Nevşehir', 'Batman', 'İzmir', 'Kütahya', 'Erzurum', 'İstanbul', 'Van', 'Antalya', 'Şanlıurfa', 'Aydın', 'Kocaeli', 'Düzce', 'Gaziantep', 'Yozgat', 'Muğla', 'Balıkesir', 'Ankara', 'Kahramanmaraş', 'Osmaniye', 'Kastamonu', 'Çanakkale', 'Diyarbakır', 'Eskişehir', 'Adana', 'Konya', 'Bursa', 'Sakarya', 'Hatay', 'Trabzon', 'Manisa', 'Zonguldak', 'Denizli', 'Tekirdağ', 'Mersin', 'Isparta', 'Afyon', 'Karaman', 'Sivas', 'Rize', 'Niğde', 'Giresun', 'Kayseri', 'Çorum', 'Malatya', 'Kilis', 'Aksaray', 'Adıyaman', 'Edirne', 'Yalova', 'Siirt', 'Mardin', 'Ağrı', 'Bilecik', 'Erzincan', 'Samsun', 'Bingöl', 'Kırklareli', 'Kırşehir', 'Elazığ', 'Uşak', 'Kars', 'Hakkari', 'Muş', 'Amasya', 'Burdur', 'Bayburt', 'Bartın', 'Bolu', 'Ordu', 'Gümüşhane', 'Iğdır', 'Tokat', 'Bitlis', 'Ardahan', 'Şırnak', 'Karabük', 'Artvin', 'Sinop', 'Kırıkkale']\n",
      "\n",
      "Alt kategori 'sut-urunleri' şu şehirlerde var (74 şehir):\n",
      "['İstanbul', 'Niğde', 'Mersin', 'Malatya', 'Adana', 'Eskişehir', 'Aydın', 'Isparta', 'Ankara', 'Gaziantep', 'İzmir', 'Van', 'Trabzon', 'Konya', 'Manisa', 'Kars', 'Antalya', 'Kocaeli', 'Osmaniye', 'Balıkesir', 'Kırıkkale', 'Elazığ', 'Kahramanmaraş', 'Bursa', 'Mardin', 'Ağrı', 'Diyarbakır', 'Hatay', 'Samsun', 'Çanakkale', 'Edirne', 'Bilecik', 'Muğla', 'Şanlıurfa', 'Burdur', 'Ordu', 'Tekirdağ', 'Afyon', 'Amasya', 'Sivas', 'Bingöl', 'Denizli', 'Uşak', 'Kırklareli', 'Kayseri', 'Erzurum', 'Aksaray', 'Batman', 'Iğdır', 'Çorum', 'Kütahya', 'Yozgat', 'Yalova', 'Sakarya', 'Kastamonu', 'Adıyaman', 'Tokat', 'Rize', 'Şırnak', 'Muş', 'Kilis', 'Giresun', 'Gümüşhane', 'Kırşehir', 'Siirt', 'Sinop', 'Düzce', 'Artvin', 'Bitlis', 'Erzincan', 'Zonguldak', 'Nevşehir', 'Bolu', 'Bayburt']\n",
      "\n",
      "Alt kategori 'tart' şu şehirlerde var (78 şehir):\n",
      "['Aksaray', 'İstanbul', 'Bursa', 'Ankara', 'Aydın', 'Bayburt', 'Erzincan', 'Sakarya', 'Konya', 'Erzurum', 'Ordu', 'Isparta', 'Sivas', 'Giresun', 'Kocaeli', 'Gaziantep', 'Rize', 'Kayseri', 'Samsun', 'Denizli', 'Malatya', 'Adıyaman', 'Mersin', 'Karabük', 'Niğde', 'Antalya', 'Şanlıurfa', 'Edirne', 'Diyarbakır', 'Burdur', 'Kilis', 'İzmir', 'Trabzon', 'Manisa', 'Tokat', 'Afyon', 'Adana', 'Çorum', 'Zonguldak', 'Van', 'Bitlis', 'Hatay', 'Muğla', 'Kırşehir', 'Yozgat', 'Kırklareli', 'Elazığ', 'Balıkesir', 'Osmaniye', 'Kahramanmaraş', 'Batman', 'Bartın', 'Kütahya', 'Mardin', 'Tekirdağ', 'Çanakkale', 'Bolu', 'Karaman', 'Düzce', 'Nevşehir', 'Yalova', 'Eskişehir', 'Gümüşhane', 'Çankırı', 'Amasya', 'Kırıkkale', 'Hakkari', 'Artvin', 'Uşak', 'Ardahan', 'Muş', 'Tunceli', 'Kastamonu', 'Ağrı', 'Bingöl', 'Iğdır', 'Şırnak', 'Bilecik']\n",
      "\n",
      "Alt kategori 'tost' şu şehirlerde var (54 şehir):\n",
      "['Giresun', 'İstanbul', 'İzmir', 'Bursa', 'Ankara', 'Manisa', 'Konya', 'Hatay', 'Bingöl', 'Kahramanmaraş', 'Gaziantep', 'Çanakkale', 'Zonguldak', 'Kocaeli', 'Van', 'Eskişehir', 'Afyon', 'Sakarya', 'Mersin', 'Aydın', 'Balıkesir', 'Bilecik', 'Çorum', 'Muğla', 'Sivas', 'Kütahya', 'Erzincan', 'Edirne', 'Mardin', 'Erzurum', 'Tokat', 'Elazığ', 'Kastamonu', 'Aksaray', 'Malatya', 'Tekirdağ', 'Diyarbakır', 'Trabzon', 'Kayseri', 'Isparta', 'Amasya', 'Kırşehir', 'Samsun', 'Düzce', 'Denizli', 'Karaman', 'Rize', 'Siirt', 'Adana', 'Bolu', 'Osmaniye', 'Antalya', 'Karabük', 'Nevşehir']\n",
      "\n",
      "Alt kategori 'tursu' şu şehirlerde var (78 şehir):\n",
      "['Ankara', 'İstanbul', 'Gaziantep', 'Kocaeli', 'Antalya', 'Van', 'Niğde', 'Malatya', 'Bursa', 'Tekirdağ', 'Bayburt', 'Manisa', 'Adana', 'Mardin', 'Hatay', 'İzmir', 'Adıyaman', 'Şanlıurfa', 'Düzce', 'Çanakkale', 'Trabzon', 'Giresun', 'Mersin', 'Konya', 'Aksaray', 'Kayseri', 'Ordu', 'Eskişehir', 'Burdur', 'Kırklareli', 'Samsun', 'Denizli', 'Aydın', 'Sakarya', 'Afyon', 'Diyarbakır', 'Balıkesir', 'Kahramanmaraş', 'Tokat', 'Elazığ', 'Kütahya', 'Karaman', 'Nevşehir', 'Zonguldak', 'Erzurum', 'Kilis', 'Kars', 'Bitlis', 'Şırnak', 'Sivas', 'Edirne', 'Amasya', 'Kastamonu', 'Siirt', 'Batman', 'Osmaniye', 'Çankırı', 'Bartın', 'Iğdır', 'Yalova', 'Yozgat', 'Erzincan', 'Artvin', 'Rize', 'Çorum', 'Kırıkkale', 'Muş', 'Muğla', 'Bolu', 'Bingöl', 'Kırşehir', 'Isparta', 'Gümüşhane', 'Karabük', 'Uşak', 'Ağrı', 'Bilecik', 'Sinop']\n"
     ]
    }
   ],
   "execution_count": 6
  },
  {
   "metadata": {},
   "cell_type": "markdown",
   "source": [
    "1- Alt kategoriler dengesiz dağılmış\n",
    "2- Bazı şehirlerde hiç tarif yok, bazı şehirlerde çok fazla tarif var\n",
    "3- Bazı şehirlerde çok fazla kullanıcı var, bazı şehirlerde çok az kullanıcı var\n"
   ],
   "id": "4d37345c1da4343c"
  },
  {
   "metadata": {},
   "cell_type": "markdown",
   "source": [
    "✅ Alt kategorileri filtrelemiyorsun çünkü yerel yoğunluklar anlamlı (örneğin deniz ürünleri),\n",
    "\n",
    "✅ Tüm şehirlerde ≥85 tarif varsa oranlar güvenilir,\n",
    "\n",
    "❌ Kullanıcı sayısını dışlıyorsun çünkü kültürel ilgiyi değil, nüfusu yansıtıyor,\n",
    "\n",
    "✅ Oranlarla çalışıyorsun (pivot_norm),\n",
    "\n",
    "✅ StandardScaler ile ölçeklemeye hazırsın,\n",
    "\n",
    "✅ Kümeleri veriye göre belirlemek istiyorsun."
   ],
   "id": "cc5d7bce45d45f0"
  },
  {
   "metadata": {
    "ExecuteTime": {
     "end_time": "2025-07-28T12:48:58.854042Z",
     "start_time": "2025-07-28T12:48:57.188525Z"
    }
   },
   "cell_type": "code",
   "source": [
    "from sklearn.preprocessing import StandardScaler\n",
    "\n",
    "scaler = StandardScaler()\n",
    "X_scaled = scaler.fit_transform(pivot_norm)\n"
   ],
   "id": "7aa3bc3d8e0ee0dd",
   "outputs": [],
   "execution_count": 7
  },
  {
   "metadata": {
    "ExecuteTime": {
     "end_time": "2025-07-28T12:49:02.100099Z",
     "start_time": "2025-07-28T12:48:58.880913Z"
    }
   },
   "cell_type": "code",
   "source": [
    "from sklearn.cluster import KMeans\n",
    "from sklearn.metrics import silhouette_score\n",
    "import matplotlib.pyplot as plt\n",
    "\n",
    "wcss = []  # Within-Cluster Sum of Squares\n",
    "silhouette_scores = []\n",
    "K_range = range(2, 11)  # 2'den 10 kümeye kadar deniyoruz\n",
    "\n",
    "for k in K_range:\n",
    "    kmeans = KMeans(n_clusters=k, random_state=42)\n",
    "    labels = kmeans.fit_predict(X_scaled)\n",
    "    wcss.append(kmeans.inertia_)\n",
    "    silhouette_scores.append(silhouette_score(X_scaled, labels))\n",
    "\n",
    "# Elbow + Silhouette Plot\n",
    "fig, ax1 = plt.subplots(figsize=(10, 5))\n",
    "\n",
    "color = 'tab:blue'\n",
    "ax1.plot(K_range, wcss, 'o-', color=color)\n",
    "ax1.set_xlabel('Number of Clusters')\n",
    "ax1.set_ylabel('WCSS (Elbow)', color=color)\n",
    "ax1.tick_params(axis='y', labelcolor=color)\n",
    "\n",
    "ax2 = ax1.twinx()\n",
    "color = 'tab:green'\n",
    "ax2.plot(K_range, silhouette_scores, 's--', color=color)\n",
    "ax2.set_ylabel('Silhouette Score', color=color)\n",
    "ax2.tick_params(axis='y', labelcolor=color)\n",
    "\n",
    "plt.title(\"Elbow & Silhouette Scores to Determine Optimal Clusters\")\n",
    "plt.tight_layout()\n",
    "plt.show()\n"
   ],
   "id": "426429d3216200e",
   "outputs": [
    {
     "data": {
      "text/plain": [
       "<Figure size 1000x500 with 2 Axes>"
      ],
      "image/png": "[encoded data removed]"
     },
     "metadata": {},
     "output_type": "display_data"
    }
   ],
   "execution_count": 8
  },
  {
   "metadata": {
    "ExecuteTime": {
     "end_time": "2025-07-28T12:49:02.144924Z",
     "start_time": "2025-07-28T12:49:02.133604Z"
    }
   },
   "cell_type": "code",
   "source": [
    "kmeans = KMeans(n_clusters=7, random_state=42)\n",
    "pivot_norm['cluster'] = kmeans.fit_predict(X_scaled)"
   ],
   "id": "ec719e5729342474",
   "outputs": [],
   "execution_count": 9
  },
  {
   "metadata": {
    "ExecuteTime": {
     "end_time": "2025-07-28T12:49:02.187785Z",
     "start_time": "2025-07-28T12:49:02.175478Z"
    }
   },
   "cell_type": "code",
   "source": [
    "pivot_norm.groupby(\"cluster\").size()\n",
    "print(pivot_norm['cluster'].value_counts().sort_index())\n",
    "\n",
    "# Örnek: her kümeye ait ilk 3 şehir\n",
    "for i in range(7):\n",
    "    print(f\"\\nCluster {i} şehirler:\")\n",
    "    print(pivot_norm[pivot_norm['cluster'] == i].index.tolist()[:])"
   ],
   "id": "17e1eb2e8f4e2223",
   "outputs": [
    {
     "name": "stdout",
     "output_type": "stream",
     "text": [
      "cluster\n",
      "0     5\n",
      "1    37\n",
      "2     1\n",
      "3     1\n",
      "4     1\n",
      "5     1\n",
      "6    35\n",
      "Name: count, dtype: int64\n",
      "\n",
      "Cluster 0 şehirler:\n",
      "['Artvin', 'Giresun', 'Iğdır', 'Kilis', 'Çankırı']\n",
      "\n",
      "Cluster 1 şehirler:\n",
      "['Adana', 'Adıyaman', 'Ankara', 'Antalya', 'Aydın', 'Ağrı', 'Balıkesir', 'Bilecik', 'Bolu', 'Bursa', 'Denizli', 'Diyarbakır', 'Düzce', 'Edirne', 'Erzincan', 'Eskişehir', 'Hakkari', 'Hatay', 'Isparta', 'Kastamonu', 'Kocaeli', 'Manisa', 'Mardin', 'Mersin', 'Muğla', 'Muş', 'Sakarya', 'Siirt', 'Tekirdağ', 'Tunceli', 'Uşak', 'Van', 'Yalova', 'Çanakkale', 'İstanbul', 'İzmir', 'Şanlıurfa']\n",
      "\n",
      "Cluster 2 şehirler:\n",
      "['Ardahan']\n",
      "\n",
      "Cluster 3 şehirler:\n",
      "['Kırşehir']\n",
      "\n",
      "Cluster 4 şehirler:\n",
      "['Şırnak']\n",
      "\n",
      "Cluster 5 şehirler:\n",
      "['Bingöl']\n",
      "\n",
      "Cluster 6 şehirler:\n",
      "['Afyon', 'Aksaray', 'Amasya', 'Bartın', 'Batman', 'Bayburt', 'Bitlis', 'Burdur', 'Elazığ', 'Erzurum', 'Gaziantep', 'Gümüşhane', 'Kahramanmaraş', 'Karabük', 'Karaman', 'Kars', 'Kayseri', 'Konya', 'Kütahya', 'Kırklareli', 'Kırıkkale', 'Malatya', 'Nevşehir', 'Niğde', 'Ordu', 'Osmaniye', 'Rize', 'Samsun', 'Sinop', 'Sivas', 'Tokat', 'Trabzon', 'Yozgat', 'Zonguldak', 'Çorum']\n"
     ]
    }
   ],
   "execution_count": 10
  },
  {
   "metadata": {},
   "cell_type": "markdown",
   "source": "Oran + Var yok",
   "id": "b92bb07889da970"
  },
  {
   "metadata": {
    "ExecuteTime": {
     "end_time": "2025-07-28T12:49:03.499509Z",
     "start_time": "2025-07-28T12:49:02.224614Z"
    }
   },
   "cell_type": "code",
   "source": [
    "df = pd.read_csv('..\\\\datas\\\\CullinaryMapDataset.csv')\n",
    "# 1. Pivot tablo (tarif sayısı)\n",
    "pivot_counts = df.pivot_table(index='eslesen_sehir', columns='alt_kategori', values='tarif_adi', aggfunc='count', fill_value=0)\n",
    "\n",
    "# 2. Oran hesabı (şehirdeki toplam tarif sayısına göre)\n",
    "pivot_ratios = pivot_counts.div(pivot_counts.sum(axis=1), axis=0).fillna(0)\n",
    "\n",
    "# 3. Binary matris (var/yok)\n",
    "pivot_binary = pivot_counts.gt(0).astype(int)\n",
    "\n",
    "# 4. Veri setini birleştir (oranlar ve binary)\n",
    "combined = pd.concat([pivot_ratios.add_suffix('_ratio'), pivot_binary.add_suffix('_bin')], axis=1)\n",
    "\n",
    "# 5. Ölçekleme\n",
    "scaler = StandardScaler()\n",
    "X_scaled = scaler.fit_transform(combined)\n",
    "\n",
    "# 6. Optimum küme sayısı için Elbow metodu\n",
    "inertia = []\n",
    "silhouette = []\n",
    "k_values = range(2, 11)\n",
    "\n",
    "for k in k_values:\n",
    "    kmeans = KMeans(n_clusters=k, random_state=42)\n",
    "    labels = kmeans.fit_predict(X_scaled)\n",
    "    inertia.append(kmeans.inertia_)\n",
    "    silhouette.append(silhouette_score(X_scaled, labels))\n",
    "\n",
    "# Grafik çizimi\n",
    "plt.figure(figsize=(12,5))\n",
    "\n",
    "plt.subplot(1,2,1)\n",
    "plt.plot(k_values, inertia, '-o')\n",
    "plt.title('Elbow Method')\n",
    "plt.xlabel('Number of clusters')\n",
    "plt.ylabel('Inertia')\n",
    "\n",
    "plt.subplot(1,2,2)\n",
    "plt.plot(k_values, silhouette, '-o')\n",
    "plt.title('Silhouette Score')\n",
    "plt.xlabel('Number of clusters')\n",
    "plt.ylabel('Silhouette Score')\n",
    "\n",
    "plt.tight_layout()\n",
    "plt.show()\n",
    "\n",
    "# 7. KMeans ile final kümeleme (örnek: k=7)\n",
    "k_final = 7\n",
    "kmeans_final = KMeans(n_clusters=k_final, random_state=42)\n",
    "clusters = kmeans_final.fit_predict(X_scaled)\n",
    "\n",
    "# Sonuçları dataframe'e ekle\n",
    "result_df = combined.copy()\n",
    "result_df['cluster'] = clusters\n",
    "\n",
    "print(result_df['cluster'].value_counts())\n",
    "print(result_df.head())"
   ],
   "id": "cec90ed50efe00d4",
   "outputs": [
    {
     "data": {
      "text/plain": [
       "<Figure size 1200x500 with 2 Axes>"
      ],
      "image/png": "[encoded data removed]"
     },
     "metadata": {},
     "output_type": "display_data"
    },
    {
     "name": "stdout",
     "output_type": "stream",
     "text": [
      "cluster\n",
      "1    53\n",
      "3    11\n",
      "0     8\n",
      "6     6\n",
      "2     1\n",
      "5     1\n",
      "4     1\n",
      "Name: count, dtype: int64\n",
      "alt_kategori   aperatifler_ratio  baharat-yapimi_ratio  \\\n",
      "eslesen_sehir                                            \n",
      "Adana                   0.026198              0.000893   \n",
      "Adıyaman                0.009749              0.000696   \n",
      "Afyon                   0.018290              0.000457   \n",
      "Aksaray                 0.016613              0.000000   \n",
      "Amasya                  0.017552              0.000000   \n",
      "\n",
      "alt_kategori   bakliyat_yemekleri_ratio  balik-deniz-urunleri_ratio  \\\n",
      "eslesen_sehir                                                         \n",
      "Adana                          0.009527                    0.008336   \n",
      "Adıyaman                       0.012535                    0.008357   \n",
      "Afyon                          0.009145                    0.007773   \n",
      "Aksaray                        0.009110                    0.002680   \n",
      "Amasya                         0.010436                    0.006641   \n",
      "\n",
      "alt_kategori   borek_ratio  cikolatali_ratio  corba_ratio  \\\n",
      "eslesen_sehir                                               \n",
      "Adana             0.049717          0.026347     0.047484   \n",
      "Adıyaman          0.037604          0.018802     0.048747   \n",
      "Afyon             0.043439          0.026978     0.053498   \n",
      "Aksaray           0.048232          0.033226     0.032690   \n",
      "Amasya            0.056452          0.037476     0.048387   \n",
      "\n",
      "alt_kategori   corek-hamurisi_ratio  dolma_ratio  dondurma_ratio  ...  \\\n",
      "eslesen_sehir                                                     ...   \n",
      "Adana                      0.006847     0.000595        0.002828  ...   \n",
      "Adıyaman                   0.008357     0.000000        0.002089  ...   \n",
      "Afyon                      0.012346     0.000457        0.000914  ...   \n",
      "Aksaray                    0.013398     0.000536        0.001608  ...   \n",
      "Amasya                     0.014706     0.000474        0.001423  ...   \n",
      "\n",
      "alt_kategori   sut-urunleri_bin  sutlu-tatlilar_bin  tart_bin  \\\n",
      "eslesen_sehir                                                   \n",
      "Adana                         1                   1         1   \n",
      "Adıyaman                      1                   1         1   \n",
      "Afyon                         1                   1         1   \n",
      "Aksaray                       1                   1         1   \n",
      "Amasya                        1                   1         1   \n",
      "\n",
      "alt_kategori   tatli-kurabiyeler_bin  tavuk-yemekleri_bin  tost_bin  \\\n",
      "eslesen_sehir                                                         \n",
      "Adana                              1                    1         1   \n",
      "Adıyaman                           1                    1         0   \n",
      "Afyon                              1                    1         1   \n",
      "Aksaray                            1                    1         1   \n",
      "Amasya                             1                    1         1   \n",
      "\n",
      "alt_kategori   tursu_bin  tuzlu-kurabiyeler_bin  zeytinyagli_bin  cluster  \n",
      "eslesen_sehir                                                              \n",
      "Adana                  1                      1                1        1  \n",
      "Adıyaman               1                      1                1        1  \n",
      "Afyon                  1                      1                1        1  \n",
      "Aksaray                1                      1                1        1  \n",
      "Amasya                 1                      1                1        1  \n",
      "\n",
      "[5 rows x 131 columns]\n"
     ]
    }
   ],
   "execution_count": 11
  },
  {
   "metadata": {
    "ExecuteTime": {
     "end_time": "2025-07-28T12:49:03.584217Z",
     "start_time": "2025-07-28T12:49:03.553512Z"
    }
   },
   "cell_type": "code",
   "source": [
    "import numpy as np\n",
    "from sklearn.preprocessing import StandardScaler\n",
    "from sklearn.cluster import KMeans\n",
    "\n",
    "# Kategori ağırlıkları\n",
    "category_totals = pivot_counts.sum(axis=0)\n",
    "category_weights = 1 / category_totals\n",
    "category_weights = category_weights.replace(np.inf, 0)\n",
    "\n",
    "# Ağırlıklı oranlar\n",
    "weighted_ratios = pivot_ratios.multiply(category_weights, axis=1)\n",
    "\n",
    "# Standartlaştırma ayrı ayrı\n",
    "scaler_ratio = StandardScaler()\n",
    "X_ratio_scaled = scaler_ratio.fit_transform(weighted_ratios)\n",
    "\n",
    "scaler_bin = StandardScaler()\n",
    "X_bin_scaled = scaler_bin.fit_transform(pivot_binary)\n",
    "\n",
    "# Binary bloğuna çarpan\n",
    "X_bin_scaled = X_bin_scaled * 2\n",
    "\n",
    "# Birleştir\n",
    "X_combined = np.hstack([X_ratio_scaled, X_bin_scaled])\n",
    "\n",
    "# KMeans\n",
    "kmeans = KMeans(n_clusters=7, random_state=42)\n",
    "clusters = kmeans.fit_predict(X_combined)\n",
    "\n",
    "# Sonuçları dataframe'e ekle (sütun isimlerine suffix ekleyerek)\n",
    "result_df = weighted_ratios.copy()\n",
    "result_df = result_df.join(pivot_binary, rsuffix='_bin')\n",
    "result_df['cluster'] = clusters\n",
    "\n",
    "print(result_df['cluster'].value_counts())\n",
    "print(result_df.head())\n"
   ],
   "id": "2811b1b96045f43a",
   "outputs": [
    {
     "name": "stdout",
     "output_type": "stream",
     "text": [
      "cluster\n",
      "4    28\n",
      "3    25\n",
      "1    13\n",
      "0     9\n",
      "6     4\n",
      "2     1\n",
      "5     1\n",
      "Name: count, dtype: int64\n",
      "alt_kategori   aperatifler  baharat-yapimi  bakliyat_yemekleri  \\\n",
      "eslesen_sehir                                                    \n",
      "Adana             0.000005        0.000008            0.000003   \n",
      "Adıyaman          0.000002        0.000006            0.000004   \n",
      "Afyon             0.000003        0.000004            0.000003   \n",
      "Aksaray           0.000003        0.000000            0.000003   \n",
      "Amasya            0.000003        0.000000            0.000003   \n",
      "\n",
      "alt_kategori   balik-deniz-urunleri     borek  cikolatali     corba  \\\n",
      "eslesen_sehir                                                         \n",
      "Adana                  2.781386e-06  0.000003    0.000003  0.000003   \n",
      "Adıyaman               2.788304e-06  0.000002    0.000002  0.000003   \n",
      "Afyon                  2.593662e-06  0.000003    0.000003  0.000004   \n",
      "Aksaray                8.940702e-07  0.000003    0.000004  0.000002   \n",
      "Amasya                 2.216005e-06  0.000003    0.000004  0.000003   \n",
      "\n",
      "alt_kategori   corek-hamurisi     dolma  dondurma  ...  sut-urunleri_bin  \\\n",
      "eslesen_sehir                                      ...                     \n",
      "Adana                0.000002  0.000002  0.000005  ...                 1   \n",
      "Adıyaman             0.000003  0.000000  0.000004  ...                 1   \n",
      "Afyon                0.000004  0.000002  0.000002  ...                 1   \n",
      "Aksaray              0.000005  0.000002  0.000003  ...                 1   \n",
      "Amasya               0.000005  0.000002  0.000002  ...                 1   \n",
      "\n",
      "alt_kategori   sutlu-tatlilar_bin  tart_bin  tatli-kurabiyeler_bin  \\\n",
      "eslesen_sehir                                                        \n",
      "Adana                           1         1                      1   \n",
      "Adıyaman                        1         1                      1   \n",
      "Afyon                           1         1                      1   \n",
      "Aksaray                         1         1                      1   \n",
      "Amasya                          1         1                      1   \n",
      "\n",
      "alt_kategori   tavuk-yemekleri_bin  tost_bin  tursu_bin  \\\n",
      "eslesen_sehir                                             \n",
      "Adana                            1         1          1   \n",
      "Adıyaman                         1         0          1   \n",
      "Afyon                            1         1          1   \n",
      "Aksaray                          1         1          1   \n",
      "Amasya                           1         1          1   \n",
      "\n",
      "alt_kategori   tuzlu-kurabiyeler_bin  zeytinyagli_bin  cluster  \n",
      "eslesen_sehir                                                   \n",
      "Adana                              1                1        4  \n",
      "Adıyaman                           1                1        4  \n",
      "Afyon                              1                1        4  \n",
      "Aksaray                            1                1        4  \n",
      "Amasya                             1                1        3  \n",
      "\n",
      "[5 rows x 131 columns]\n"
     ]
    }
   ],
   "execution_count": 12
  },
  {
   "metadata": {},
   "cell_type": "markdown",
   "source": "",
   "id": "4c4a6af04588992c"
  },
  {
   "metadata": {
    "ExecuteTime": {
     "end_time": "2025-07-28T12:49:04.741522Z",
     "start_time": "2025-07-28T12:49:03.657034Z"
    }
   },
   "cell_type": "code",
   "source": "df = pd.read_csv('..\\\\datas\\\\CullinaryMapDataset.csv')",
   "id": "611c9231795752b3",
   "outputs": [],
   "execution_count": 13
  },
  {
   "metadata": {
    "ExecuteTime": {
     "end_time": "2025-07-28T12:49:04.883558Z",
     "start_time": "2025-07-28T12:49:04.796320Z"
    }
   },
   "cell_type": "code",
   "source": [
    "pivot_counts = df.pivot_table(index='eslesen_sehir', columns='alt_kategori', values='tarif_adi', aggfunc='count', fill_value=0)\n",
    "\n",
    "pivot_ratios = pivot_counts.div(pivot_counts.sum(axis=1), axis=0)\n",
    "\n",
    "# Adım 2: Kategori toplam tarif sayılarını al\n",
    "category_totals = pivot_counts.sum(axis=0)\n",
    "\n",
    "# Adım 3: Log-tabanlı ters frekans ağırlıklarını hesapla\n",
    "category_weights = 1 / np.log1p(category_totals)\n",
    "category_weights = category_weights.replace([np.inf, -np.inf], 0)\n",
    "\n",
    "# Adım 4: Oranları ağırlıklarla çarp (kategori bazında)\n",
    "weighted_ratios = pivot_ratios.multiply(category_weights, axis=1)\n",
    "# Binary matris (var-yok bilgisi)\n",
    "pivot_binary = pivot_counts > 0\n",
    "pivot_binary = pivot_binary.astype(int)\n",
    "\n",
    "# Binary bilgiyi ayrı scale et\n",
    "scaler_bin = StandardScaler()\n",
    "X_bin_scaled = scaler_bin.fit_transform(pivot_binary)\n",
    "\n",
    "# (İsteğe bağlı) Binary etkisini artırmak için çarpan ekle\n",
    "X_bin_scaled = X_bin_scaled * 2\n",
    "\n",
    "# Oran verisini de scale et\n",
    "scaler_ratio = StandardScaler()\n",
    "X_ratio_scaled = scaler_ratio.fit_transform(weighted_ratios)\n",
    "\n",
    "# İkisini birleştir\n",
    "import numpy as np\n",
    "X_combined = np.hstack([X_ratio_scaled, X_bin_scaled])"
   ],
   "id": "72d8ceb18d57fb6",
   "outputs": [],
   "execution_count": 14
  },
  {
   "metadata": {
    "ExecuteTime": {
     "end_time": "2025-07-28T12:49:05.103663Z",
     "start_time": "2025-07-28T12:49:04.943131Z"
    }
   },
   "cell_type": "code",
   "source": [
    "import matplotlib.pyplot as plt\n",
    "from sklearn.cluster import KMeans\n",
    "\n",
    "inertias = []\n",
    "K_range = range(2, 15)\n",
    "\n",
    "for k in K_range:\n",
    "    km = KMeans(n_clusters=k, random_state=42)\n",
    "    km.fit(X_combined)\n",
    "    inertias.append(km.inertia_)\n",
    "\n",
    "# Plot\n",
    "plt.figure(figsize=(8, 4))\n",
    "plt.plot(K_range, inertias, marker='o')\n",
    "plt.xlabel(\"Number of Clusters\")\n",
    "plt.ylabel(\"Inertia (Within Sum of Squares)\")\n",
    "plt.title(\"Elbow Method for Optimal k\")\n",
    "plt.grid(True)\n",
    "plt.show()\n"
   ],
   "id": "c6034df828e2761f",
   "outputs": [
    {
     "data": {
      "text/plain": [
       "<Figure size 800x400 with 1 Axes>"
      ],
      "image/png": "[encoded data removed]"
     },
     "metadata": {},
     "output_type": "display_data"
    }
   ],
   "execution_count": 15
  },
  {
   "metadata": {
    "ExecuteTime": {
     "end_time": "2025-07-28T12:49:05.172564Z",
     "start_time": "2025-07-28T12:49:05.163628Z"
    }
   },
   "cell_type": "code",
   "source": [
    "# Küme sayısını seç (örnek: 6)\n",
    "kmeans = KMeans(n_clusters=4, random_state=42)\n",
    "clusters = kmeans.fit_predict(X_combined)\n",
    "\n",
    "# Sonuçları şehir isimleriyle eşle\n",
    "result_df = weighted_ratios.copy()\n",
    "result_df['cluster'] = clusters"
   ],
   "id": "411bc9b4c9eaff77",
   "outputs": [],
   "execution_count": 16
  },
  {
   "metadata": {
    "ExecuteTime": {
     "end_time": "2025-07-28T12:49:05.248511Z",
     "start_time": "2025-07-28T12:49:05.240645Z"
    }
   },
   "cell_type": "code",
   "source": [
    "print(result_df['cluster'].value_counts())\n",
    "city_clusters = result_df['cluster']\n",
    "print(city_clusters.head())"
   ],
   "id": "c58bac322860ee69",
   "outputs": [
    {
     "name": "stdout",
     "output_type": "stream",
     "text": [
      "cluster\n",
      "3    47\n",
      "1    22\n",
      "0    11\n",
      "2     1\n",
      "Name: count, dtype: int64\n",
      "eslesen_sehir\n",
      "Adana       3\n",
      "Adıyaman    3\n",
      "Afyon       3\n",
      "Aksaray     3\n",
      "Amasya      3\n",
      "Name: cluster, dtype: int32\n"
     ]
    }
   ],
   "execution_count": 17
  },
  {
   "metadata": {
    "ExecuteTime": {
     "end_time": "2025-07-28T12:49:05.944235Z",
     "start_time": "2025-07-28T12:49:05.333420Z"
    }
   },
   "cell_type": "code",
   "source": [
    "import folium\n",
    "import json\n",
    "import pandas as pd\n",
    "from folium.features import GeoJsonTooltip\n",
    "\n",
    "# GeoJSON'u yükle\n",
    "with open('..//tr-cities-utf8.json', 'r', encoding='utf-8') as f:\n",
    "    geojson_data = json.load(f)\n",
    "\n",
    "# Şehir → Küme eşleşmesi (city_clusters: Series)\n",
    "city_cluster_map = result_df['cluster'].to_dict()\n",
    "n_clusters = result_df['cluster'].nunique()\n",
    "\n",
    "# Manuel renk paleti (küme sayısı 7'ye kadar desteklenir)\n",
    "color_palette = [\n",
    "    '#1f77b4',  # mavi\n",
    "    '#2ca02c',  # yeşil\n",
    "    '#ffcc00',  # sarı\n",
    "    '#d62728',  # kırmızı\n",
    "    '#9467bd',  # mor\n",
    "    '#ff7f0e',  # turuncu\n",
    "    '#e377c2'   # pembe\n",
    "]\n",
    "\n",
    "# Haritayı oluştur\n",
    "m = folium.Map(location=[39, 35], zoom_start=6, tiles='cartodbpositron')\n",
    "\n",
    "# GeoJSON'daki her şehir için küme ata\n",
    "for feature in geojson_data['features']:\n",
    "    city_name = feature['properties']['name']\n",
    "    cluster = city_cluster_map.get(city_name)\n",
    "    feature['properties']['cluster'] = cluster if cluster is not None else -1\n",
    "\n",
    "# Harita katmanı\n",
    "def style_function(feature):\n",
    "    cluster = feature['properties']['cluster']\n",
    "    if cluster == -1:\n",
    "        return {'fillColor': '#cccccc', 'color': 'black', 'weight': 0.5, 'fillOpacity': 0.3}\n",
    "    else:\n",
    "        color = color_palette[cluster % len(color_palette)]\n",
    "        return {\n",
    "            'fillColor': color,\n",
    "            'color': 'black',\n",
    "            'weight': 0.5,\n",
    "            'fillOpacity': 0.7\n",
    "        }\n",
    "\n",
    "folium.GeoJson(\n",
    "    geojson_data,\n",
    "    name='Şehir Kümeleri',\n",
    "    style_function=style_function,\n",
    "    tooltip=GeoJsonTooltip(\n",
    "        fields=['name', 'cluster'],\n",
    "        aliases=['Şehir:', 'Küme:'],\n",
    "        localize=True,\n",
    "        sticky=True\n",
    "    )\n",
    ").add_to(m)\n",
    "\n",
    "folium.LayerControl().add_to(m)\n",
    "\n",
    "# Lejantı manuel ekleyelim\n",
    "legend_html = \"\"\"\n",
    "<div style=\"\n",
    "    position: fixed;\n",
    "    bottom: 50px;\n",
    "    left: 50px;\n",
    "    z-index: 1000;\n",
    "    background-color: white;\n",
    "    border: 1px solid black;\n",
    "    padding: 10px;\n",
    "    border-radius: 5px;\n",
    "    font-size: 14px;\">\n",
    "    <b>Küme Renkleri</b><br>\n",
    "\"\"\"\n",
    "\n",
    "for i in range(n_clusters):\n",
    "    color = color_palette[i % len(color_palette)]\n",
    "    legend_html += f'<i style=\"background:{color};width:18px;height:18px;float:left;margin-right:8px;\"></i>Küme {i}<br>'\n",
    "\n",
    "legend_html += '</div>'\n",
    "m.get_root().html.add_child(folium.Element(legend_html))\n",
    "\n",
    "# Kaydet\n",
    "m.save('..//graphs//sehir_kume_haritasi_konum4.html')\n",
    "print(\"Renkli küme haritası başarıyla oluşturuldu!\")\n"
   ],
   "id": "c819e508732f7ac2",
   "outputs": [
    {
     "name": "stdout",
     "output_type": "stream",
     "text": [
      "Renkli küme haritası başarıyla oluşturuldu!\n"
     ]
    }
   ],
   "execution_count": 18
  },
  {
   "metadata": {
    "ExecuteTime": {
     "end_time": "2025-07-28T12:49:06.219122Z",
     "start_time": "2025-07-28T12:49:05.997577Z"
    }
   },
   "cell_type": "code",
   "source": [
    "from sklearn.feature_selection import mutual_info_classif\n",
    "\n",
    "mi_scores = mutual_info_classif(X_combined, result_df['cluster'])\n",
    "mi_df = pd.DataFrame({\n",
    "    'feature': list(weighted_ratios.columns) + list(pivot_binary.columns),\n",
    "    'MI_score': mi_scores\n",
    "}).sort_values(by='MI_score', ascending=False)\n",
    "\n",
    "print(mi_df.head(10))"
   ],
   "id": "82e34f4212a09e7c",
   "outputs": [
    {
     "name": "stdout",
     "output_type": "stream",
     "text": [
      "           feature  MI_score\n",
      "31        komposto  0.394054\n",
      "74        dondurma  0.331359\n",
      "78           durum  0.297908\n",
      "49           sarma  0.290627\n",
      "27             kis  0.251205\n",
      "13           durum  0.241406\n",
      "92             kis  0.229184\n",
      "10      dondurmali  0.226806\n",
      "14  ekmek-hamurisi  0.224485\n",
      "8            dolma  0.213609\n"
     ]
    }
   ],
   "execution_count": 19
  },
  {
   "metadata": {
    "ExecuteTime": {
     "end_time": "2025-07-28T12:49:45.266319Z",
     "start_time": "2025-07-28T12:49:45.238261Z"
    }
   },
   "cell_type": "code",
   "source": [
    "from scipy.stats import zscore\n",
    "cluster_profiles = result_df.groupby(\"cluster\").mean().T\n",
    "# Her küme için kategori ortalamaları zaten var: cluster_profiles\n",
    "z_z_scores = cluster_profiles.apply(zscore, axis=0)\n",
    "\n",
    "# Her küme için en yüksek 3 z-score'a sahip kategoriler\n",
    "top_z_per_cluster = z_scores.apply(lambda col: col.sort_values(ascending=False).head(3))\n",
    "\n",
    "print(top_z_per_cluster)"
   ],
   "id": "fe0cf1f6dd40bc6",
   "outputs": [
    {
     "ename": "NameError",
     "evalue": "name 'z_scores' is not defined",
     "output_type": "error",
     "traceback": [
      "\u001B[31m---------------------------------------------------------------------------\u001B[39m",
      "\u001B[31mNameError\u001B[39m                                 Traceback (most recent call last)",
      "\u001B[36mCell\u001B[39m\u001B[36m \u001B[39m\u001B[32mIn[21]\u001B[39m\u001B[32m, line 7\u001B[39m\n\u001B[32m      4\u001B[39m z_z_scores = cluster_profiles.apply(zscore, axis=\u001B[32m0\u001B[39m)\n\u001B[32m      6\u001B[39m \u001B[38;5;66;03m# Her küme için en yüksek 3 z-score'a sahip kategoriler\u001B[39;00m\n\u001B[32m----> \u001B[39m\u001B[32m7\u001B[39m top_z_per_cluster = \u001B[43mz_scores\u001B[49m.apply(\u001B[38;5;28;01mlambda\u001B[39;00m col: col.sort_values(ascending=\u001B[38;5;28;01mFalse\u001B[39;00m).head(\u001B[32m3\u001B[39m))\n\u001B[32m      9\u001B[39m \u001B[38;5;28mprint\u001B[39m(top_z_per_cluster)\n",
      "\u001B[31mNameError\u001B[39m: name 'z_scores' is not defined"
     ]
    }
   ],
   "execution_count": 21
  },
  {
   "metadata": {},
   "cell_type": "markdown",
   "source": [
    "kebap kategorisi → Cluster 4'te z-score = 2.38\n",
    "\n",
    "Kebap tarifleri Cluster 4'te diğer kümelere kıyasla anlamlı şekilde daha yoğun.\n",
    "Bu küme kebap/ızgara kültürünün baskın olduğu şehirleri temsil ediyor olabilir (örneğin Güneydoğu).\n",
    "\n",
    "etli-cig-kofte → Cluster 0'da z = 2.15\n",
    "\n",
    "Bu küme özellikle çiğ köfte içeriğiyle öne çıkıyor. Belki Adıyaman, Şanlıurfa gibi şehirler?\n",
    "\n",
    "donut-tatli → Cluster 4'te z = 2.33\n",
    "\n",
    "Belki daha \"yenilikçi\" veya batılı tatlıların öne çıktığı bir küme.\n",
    "\n",
    "sarma ve sulu-yemek → Cluster 2'de\n",
    "\n",
    "Bu grup ev yemeklerine dayalı geleneksel içerikler ile öne çıkıyor.\n",
    "\n",
    "hamburger, kanepe, tost → Cluster 5'te\n",
    "\n",
    "Bu şehirler daha \"modern/fast-food\" tarzı tariflere yönelmiş olabilir."
   ],
   "id": "2f854cb5ec7c9a51"
  },
  {
   "metadata": {
    "ExecuteTime": {
     "end_time": "2025-07-28T12:49:52.563363Z",
     "start_time": "2025-07-28T12:49:52.552943Z"
    }
   },
   "cell_type": "code",
   "source": [
    "z_scores = cluster_profiles.apply(zscore, axis=0)\n",
    "\n",
    "# Her küme için en yüksek 3 z-score\n",
    "top_z_per_cluster = z_scores.apply(lambda col: col.sort_values(ascending=False).head(3))\n",
    "print(top_z_per_cluster)"
   ],
   "id": "c6adedd21713a9c8",
   "outputs": [
    {
     "name": "stdout",
     "output_type": "stream",
     "text": [
      "cluster                   0         1         2         3\n",
      "alt_kategori                                             \n",
      "kahvaltılık             NaN       NaN  2.520414       NaN\n",
      "kek                2.975044  3.155924       NaN  3.071254\n",
      "pasta                   NaN  2.528767       NaN       NaN\n",
      "sutlu-tatlilar     2.167008       NaN  2.366164  2.407043\n",
      "tatli-kurabiyeler  2.882902  2.941014  3.870350  2.856960\n"
     ]
    }
   ],
   "execution_count": 22
  },
  {
   "metadata": {},
   "cell_type": "markdown",
   "source": [
    "🎯 Cluster 0:\n",
    "kek → z = 2.97 → Çok belirgin!\n",
    "\n",
    "sutlu-tatlilar → z = 2.17 → Ayırıcı.\n",
    "\n",
    "tatli-kurabiyeler → z = 2.88 → Ayırıcı ve güçlü.\n",
    "\n",
    "Bu küme tatlı & kek odaklı gibi görünüyor.\n",
    "\n",
    "🎯 Cluster 1:\n",
    "kek → z = 3.15 → Çok belirgin.\n",
    "\n",
    "pasta → z = 2.52 → Ayırıcı.\n",
    "\n",
    "tatli-kurabiyeler → z = 2.94 → Ayırıcı ve güçlü.\n",
    "\n",
    "Bu da yine fırın/tatlı ürünleriyle öne çıkan bir küme. Kek + pasta birlikte.\n",
    "\n",
    "🎯 Cluster 2:\n",
    "kahvaltılık → z = 2.52 → Ayırıcı.\n",
    "\n",
    "sutlu-tatlilar → z = 2.36 → Ayırıcı.\n",
    "\n",
    "tatli-kurabiyeler → z = 3.87 → Çok güçlü belirleyici.\n",
    "\n",
    "Bu küme daha çok kahvaltı & hafif tatlılar kümesi gibi duruyor.\n",
    "\n",
    "🎯 Cluster 3:\n",
    "kek → z = 3.07 → Çok belirgin.\n",
    "\n",
    "sutlu-tatlilar → z = 2.40 → Belirleyici.\n",
    "\n",
    "tatli-kurabiyeler → z = 2.85 → Belirgin.\n",
    "\n",
    "Bu da yine tatlı/ağır kek temasıyla benzer bir küme.\n",
    "\n"
   ],
   "id": "aa1180dd97a36d6e"
  },
  {
   "metadata": {},
   "cell_type": "markdown",
   "source": "Bazı şehirlerde kek, pasta, tatlı-kurabiyeler gibi kategoriler çok baskın çıkıyor. Bu da baskın oluyor. Az bulunan kategoriler gürültü olarak değerlendiriliyor.",
   "id": "98d4706c55a3fc82"
  },
  {
   "metadata": {
    "ExecuteTime": {
     "end_time": "2025-07-28T12:49:53.946451Z",
     "start_time": "2025-07-28T12:49:53.925719Z"
    }
   },
   "cell_type": "code",
   "source": [
    "city_category_ratio = weighted_ratios.copy()  # veya city_category_ratio, ne kullandıysan\n",
    "city_category_ratio = city_category_ratio.fillna(0)\n",
    "\n",
    "# Toplam şehir sayısı\n",
    "N = city_category_ratio.shape[0]\n",
    "\n",
    "# Her kategori kaç şehirde görülüyor (sıfır olmayan şehir sayısı)\n",
    "category_city_counts = (city_category_ratio > 0).sum(axis=0)\n",
    "\n",
    "# IDF hesapla\n",
    "idf = np.log(N / (1 + category_city_counts))\n",
    "\n",
    "# TF-IDF hesapla\n",
    "tfidf = city_category_ratio * idf\n",
    "\n",
    "# Normalizasyon (opsiyonel)\n",
    "# tfidf = (tfidf - tfidf.mean()) / tfidf.std()\n",
    "\n",
    "# Sonuç\n",
    "tfidf.head()"
   ],
   "id": "f5995d140c02631b",
   "outputs": [
    {
     "data": {
      "text/plain": [
       "alt_kategori   aperatifler  baharat-yapimi  bakliyat_yemekleri  \\\n",
       "eslesen_sehir                                                    \n",
       "Adana            -0.000037        0.000144            0.000015   \n",
       "Adıyaman         -0.000014        0.000112            0.000019   \n",
       "Afyon            -0.000026        0.000074            0.000014   \n",
       "Aksaray          -0.000024        0.000000            0.000014   \n",
       "Amasya           -0.000025        0.000000            0.000016   \n",
       "\n",
       "alt_kategori   balik-deniz-urunleri     borek  cikolatali     corba  \\\n",
       "eslesen_sehir                                                         \n",
       "Adana                           0.0 -0.000063   -0.000035 -0.000061   \n",
       "Adıyaman                        0.0 -0.000048   -0.000025 -0.000062   \n",
       "Afyon                           0.0 -0.000055   -0.000036 -0.000068   \n",
       "Aksaray                         0.0 -0.000061   -0.000045 -0.000042   \n",
       "Amasya                          0.0 -0.000071   -0.000050 -0.000062   \n",
       "\n",
       "alt_kategori   corek-hamurisi     dolma  dondurma  ...  sulu-yemek  \\\n",
       "eslesen_sehir                                      ...               \n",
       "Adana                0.000011  0.000030  0.000119  ...    0.000010   \n",
       "Adıyaman             0.000013  0.000000  0.000088  ...    0.000009   \n",
       "Afyon                0.000019  0.000023  0.000038  ...    0.000009   \n",
       "Aksaray              0.000021  0.000027  0.000067  ...    0.000008   \n",
       "Amasya               0.000023  0.000024  0.000060  ...    0.000009   \n",
       "\n",
       "alt_kategori   sut-urunleri  sutlu-tatlilar      tart  tatli-kurabiyeler  \\\n",
       "eslesen_sehir                                                              \n",
       "Adana              0.000033       -0.000080  0.000033          -0.000079   \n",
       "Adıyaman           0.000054       -0.000078  0.000022          -0.000071   \n",
       "Afyon              0.000050       -0.000088  0.000023          -0.000075   \n",
       "Aksaray            0.000047       -0.000067  0.000029          -0.000085   \n",
       "Amasya             0.000026       -0.000086  0.000017          -0.000076   \n",
       "\n",
       "alt_kategori   tavuk-yemekleri      tost     tursu  tuzlu-kurabiyeler  \\\n",
       "eslesen_sehir                                                           \n",
       "Adana                -0.000056  0.000030  0.000020          -0.000020   \n",
       "Adıyaman             -0.000057  0.000000  0.000032          -0.000017   \n",
       "Afyon                -0.000039  0.000093  0.000039          -0.000027   \n",
       "Aksaray              -0.000042  0.000036  0.000044          -0.000030   \n",
       "Amasya               -0.000036  0.000032  0.000009          -0.000015   \n",
       "\n",
       "alt_kategori   zeytinyagli  \n",
       "eslesen_sehir               \n",
       "Adana            -0.000019  \n",
       "Adıyaman         -0.000013  \n",
       "Afyon            -0.000016  \n",
       "Aksaray          -0.000018  \n",
       "Amasya           -0.000017  \n",
       "\n",
       "[5 rows x 65 columns]"
      ],
      "text/html": [
       "<div>\n",
       "<style scoped>\n",
       "    .dataframe tbody tr th:only-of-type {\n",
       "        vertical-align: middle;\n",
       "    }\n",
       "\n",
       "    .dataframe tbody tr th {\n",
       "        vertical-align: top;\n",
       "    }\n",
       "\n",
       "    .dataframe thead th {\n",
       "        text-align: right;\n",
       "    }\n",
       "</style>\n",
       "<table border=\"1\" class=\"dataframe\">\n",
       "  <thead>\n",
       "    <tr style=\"text-align: right;\">\n",
       "      <th>alt_kategori</th>\n",
       "      <th>aperatifler</th>\n",
       "      <th>baharat-yapimi</th>\n",
       "      <th>bakliyat_yemekleri</th>\n",
       "      <th>balik-deniz-urunleri</th>\n",
       "      <th>borek</th>\n",
       "      <th>cikolatali</th>\n",
       "      <th>corba</th>\n",
       "      <th>corek-hamurisi</th>\n",
       "      <th>dolma</th>\n",
       "      <th>dondurma</th>\n",
       "      <th>...</th>\n",
       "      <th>sulu-yemek</th>\n",
       "      <th>sut-urunleri</th>\n",
       "      <th>sutlu-tatlilar</th>\n",
       "      <th>tart</th>\n",
       "      <th>tatli-kurabiyeler</th>\n",
       "      <th>tavuk-yemekleri</th>\n",
       "      <th>tost</th>\n",
       "      <th>tursu</th>\n",
       "      <th>tuzlu-kurabiyeler</th>\n",
       "      <th>zeytinyagli</th>\n",
       "    </tr>\n",
       "    <tr>\n",
       "      <th>eslesen_sehir</th>\n",
       "      <th></th>\n",
       "      <th></th>\n",
       "      <th></th>\n",
       "      <th></th>\n",
       "      <th></th>\n",
       "      <th></th>\n",
       "      <th></th>\n",
       "      <th></th>\n",
       "      <th></th>\n",
       "      <th></th>\n",
       "      <th></th>\n",
       "      <th></th>\n",
       "      <th></th>\n",
       "      <th></th>\n",
       "      <th></th>\n",
       "      <th></th>\n",
       "      <th></th>\n",
       "      <th></th>\n",
       "      <th></th>\n",
       "      <th></th>\n",
       "      <th></th>\n",
       "    </tr>\n",
       "  </thead>\n",
       "  <tbody>\n",
       "    <tr>\n",
       "      <th>Adana</th>\n",
       "      <td>-0.000037</td>\n",
       "      <td>0.000144</td>\n",
       "      <td>0.000015</td>\n",
       "      <td>0.0</td>\n",
       "      <td>-0.000063</td>\n",
       "      <td>-0.000035</td>\n",
       "      <td>-0.000061</td>\n",
       "      <td>0.000011</td>\n",
       "      <td>0.000030</td>\n",
       "      <td>0.000119</td>\n",
       "      <td>...</td>\n",
       "      <td>0.000010</td>\n",
       "      <td>0.000033</td>\n",
       "      <td>-0.000080</td>\n",
       "      <td>0.000033</td>\n",
       "      <td>-0.000079</td>\n",
       "      <td>-0.000056</td>\n",
       "      <td>0.000030</td>\n",
       "      <td>0.000020</td>\n",
       "      <td>-0.000020</td>\n",
       "      <td>-0.000019</td>\n",
       "    </tr>\n",
       "    <tr>\n",
       "      <th>Adıyaman</th>\n",
       "      <td>-0.000014</td>\n",
       "      <td>0.000112</td>\n",
       "      <td>0.000019</td>\n",
       "      <td>0.0</td>\n",
       "      <td>-0.000048</td>\n",
       "      <td>-0.000025</td>\n",
       "      <td>-0.000062</td>\n",
       "      <td>0.000013</td>\n",
       "      <td>0.000000</td>\n",
       "      <td>0.000088</td>\n",
       "      <td>...</td>\n",
       "      <td>0.000009</td>\n",
       "      <td>0.000054</td>\n",
       "      <td>-0.000078</td>\n",
       "      <td>0.000022</td>\n",
       "      <td>-0.000071</td>\n",
       "      <td>-0.000057</td>\n",
       "      <td>0.000000</td>\n",
       "      <td>0.000032</td>\n",
       "      <td>-0.000017</td>\n",
       "      <td>-0.000013</td>\n",
       "    </tr>\n",
       "    <tr>\n",
       "      <th>Afyon</th>\n",
       "      <td>-0.000026</td>\n",
       "      <td>0.000074</td>\n",
       "      <td>0.000014</td>\n",
       "      <td>0.0</td>\n",
       "      <td>-0.000055</td>\n",
       "      <td>-0.000036</td>\n",
       "      <td>-0.000068</td>\n",
       "      <td>0.000019</td>\n",
       "      <td>0.000023</td>\n",
       "      <td>0.000038</td>\n",
       "      <td>...</td>\n",
       "      <td>0.000009</td>\n",
       "      <td>0.000050</td>\n",
       "      <td>-0.000088</td>\n",
       "      <td>0.000023</td>\n",
       "      <td>-0.000075</td>\n",
       "      <td>-0.000039</td>\n",
       "      <td>0.000093</td>\n",
       "      <td>0.000039</td>\n",
       "      <td>-0.000027</td>\n",
       "      <td>-0.000016</td>\n",
       "    </tr>\n",
       "    <tr>\n",
       "      <th>Aksaray</th>\n",
       "      <td>-0.000024</td>\n",
       "      <td>0.000000</td>\n",
       "      <td>0.000014</td>\n",
       "      <td>0.0</td>\n",
       "      <td>-0.000061</td>\n",
       "      <td>-0.000045</td>\n",
       "      <td>-0.000042</td>\n",
       "      <td>0.000021</td>\n",
       "      <td>0.000027</td>\n",
       "      <td>0.000067</td>\n",
       "      <td>...</td>\n",
       "      <td>0.000008</td>\n",
       "      <td>0.000047</td>\n",
       "      <td>-0.000067</td>\n",
       "      <td>0.000029</td>\n",
       "      <td>-0.000085</td>\n",
       "      <td>-0.000042</td>\n",
       "      <td>0.000036</td>\n",
       "      <td>0.000044</td>\n",
       "      <td>-0.000030</td>\n",
       "      <td>-0.000018</td>\n",
       "    </tr>\n",
       "    <tr>\n",
       "      <th>Amasya</th>\n",
       "      <td>-0.000025</td>\n",
       "      <td>0.000000</td>\n",
       "      <td>0.000016</td>\n",
       "      <td>0.0</td>\n",
       "      <td>-0.000071</td>\n",
       "      <td>-0.000050</td>\n",
       "      <td>-0.000062</td>\n",
       "      <td>0.000023</td>\n",
       "      <td>0.000024</td>\n",
       "      <td>0.000060</td>\n",
       "      <td>...</td>\n",
       "      <td>0.000009</td>\n",
       "      <td>0.000026</td>\n",
       "      <td>-0.000086</td>\n",
       "      <td>0.000017</td>\n",
       "      <td>-0.000076</td>\n",
       "      <td>-0.000036</td>\n",
       "      <td>0.000032</td>\n",
       "      <td>0.000009</td>\n",
       "      <td>-0.000015</td>\n",
       "      <td>-0.000017</td>\n",
       "    </tr>\n",
       "  </tbody>\n",
       "</table>\n",
       "<p>5 rows × 65 columns</p>\n",
       "</div>"
      ]
     },
     "execution_count": 23,
     "metadata": {},
     "output_type": "execute_result"
    }
   ],
   "execution_count": 23
  },
  {
   "metadata": {
    "ExecuteTime": {
     "end_time": "2025-07-28T12:49:54.552399Z",
     "start_time": "2025-07-28T12:49:54.546292Z"
    }
   },
   "cell_type": "code",
   "source": [
    "scaled_tf = city_category_ratio * 1000\n",
    "tfidf_scaled = scaled_tf.multiply(tfidf, axis=1)\n",
    "\n",
    "# TF = log(1 + oran * 1000), böylece hem büyütülür hem log uygulanır\n",
    "log_scaled_tf = np.log1p(city_category_ratio * 1000)\n",
    "\n",
    "# Smoothing’li IDF\n",
    "idf_smooth = np.log1p(N / (1 + category_city_counts))\n",
    "\n",
    "tfidf_log_scaled = log_scaled_tf.multiply(idf_smooth, axis=1)"
   ],
   "id": "75820d2db5b7be6c",
   "outputs": [],
   "execution_count": 24
  },
  {
   "metadata": {
    "ExecuteTime": {
     "end_time": "2025-07-28T12:49:55.012765Z",
     "start_time": "2025-07-28T12:49:55.003767Z"
    }
   },
   "cell_type": "code",
   "source": [
    "print(\"Adana – TF-IDF Raw:\\n\", tfidf.loc['Adana'].sort_values(ascending=False).head())\n",
    "print(\"\\nAdana – TF-IDF Scaled:\\n\", tfidf_scaled.loc['Adana'].sort_values(ascending=False).head())\n",
    "print(\"\\nAdana – TF-IDF Log-Scaled:\\n\", tfidf_log_scaled.loc['Adana'].sort_values(ascending=False).head())\n"
   ],
   "id": "e1c940463468ae6f",
   "outputs": [
    {
     "name": "stdout",
     "output_type": "stream",
     "text": [
      "Adana – TF-IDF Raw:\n",
      " alt_kategori\n",
      "baharat-yapimi    0.000144\n",
      "salamura          0.000124\n",
      "dondurma          0.000119\n",
      "dondurmali        0.000080\n",
      "kis               0.000077\n",
      "Name: Adana, dtype: float64\n",
      "\n",
      "Adana – TF-IDF Scaled:\n",
      " alt_kategori\n",
      "sicak-icecekler    0.000063\n",
      "recel              0.000060\n",
      "dondurma           0.000053\n",
      "tart               0.000044\n",
      "soguk-icecekler    0.000040\n",
      "Name: Adana, dtype: float64\n",
      "\n",
      "Adana – TF-IDF Log-Scaled:\n",
      " alt_kategori\n",
      "kek                  1.532586\n",
      "sutlu-tatlilar       1.383745\n",
      "tatli-kurabiyeler    1.381414\n",
      "pasta                1.349227\n",
      "borek                1.245104\n",
      "Name: Adana, dtype: float64\n"
     ]
    }
   ],
   "execution_count": 25
  },
  {
   "metadata": {
    "ExecuteTime": {
     "end_time": "2025-07-28T12:50:00.815742Z",
     "start_time": "2025-07-28T12:50:00.804775Z"
    }
   },
   "cell_type": "code",
   "source": [
    "from sklearn.cluster import KMeans\n",
    "\n",
    "kmeans = KMeans(n_clusters=4, random_state=42)\n",
    "clusters = kmeans.fit_predict(tfidf)\n",
    "\n",
    "tfidf['cluster'] = clusters"
   ],
   "id": "9addca6c4300a5ca",
   "outputs": [],
   "execution_count": 26
  },
  {
   "metadata": {
    "ExecuteTime": {
     "end_time": "2025-07-28T12:50:01.246648Z",
     "start_time": "2025-07-28T12:50:01.239554Z"
    }
   },
   "cell_type": "code",
   "source": [
    "print(tfidf['cluster'].value_counts())\n",
    "city_clusters = tfidf['cluster']\n",
    "print(city_clusters.head())"
   ],
   "id": "1623a2c005e5353d",
   "outputs": [
    {
     "name": "stdout",
     "output_type": "stream",
     "text": [
      "cluster\n",
      "1    65\n",
      "0     7\n",
      "3     7\n",
      "2     2\n",
      "Name: count, dtype: int64\n",
      "eslesen_sehir\n",
      "Adana       1\n",
      "Adıyaman    1\n",
      "Afyon       1\n",
      "Aksaray     0\n",
      "Amasya      1\n",
      "Name: cluster, dtype: int32\n"
     ]
    }
   ],
   "execution_count": 27
  },
  {
   "metadata": {
    "ExecuteTime": {
     "end_time": "2025-07-28T12:50:01.768562Z",
     "start_time": "2025-07-28T12:50:01.737570Z"
    }
   },
   "cell_type": "code",
   "source": [
    "from sklearn.decomposition import PCA\n",
    "from sklearn.preprocessing import StandardScaler\n",
    "from sklearn.cluster import KMeans\n",
    "\n",
    "# NaN'leri 0 yap (TF-IDF'de olabilir)\n",
    "X = tfidf.fillna(0)\n",
    "\n",
    "# İstersen önce standardize et\n",
    "scaler = StandardScaler()\n",
    "X_scaled = scaler.fit_transform(X)\n",
    "\n",
    "# PCA ile boyutu düşür\n",
    "pca = PCA(n_components=10)  # 10 boyuta indir\n",
    "X_pca = pca.fit_transform(X_scaled)\n",
    "\n",
    "# Şimdi KMeans\n",
    "kmeans = KMeans(n_clusters=4, random_state=42)\n",
    "clusters = kmeans.fit_predict(X_pca)\n",
    "\n",
    "# Sonuçları ekle\n",
    "result_df = city_category_ratio.copy()\n",
    "result_df['cluster'] = clusters\n",
    "print(result_df['cluster'].value_counts())"
   ],
   "id": "67cdf89896f2ba48",
   "outputs": [
    {
     "name": "stdout",
     "output_type": "stream",
     "text": [
      "cluster\n",
      "0    41\n",
      "3    38\n",
      "2     1\n",
      "1     1\n",
      "Name: count, dtype: int64\n"
     ]
    }
   ],
   "execution_count": 28
  },
  {
   "metadata": {},
   "cell_type": "markdown",
   "source": "#Konum + Özellik",
   "id": "d811a17d9bd15a1c"
  },
  {
   "metadata": {
    "ExecuteTime": {
     "end_time": "2025-07-28T12:50:02.345331Z",
     "start_time": "2025-07-28T12:50:02.304188Z"
    }
   },
   "cell_type": "code",
   "source": "print(gdf.columns)",
   "id": "3eeb0f1739a93b7a",
   "outputs": [
    {
     "ename": "NameError",
     "evalue": "name 'gdf' is not defined",
     "output_type": "error",
     "traceback": [
      "\u001B[31m---------------------------------------------------------------------------\u001B[39m",
      "\u001B[31mNameError\u001B[39m                                 Traceback (most recent call last)",
      "\u001B[36mCell\u001B[39m\u001B[36m \u001B[39m\u001B[32mIn[29]\u001B[39m\u001B[32m, line 1\u001B[39m\n\u001B[32m----> \u001B[39m\u001B[32m1\u001B[39m \u001B[38;5;28mprint\u001B[39m(\u001B[43mgdf\u001B[49m.columns)\n",
      "\u001B[31mNameError\u001B[39m: name 'gdf' is not defined"
     ]
    }
   ],
   "execution_count": 29
  },
  {
   "metadata": {
    "ExecuteTime": {
     "end_time": "2025-07-28T12:50:02.648973Z",
     "start_time": "2025-07-28T12:50:02.621518Z"
    }
   },
   "cell_type": "code",
   "source": [
    "import geopandas as gpd\n",
    "from shapely.geometry import shape\n",
    "\n",
    "# geojson_data zaten yüklü\n",
    "features = geojson_data['features']\n",
    "\n",
    "# GeoDataFrame oluştur\n",
    "gdf = gpd.GeoDataFrame.from_features(features)\n",
    "\n",
    "gdf['centroid'] = gdf.geometry.centroid\n",
    "gdf['latitude'] = gdf.centroid.y\n",
    "gdf['longitude'] = gdf.centroid.x\n",
    "\n",
    "# İl isimlerini properties['name'] den çıkaralım\n",
    "gdf['city_name'] = gdf['name']\n",
    "centers = gdf[['city_name', 'latitude', 'longitude']].set_index('city_name')\n",
    "print(centers.head())\n"
   ],
   "id": "b5114cff7d75a7c8",
   "outputs": [
    {
     "name": "stdout",
     "output_type": "stream",
     "text": [
      "            latitude  longitude\n",
      "city_name                      \n",
      "Adana      37.461414  35.594837\n",
      "Adıyaman   37.804617  38.335741\n",
      "Afyon      38.622477  30.655669\n",
      "Ağrı       39.574599  43.268718\n",
      "Aksaray    38.371059  33.841554\n"
     ]
    }
   ],
   "execution_count": 30
  },
  {
   "metadata": {
    "ExecuteTime": {
     "end_time": "2025-07-28T12:50:03.661076Z",
     "start_time": "2025-07-28T12:50:02.909957Z"
    }
   },
   "cell_type": "code",
   "source": [
    "from geopy.distance import great_circle\n",
    "import pandas as pd\n",
    "import numpy as np\n",
    "\n",
    "cities = centers.index.tolist()\n",
    "n = len(cities)\n",
    "\n",
    "distance_matrix = pd.DataFrame(index=cities, columns=cities, dtype=float)\n",
    "\n",
    "for i in range(n):\n",
    "    for j in range(n):\n",
    "        if i == j:\n",
    "            distance_matrix.iloc[i, j] = 0\n",
    "        elif pd.isna(distance_matrix.iloc[i, j]):\n",
    "            loc_i = (centers.iloc[i].latitude, centers.iloc[i].longitude)\n",
    "            loc_j = (centers.iloc[j].latitude, centers.iloc[j].longitude)\n",
    "            dist = great_circle(loc_i, loc_j).kilometers\n",
    "            distance_matrix.iloc[i, j] = dist\n",
    "            distance_matrix.iloc[j, i] = dist\n"
   ],
   "id": "1e102ce12b021c34",
   "outputs": [],
   "execution_count": 31
  },
  {
   "metadata": {
    "ExecuteTime": {
     "end_time": "2025-07-28T12:50:03.858739Z",
     "start_time": "2025-07-28T12:50:03.779363Z"
    }
   },
   "cell_type": "code",
   "source": [
    "from sklearn.manifold import MDS\n",
    "\n",
    "mds = MDS(n_components=2, dissimilarity='precomputed', random_state=42)\n",
    "coords_2d = mds.fit_transform(distance_matrix)"
   ],
   "id": "af1db5bb1ce165d3",
   "outputs": [
    {
     "name": "stderr",
     "output_type": "stream",
     "text": [
      "C:\\Users\\ASUS\\Documents\\4\\4.3\\Bil476\\Culinary Map of Turkey\\.venv\\Lib\\site-packages\\sklearn\\manifold\\_mds.py:677: FutureWarning: The default value of `n_init` will change from 4 to 1 in 1.9.\n",
      "  warnings.warn(\n"
     ]
    }
   ],
   "execution_count": 32
  },
  {
   "metadata": {
    "ExecuteTime": {
     "end_time": "2025-07-28T12:50:03.970367Z",
     "start_time": "2025-07-28T12:50:03.966293Z"
    }
   },
   "cell_type": "code",
   "source": [
    "import numpy as np\n",
    "\n",
    "combined_features = np.hstack([X_pca, coords_2d*1])\n",
    "print(combined_features.shape)  # (N, 12)"
   ],
   "id": "49d7071a38df04d",
   "outputs": [
    {
     "name": "stdout",
     "output_type": "stream",
     "text": [
      "(81, 12)\n"
     ]
    }
   ],
   "execution_count": 33
  },
  {
   "metadata": {
    "ExecuteTime": {
     "end_time": "2025-07-28T12:50:04.113334Z",
     "start_time": "2025-07-28T12:50:04.103183Z"
    }
   },
   "cell_type": "code",
   "source": [
    "kmeans = KMeans(n_clusters=4, random_state=42)\n",
    "clusters = kmeans.fit_predict(combined_features)\n",
    "\n",
    "# Sonuçları ekle\n",
    "result_df = city_category_ratio.copy()\n",
    "result_df['cluster'] = clusters\n",
    "print(result_df['cluster'].value_counts())"
   ],
   "id": "7dbb0826021537a0",
   "outputs": [
    {
     "name": "stdout",
     "output_type": "stream",
     "text": [
      "cluster\n",
      "3    26\n",
      "0    25\n",
      "1    18\n",
      "2    12\n",
      "Name: count, dtype: int64\n"
     ]
    }
   ],
   "execution_count": 34
  },
  {
   "metadata": {
    "ExecuteTime": {
     "end_time": "2025-07-28T12:50:05.031931Z",
     "start_time": "2025-07-28T12:50:04.464310Z"
    }
   },
   "cell_type": "code",
   "source": [
    "import geopandas as gpd\n",
    "from libpysal.weights import Queen\n",
    "\n",
    "gdf = gpd.read_file(\"../tr-cities-utf8.json\")\n",
    "w = Queen.from_dataframe(gdf)  # Komşuluğa göre (kenar dokunuyorsa) komşu sayar\n",
    "adjacency_matrix = w.full()[0]  # NumPy adjacency matrix"
   ],
   "id": "f5b2b0a0915fbb5f",
   "outputs": [
    {
     "name": "stderr",
     "output_type": "stream",
     "text": [
      "C:\\Users\\ASUS\\AppData\\Local\\Temp\\ipykernel_18480\\1569421157.py:5: FutureWarning: `use_index` defaults to False but will default to True in future. Set True/False directly to control this behavior and silence this warning\n",
      "  w = Queen.from_dataframe(gdf)  # Komşuluğa göre (kenar dokunuyorsa) komşu sayar\n"
     ]
    }
   ],
   "execution_count": 35
  },
  {
   "metadata": {
    "ExecuteTime": {
     "end_time": "2025-07-28T12:50:05.172767Z",
     "start_time": "2025-07-28T12:50:05.137947Z"
    }
   },
   "cell_type": "code",
   "source": [
    "from libpysal.weights import Queen\n",
    "w = Queen.from_dataframe(gdf)\n",
    "adjacency_matrix, _ = w.full()\n",
    "\n",
    "print(gdf.geometry.is_empty.sum())     # Kaç geometri boş?\n",
    "print(gdf.geometry.is_valid.sum())     # Kaç geometri geçerli?\n"
   ],
   "id": "35e7b768e02081f",
   "outputs": [
    {
     "name": "stdout",
     "output_type": "stream",
     "text": [
      "0\n",
      "81\n"
     ]
    },
    {
     "name": "stderr",
     "output_type": "stream",
     "text": [
      "C:\\Users\\ASUS\\AppData\\Local\\Temp\\ipykernel_18480\\1551300520.py:2: FutureWarning: `use_index` defaults to False but will default to True in future. Set True/False directly to control this behavior and silence this warning\n",
      "  w = Queen.from_dataframe(gdf)\n"
     ]
    }
   ],
   "execution_count": 36
  },
  {
   "metadata": {
    "ExecuteTime": {
     "end_time": "2025-07-28T12:50:05.434665Z",
     "start_time": "2025-07-28T12:50:05.288570Z"
    }
   },
   "cell_type": "code",
   "source": "gdf.plot()\n",
   "id": "19e15bf85e8ce30d",
   "outputs": [
    {
     "data": {
      "text/plain": [
       "<Axes: >"
      ]
     },
     "execution_count": 37,
     "metadata": {},
     "output_type": "execute_result"
    },
    {
     "data": {
      "text/plain": [
       "<Figure size 640x480 with 1 Axes>"
      ],
      "image/png": "[encoded data removed]"
     },
     "metadata": {},
     "output_type": "display_data"
    }
   ],
   "execution_count": 37
  },
  {
   "metadata": {
    "ExecuteTime": {
     "end_time": "2025-07-28T12:50:13.441580Z",
     "start_time": "2025-07-28T12:50:13.436316Z"
    }
   },
   "cell_type": "code",
   "source": [
    "from scipy.sparse import csr_matrix\n",
    "\n",
    "adjacency_matrix_sparse = csr_matrix(adjacency_matrix)\n",
    "print(adjacency_matrix_sparse.nnz)  # 0’dan büyük olmalı\n"
   ],
   "id": "c997ffb8a3a8e356",
   "outputs": [
    {
     "name": "stdout",
     "output_type": "stream",
     "text": [
      "380\n"
     ]
    }
   ],
   "execution_count": 38
  },
  {
   "metadata": {
    "ExecuteTime": {
     "end_time": "2025-07-28T12:50:14.648095Z",
     "start_time": "2025-07-28T12:50:14.024103Z"
    }
   },
   "cell_type": "code",
   "source": [
    "import networkx as nx\n",
    "import matplotlib.pyplot as plt\n",
    "\n",
    "G = w.to_networkx()\n",
    "plt.figure(figsize=(10, 8))\n",
    "nx.draw(G, node_size=20)\n",
    "plt.title(\"Komşuluk Grafiği\")\n",
    "plt.show()\n"
   ],
   "id": "45171ee47444ff00",
   "outputs": [
    {
     "data": {
      "text/plain": [
       "<Figure size 1000x800 with 1 Axes>"
      ],
      "image/png": "[encoded data removed]"
     },
     "metadata": {},
     "output_type": "display_data"
    }
   ],
   "execution_count": 39
  },
  {
   "metadata": {
    "ExecuteTime": {
     "end_time": "2025-07-28T12:50:16.501635Z",
     "start_time": "2025-07-28T12:50:16.496757Z"
    }
   },
   "cell_type": "code",
   "source": [
    "from scipy.sparse import csr_matrix\n",
    "\n",
    "adjacency_matrix_sparse = csr_matrix(adjacency_matrix)\n"
   ],
   "id": "40d01bc241270ee6",
   "outputs": [],
   "execution_count": 40
  },
  {
   "metadata": {
    "ExecuteTime": {
     "end_time": "2025-07-28T12:50:16.707942Z",
     "start_time": "2025-07-28T12:50:16.696649Z"
    }
   },
   "cell_type": "code",
   "source": [
    "from sklearn.cluster import AgglomerativeClustering\n",
    "\n",
    "model = AgglomerativeClustering(\n",
    "    n_clusters=4,\n",
    "    connectivity=adjacency_matrix_sparse,\n",
    "    linkage='ward'\n",
    ")\n",
    "\n",
    "labels = model.fit_predict(combined_features)\n"
   ],
   "id": "934cfb7a4addad5a",
   "outputs": [],
   "execution_count": 41
  },
  {
   "metadata": {
    "ExecuteTime": {
     "end_time": "2025-07-28T12:50:18.509221Z",
     "start_time": "2025-07-28T12:50:18.504087Z"
    }
   },
   "cell_type": "code",
   "source": "result_df['cluster'] = pd.Series(labels, index=weighted_ratios.index)\n",
   "id": "167ce76ebedb7288",
   "outputs": [],
   "execution_count": 42
  },
  {
   "metadata": {
    "ExecuteTime": {
     "end_time": "2025-07-28T12:50:18.755033Z",
     "start_time": "2025-07-28T12:50:18.695525Z"
    }
   },
   "cell_type": "code",
   "source": [
    "import folium\n",
    "import json\n",
    "import pandas as pd\n",
    "from folium.features import GeoJsonTooltip\n",
    "\n",
    "# GeoJSON'u yükle\n",
    "with open('..//tr-cities-utf8.json', 'r', encoding='utf-8') as f:\n",
    "    geojson_data = json.load(f)\n",
    "\n",
    "# Şehir → Küme eşleşmesi (city_clusters: Series)\n",
    "city_cluster_map = result_df['cluster'].to_dict()\n",
    "n_clusters = result_df['cluster'].nunique()\n",
    "\n",
    "# Manuel renk paleti (küme sayısı 7'ye kadar desteklenir)\n",
    "color_palette = [\n",
    "    '#1f77b4',  # mavi\n",
    "    '#2ca02c',  # yeşil\n",
    "    '#ffcc00',  # sarı\n",
    "    '#d62728',  # kırmızı\n",
    "    '#9467bd',  # mor\n",
    "    '#ff7f0e',  # turuncu\n",
    "    '#e377c2'   # pembe\n",
    "]\n",
    "\n",
    "# Haritayı oluştur\n",
    "m = folium.Map(location=[39, 35], zoom_start=6, tiles='cartodbpositron')\n",
    "\n",
    "# GeoJSON'daki her şehir için küme ata\n",
    "for feature in geojson_data['features']:\n",
    "    city_name = feature['properties']['name']\n",
    "    cluster = city_cluster_map.get(city_name)\n",
    "    feature['properties']['cluster'] = cluster if cluster is not None else -1\n",
    "\n",
    "# Harita katmanı\n",
    "def style_function(feature):\n",
    "    cluster = feature['properties']['cluster']\n",
    "    if cluster == -1:\n",
    "        return {'fillColor': '#cccccc', 'color': 'black', 'weight': 0.5, 'fillOpacity': 0.3}\n",
    "    else:\n",
    "        color = color_palette[cluster % len(color_palette)]\n",
    "        return {\n",
    "            'fillColor': color,\n",
    "            'color': 'black',\n",
    "            'weight': 0.5,\n",
    "            'fillOpacity': 0.7\n",
    "        }\n",
    "\n",
    "folium.GeoJson(\n",
    "    geojson_data,\n",
    "    name='Şehir Kümeleri',\n",
    "    style_function=style_function,\n",
    "    tooltip=GeoJsonTooltip(\n",
    "        fields=['name', 'cluster'],\n",
    "        aliases=['Şehir:', 'Küme:'],\n",
    "        localize=True,\n",
    "        sticky=True\n",
    "    )\n",
    ").add_to(m)\n",
    "\n",
    "folium.LayerControl().add_to(m)\n",
    "\n",
    "# Lejantı manuel ekleyelim\n",
    "legend_html = \"\"\"\n",
    "<div style=\"\n",
    "    position: fixed;\n",
    "    bottom: 50px;\n",
    "    left: 50px;\n",
    "    z-index: 1000;\n",
    "    background-color: white;\n",
    "    border: 1px solid black;\n",
    "    padding: 10px;\n",
    "    border-radius: 5px;\n",
    "    font-size: 14px;\">\n",
    "    <b>Küme Renkleri</b><br>\n",
    "\"\"\"\n",
    "\n",
    "for i in range(n_clusters):\n",
    "    color = color_palette[i % len(color_palette)]\n",
    "    legend_html += f'<i style=\"background:{color};width:18px;height:18px;float:left;margin-right:8px;\"></i>Küme {i}<br>'\n",
    "\n",
    "legend_html += '</div>'\n",
    "m.get_root().html.add_child(folium.Element(legend_html))\n",
    "\n",
    "# Kaydet\n",
    "m.save('..//graphs//sehir_kume_haritasi_konum4.html')\n",
    "print(\"Renkli küme haritası başarıyla oluşturuldu!\")\n"
   ],
   "id": "a75ebb1d5c793a59",
   "outputs": [
    {
     "name": "stdout",
     "output_type": "stream",
     "text": [
      "Renkli küme haritası başarıyla oluşturuldu!\n"
     ]
    }
   ],
   "execution_count": 43
  },
  {
   "metadata": {
    "ExecuteTime": {
     "end_time": "2025-07-28T12:50:21.210868Z",
     "start_time": "2025-07-28T12:50:21.205863Z"
    }
   },
   "cell_type": "code",
   "source": [
    "import numpy as np\n",
    "\n",
    "print(adjacency_matrix_sparse.shape)  # (81, 81) olmalı\n",
    "print(adjacency_matrix_sparse)  # Gözle kontrol için küçük bir bölüm\n"
   ],
   "id": "e6ea573e63a7c134",
   "outputs": [
    {
     "name": "stdout",
     "output_type": "stream",
     "text": [
      "(81, 81)\n",
      "<Compressed Sparse Row sparse matrix of dtype 'float64'\n",
      "\twith 380 stored elements and shape (81, 81)>\n",
      "  Coords\tValues\n",
      "  (0, 36)\t1.0\n",
      "  (0, 41)\t1.0\n",
      "  (0, 46)\t1.0\n",
      "  (0, 57)\t1.0\n",
      "  (0, 61)\t1.0\n",
      "  (0, 63)\t1.0\n",
      "  (1, 25)\t1.0\n",
      "  (1, 32)\t1.0\n",
      "  (1, 41)\t1.0\n",
      "  (1, 54)\t1.0\n",
      "  (1, 67)\t1.0\n",
      "  (2, 24)\t1.0\n",
      "  (2, 31)\t1.0\n",
      "  (2, 38)\t1.0\n",
      "  (2, 52)\t1.0\n",
      "  (2, 53)\t1.0\n",
      "  (2, 76)\t1.0\n",
      "  (3, 17)\t1.0\n",
      "  (3, 30)\t1.0\n",
      "  (3, 37)\t1.0\n",
      "  (3, 44)\t1.0\n",
      "  (3, 59)\t1.0\n",
      "  (3, 77)\t1.0\n",
      "  (4, 6)\t1.0\n",
      "  (4, 50)\t1.0\n",
      "  :\t:\n",
      "  (75, 16)\t1.0\n",
      "  (75, 28)\t1.0\n",
      "  (75, 29)\t1.0\n",
      "  (76, 2)\t1.0\n",
      "  (76, 24)\t1.0\n",
      "  (76, 53)\t1.0\n",
      "  (76, 55)\t1.0\n",
      "  (77, 3)\t1.0\n",
      "  (77, 17)\t1.0\n",
      "  (77, 35)\t1.0\n",
      "  (77, 68)\t1.0\n",
      "  (77, 70)\t1.0\n",
      "  (78, 20)\t1.0\n",
      "  (78, 51)\t1.0\n",
      "  (79, 5)\t1.0\n",
      "  (79, 23)\t1.0\n",
      "  (79, 46)\t1.0\n",
      "  (79, 48)\t1.0\n",
      "  (79, 50)\t1.0\n",
      "  (79, 60)\t1.0\n",
      "  (79, 71)\t1.0\n",
      "  (79, 73)\t1.0\n",
      "  (80, 12)\t1.0\n",
      "  (80, 26)\t1.0\n",
      "  (80, 42)\t1.0\n"
     ]
    }
   ],
   "execution_count": 44
  },
  {
   "metadata": {
    "ExecuteTime": {
     "end_time": "2025-07-28T12:50:21.668158Z",
     "start_time": "2025-07-28T12:50:21.628155Z"
    }
   },
   "cell_type": "code",
   "source": [
    "import geopandas as gpd\n",
    "import networkx as nx\n",
    "from libpysal.weights import Queen\n",
    "from networkx.algorithms.community import kernighan_lin_bisection\n",
    "from matplotlib import pyplot as plt\n",
    "\n",
    "# Queen komşuluk\n",
    "w = Queen.from_dataframe(gdf)\n",
    "\n",
    "# Graph yapısı\n",
    "G = w.to_networkx()\n",
    "\n",
    "# Parçalama (örneğin 5 parçaya bölmek için rekürsif böl)\n",
    "def recursive_partition(graph, num_parts):\n",
    "    components = [set(graph.nodes)]\n",
    "    while len(components) < num_parts:\n",
    "        # En büyük parçayı böl\n",
    "        largest = max(components, key=len)\n",
    "        components.remove(largest)\n",
    "\n",
    "        if len(largest) < 2:\n",
    "            continue  # bölünemez\n",
    "\n",
    "        # Alt grafı al\n",
    "        subgraph = graph.subgraph(largest)\n",
    "        part1, part2 = kernighan_lin_bisection(subgraph)\n",
    "\n",
    "        components.append(part1)\n",
    "        components.append(part2)\n",
    "\n",
    "    return components[:num_parts]\n",
    "\n",
    "# Böl (5 kümeye)\n",
    "clusters = recursive_partition(G, 5)\n",
    "\n",
    "# Sonuçları dataframe'e yaz\n",
    "cluster_dict = {}\n",
    "for i, cluster in enumerate(clusters):\n",
    "    for node in cluster:\n",
    "        cluster_dict[node] = i\n",
    "\n",
    "result_df[\"cluster\"] = gdf.index.map(cluster_dict)\n",
    "\n"
   ],
   "id": "651cfb164be6b256",
   "outputs": [
    {
     "name": "stderr",
     "output_type": "stream",
     "text": [
      "C:\\Users\\ASUS\\AppData\\Local\\Temp\\ipykernel_18480\\2375816184.py:8: FutureWarning: `use_index` defaults to False but will default to True in future. Set True/False directly to control this behavior and silence this warning\n",
      "  w = Queen.from_dataframe(gdf)\n"
     ]
    }
   ],
   "execution_count": 45
  },
  {
   "metadata": {
    "ExecuteTime": {
     "end_time": "2025-07-28T12:50:22.384366Z",
     "start_time": "2025-07-28T12:50:22.379089Z"
    }
   },
   "cell_type": "code",
   "source": "tfidf.columns",
   "id": "409f5177e2f18a32",
   "outputs": [
    {
     "data": {
      "text/plain": [
       "Index(['aperatifler', 'baharat-yapimi', 'bakliyat_yemekleri',\n",
       "       'balik-deniz-urunleri', 'borek', 'cikolatali', 'corba',\n",
       "       'corek-hamurisi', 'dolma', 'dondurma', 'dondurmali',\n",
       "       'dondurulmus-yemekler', 'donut-tatli', 'durum', 'ekmek-hamurisi',\n",
       "       'etli-cig-kofte', 'etsiz-cig-kofte', 'ev-yemekleri',\n",
       "       'geleneksel-tatlilar', 'hamburger', 'helva-tatli', 'hosaf',\n",
       "       'kahvaltılık', 'kanepe', 'kebap', 'kek', 'kirmizi-et-yemekleri', 'kis',\n",
       "       'kis-hazirliklari-diger', 'kizartma', 'kofte', 'komposto',\n",
       "       'krep-hamurisi', 'lokum', 'makarna', 'manti', 'meyveli-tatlilar',\n",
       "       'meze', 'pasta', 'pekmez', 'pide', 'pilav', 'pizza', 'pogaca', 'recel',\n",
       "       'sakatat-yemekleri', 'salamura', 'salata', 'sandvic', 'sarma',\n",
       "       'serbetli-tatlilar', 'sicak', 'sicak-icecekler', 'soguk-icecekler',\n",
       "       'sos', 'sulu-yemek', 'sut-urunleri', 'sutlu-tatlilar', 'tart',\n",
       "       'tatli-kurabiyeler', 'tavuk-yemekleri', 'tost', 'tursu',\n",
       "       'tuzlu-kurabiyeler', 'zeytinyagli', 'cluster'],\n",
       "      dtype='object', name='alt_kategori')"
      ]
     },
     "execution_count": 46,
     "metadata": {},
     "output_type": "execute_result"
    }
   ],
   "execution_count": 46
  },
  {
   "metadata": {
    "ExecuteTime": {
     "end_time": "2025-07-28T13:04:20.453930Z",
     "start_time": "2025-07-28T13:04:20.160285Z"
    }
   },
   "cell_type": "code",
   "source": [
    "import pandas as pd\n",
    "import geopandas as gpd\n",
    "import libpysal\n",
    "from spopt.region import Skater\n",
    "import folium\n",
    "from folium.features import GeoJsonTooltip\n",
    "import json\n",
    "\n",
    "geojson_path = '..//tr-cities-utf8.json'\n",
    "gdf_iller = gpd.read_file(geojson_path)\n",
    "\n",
    "merged_gdf = gdf_iller.merge(tfidf, left_on='name', right_index=True)\n",
    "\n",
    "# Kümelemede kullanılacak özniteliklerin (yemek kategorileri) listesi\n",
    "attrs_to_cluster = tfidf.columns.tolist()\n",
    "\n",
    "w = libpysal.weights.Queen.from_dataframe(merged_gdf)\n",
    "\n",
    "N_CLUSTERS = 4\n",
    "model = Skater(merged_gdf, w, n_clusters=N_CLUSTERS, attrs_name=attrs_to_cluster)\n",
    "model.solve()\n",
    "\n",
    "# 2.3. Küme etiketlerini birleştirilmiş GeoDataFrame'e ekle\n",
    "merged_gdf['cluster'] = model.labels_\n",
    "\n",
    "print(f\"{N_CLUSTERS} adet bitişik küme başarıyla oluşturuldu.\")\n",
    "print(\"Şehir ve Küme Eşleşmeleri:\\n\", merged_gdf[['name', 'cluster']])\n",
    "\n",
    "city_cluster_map = merged_gdf.set_index('name')['cluster'].to_dict()\n",
    "n_clusters = merged_gdf['cluster'].nunique()\n",
    "\n",
    "# Renk paleti\n",
    "color_palette = [\n",
    "    '#1f77b4', '#ff7f0e', '#2ca02c', '#d62728',\n",
    "    '#9467bd', '#8c564b', '#e377c2', '#7f7f7f',\n",
    "    '#bcbd22', '#17becf'\n",
    "]\n",
    "\n",
    "# 3.2. Haritayı oluştur\n",
    "m = folium.Map(location=[39, 35], zoom_start=6, tiles='cartodbpositron')\n",
    "\n",
    "# 3.3. GeoJSON verisini (orijinal, birleşmemiş haliyle) tekrar oku ve işle\n",
    "# Çünkü GeoJson katmanı bu formatı bekliyor.\n",
    "with open(geojson_path, 'r', encoding='utf-8') as f:\n",
    "    geojson_data = json.load(f)\n",
    "\n",
    "# GeoJSON'daki her bir 'feature' için küme bilgisini 'properties' kısmına ekle\n",
    "for feature in geojson_data['features']:\n",
    "    city_name = feature['properties']['name']\n",
    "    cluster = city_cluster_map.get(city_name)\n",
    "    feature['properties']['cluster'] = int(cluster) if pd.notna(cluster) else -1\n",
    "\n",
    "# Stil fonksiyonu\n",
    "def style_function(feature):\n",
    "    cluster = feature['properties']['cluster']\n",
    "    if cluster == -1:\n",
    "        return {'fillColor': '#cccccc', 'color': 'black', 'weight': 0.5, 'fillOpacity': 0.3}\n",
    "    else:\n",
    "        # Küme sayısına göre renk paletini güvenli bir şekilde kullan\n",
    "        color = color_palette[cluster % len(color_palette)]\n",
    "        return {\n",
    "            'fillColor': color,\n",
    "            'color': 'black',\n",
    "            'weight': 0.5,\n",
    "            'fillOpacity': 0.7\n",
    "        }\n",
    "\n",
    "# GeoJson katmanını haritaya ekle\n",
    "folium.GeoJson(\n",
    "    geojson_data,\n",
    "    name='Şehir Kümeleri',\n",
    "    style_function=style_function,\n",
    "    tooltip=GeoJsonTooltip(\n",
    "        fields=['name', 'cluster'],\n",
    "        aliases=['Şehir:', 'Küme:'],\n",
    "        localize=True,\n",
    "        sticky=True\n",
    "    )\n",
    ").add_to(m)\n",
    "\n",
    "# Lejantı (legend) ekle\n",
    "legend_html = f\"\"\"\n",
    "<div style=\"\n",
    "    position: fixed;\n",
    "    bottom: 50px;\n",
    "    left: 50px;\n",
    "    z-index: 1000;\n",
    "    background-color: white;\n",
    "    border: 1px solid black;\n",
    "    padding: 10px;\n",
    "    border-radius: 5px;\n",
    "    font-size: 14px;\">\n",
    "    <b>Yemek Kültürü Bölgeleri</b><br>\n",
    "\"\"\"\n",
    "for i in range(n_clusters):\n",
    "    color = color_palette[i % len(color_palette)]\n",
    "    legend_html += f'<i style=\"background:{color};width:18px;height:18px;float:left;margin-right:8px;\"></i>Bölge {i}<br>'\n",
    "legend_html += '</div>'\n",
    "m.get_root().html.add_child(folium.Element(legend_html))\n",
    "\n",
    "folium.LayerControl().add_to(m)\n",
    "\n",
    "# Haritayı kaydet\n",
    "output_path = '..//graphs//sehir_yemek_kume_haritasi.html'\n",
    "m.save(output_path)\n",
    "print(f\"Renkli küme haritası başarıyla oluşturuldu: {output_path}\")"
   ],
   "id": "e369112d163df994",
   "outputs": [
    {
     "name": "stderr",
     "output_type": "stream",
     "text": [
      "C:\\Users\\ASUS\\AppData\\Local\\Temp\\ipykernel_18480\\3496586557.py:17: FutureWarning: `use_index` defaults to False but will default to True in future. Set True/False directly to control this behavior and silence this warning\n",
      "  w = libpysal.weights.Queen.from_dataframe(merged_gdf)\n"
     ]
    },
    {
     "name": "stdout",
     "output_type": "stream",
     "text": [
      "4 adet bitişik küme başarıyla oluşturuldu.\n",
      "Şehir ve Küme Eşleşmeleri:\n",
      "          name  cluster\n",
      "0       Adana        0\n",
      "1    Adıyaman        0\n",
      "2       Afyon        0\n",
      "3        Ağrı        0\n",
      "4     Aksaray        0\n",
      "..        ...      ...\n",
      "76       Uşak        0\n",
      "77        Van        0\n",
      "78     Yalova        0\n",
      "79     Yozgat        0\n",
      "80  Zonguldak        0\n",
      "\n",
      "[81 rows x 2 columns]\n",
      "Renkli küme haritası başarıyla oluşturuldu: ..//graphs//sehir_yemek_kume_haritasi.html\n"
     ]
    }
   ],
   "execution_count": 62
  },
  {
   "metadata": {
    "ExecuteTime": {
     "end_time": "2025-07-28T12:51:42.036706Z",
     "start_time": "2025-07-28T12:51:38.671141Z"
    }
   },
   "cell_type": "code",
   "source": "pip install --upgrade spopt",
   "id": "7335fa91cad372d",
   "outputs": [
    {
     "name": "stdout",
     "output_type": "stream",
     "text": [
      "Requirement already satisfied: spopt in c:\\users\\asus\\documents\\4\\4.3\\bil476\\culinary map of turkey\\.venv\\lib\\site-packages (0.7.0)\n",
      "Requirement already satisfied: geopandas>=0.14.0 in c:\\users\\asus\\documents\\4\\4.3\\bil476\\culinary map of turkey\\.venv\\lib\\site-packages (from spopt) (1.1.1)\n",
      "Requirement already satisfied: libpysal>=4.10.0 in c:\\users\\asus\\documents\\4\\4.3\\bil476\\culinary map of turkey\\.venv\\lib\\site-packages (from spopt) (4.13.0)\n",
      "Requirement already satisfied: mapclassify>=2.7.0 in c:\\users\\asus\\documents\\4\\4.3\\bil476\\culinary map of turkey\\.venv\\lib\\site-packages (from spopt) (2.10.0)\n",
      "Requirement already satisfied: networkx>=3.2 in c:\\users\\asus\\documents\\4\\4.3\\bil476\\culinary map of turkey\\.venv\\lib\\site-packages (from spopt) (3.5)\n",
      "Requirement already satisfied: numpy>=1.26.0 in c:\\users\\asus\\documents\\4\\4.3\\bil476\\culinary map of turkey\\.venv\\lib\\site-packages (from spopt) (1.26.2)\n",
      "Requirement already satisfied: pandas>=2.1.0 in c:\\users\\asus\\documents\\4\\4.3\\bil476\\culinary map of turkey\\.venv\\lib\\site-packages (from spopt) (2.3.0)\n",
      "Requirement already satisfied: pointpats>=2.4.0 in c:\\users\\asus\\documents\\4\\4.3\\bil476\\culinary map of turkey\\.venv\\lib\\site-packages (from spopt) (2.5.1)\n",
      "Requirement already satisfied: pulp>=2.8 in c:\\users\\asus\\documents\\4\\4.3\\bil476\\culinary map of turkey\\.venv\\lib\\site-packages (from spopt) (3.2.1)\n",
      "Requirement already satisfied: scikit-learn>=1.4.0 in c:\\users\\asus\\documents\\4\\4.3\\bil476\\culinary map of turkey\\.venv\\lib\\site-packages (from spopt) (1.7.0)\n",
      "Requirement already satisfied: scipy>=1.12.0 in c:\\users\\asus\\documents\\4\\4.3\\bil476\\culinary map of turkey\\.venv\\lib\\site-packages (from spopt) (1.16.0)\n",
      "Requirement already satisfied: shapely>=2.1.0 in c:\\users\\asus\\documents\\4\\4.3\\bil476\\culinary map of turkey\\.venv\\lib\\site-packages (from spopt) (2.1.1)\n",
      "Requirement already satisfied: spaghetti>=1.7.4 in c:\\users\\asus\\documents\\4\\4.3\\bil476\\culinary map of turkey\\.venv\\lib\\site-packages (from spopt) (1.7.6)\n",
      "Requirement already satisfied: tqdm>=4.66.0 in c:\\users\\asus\\documents\\4\\4.3\\bil476\\culinary map of turkey\\.venv\\lib\\site-packages (from spopt) (4.67.1)\n",
      "Requirement already satisfied: pyogrio>=0.7.2 in c:\\users\\asus\\documents\\4\\4.3\\bil476\\culinary map of turkey\\.venv\\lib\\site-packages (from geopandas>=0.14.0->spopt) (0.11.0)\n",
      "Requirement already satisfied: packaging in c:\\users\\asus\\documents\\4\\4.3\\bil476\\culinary map of turkey\\.venv\\lib\\site-packages (from geopandas>=0.14.0->spopt) (25.0)\n",
      "Requirement already satisfied: pyproj>=3.5.0 in c:\\users\\asus\\documents\\4\\4.3\\bil476\\culinary map of turkey\\.venv\\lib\\site-packages (from geopandas>=0.14.0->spopt) (3.7.1)\n",
      "Requirement already satisfied: beautifulsoup4>=4.10 in c:\\users\\asus\\documents\\4\\4.3\\bil476\\culinary map of turkey\\.venv\\lib\\site-packages (from libpysal>=4.10.0->spopt) (4.13.4)\n",
      "Requirement already satisfied: platformdirs>=2.0.2 in c:\\users\\asus\\documents\\4\\4.3\\bil476\\culinary map of turkey\\.venv\\lib\\site-packages (from libpysal>=4.10.0->spopt) (4.3.8)\n",
      "Requirement already satisfied: requests>=2.27 in c:\\users\\asus\\documents\\4\\4.3\\bil476\\culinary map of turkey\\.venv\\lib\\site-packages (from libpysal>=4.10.0->spopt) (2.32.4)\n",
      "Requirement already satisfied: python-dateutil>=2.8.2 in c:\\users\\asus\\documents\\4\\4.3\\bil476\\culinary map of turkey\\.venv\\lib\\site-packages (from pandas>=2.1.0->spopt) (2.9.0.post0)\n",
      "Requirement already satisfied: pytz>=2020.1 in c:\\users\\asus\\documents\\4\\4.3\\bil476\\culinary map of turkey\\.venv\\lib\\site-packages (from pandas>=2.1.0->spopt) (2025.2)\n",
      "Requirement already satisfied: tzdata>=2022.7 in c:\\users\\asus\\documents\\4\\4.3\\bil476\\culinary map of turkey\\.venv\\lib\\site-packages (from pandas>=2.1.0->spopt) (2025.2)\n",
      "Requirement already satisfied: matplotlib>=3.6 in c:\\users\\asus\\documents\\4\\4.3\\bil476\\culinary map of turkey\\.venv\\lib\\site-packages (from pointpats>=2.4.0->spopt) (3.10.3)\n",
      "Requirement already satisfied: joblib>=1.2.0 in c:\\users\\asus\\documents\\4\\4.3\\bil476\\culinary map of turkey\\.venv\\lib\\site-packages (from scikit-learn>=1.4.0->spopt) (1.5.1)\n",
      "Requirement already satisfied: threadpoolctl>=3.1.0 in c:\\users\\asus\\documents\\4\\4.3\\bil476\\culinary map of turkey\\.venv\\lib\\site-packages (from scikit-learn>=1.4.0->spopt) (3.6.0)\n",
      "Requirement already satisfied: esda>=2.1 in c:\\users\\asus\\documents\\4\\4.3\\bil476\\culinary map of turkey\\.venv\\lib\\site-packages (from spaghetti>=1.7.4->spopt) (2.7.1)\n",
      "Requirement already satisfied: rtree>=1.0 in c:\\users\\asus\\documents\\4\\4.3\\bil476\\culinary map of turkey\\.venv\\lib\\site-packages (from spaghetti>=1.7.4->spopt) (1.4.0)\n",
      "Requirement already satisfied: colorama in c:\\users\\asus\\documents\\4\\4.3\\bil476\\culinary map of turkey\\.venv\\lib\\site-packages (from tqdm>=4.66.0->spopt) (0.4.6)\n",
      "Requirement already satisfied: soupsieve>1.2 in c:\\users\\asus\\documents\\4\\4.3\\bil476\\culinary map of turkey\\.venv\\lib\\site-packages (from beautifulsoup4>=4.10->libpysal>=4.10.0->spopt) (2.7)\n",
      "Requirement already satisfied: typing-extensions>=4.0.0 in c:\\users\\asus\\documents\\4\\4.3\\bil476\\culinary map of turkey\\.venv\\lib\\site-packages (from beautifulsoup4>=4.10->libpysal>=4.10.0->spopt) (4.14.0)\n",
      "Requirement already satisfied: contourpy>=1.0.1 in c:\\users\\asus\\documents\\4\\4.3\\bil476\\culinary map of turkey\\.venv\\lib\\site-packages (from matplotlib>=3.6->pointpats>=2.4.0->spopt) (1.3.2)\n",
      "Requirement already satisfied: cycler>=0.10 in c:\\users\\asus\\documents\\4\\4.3\\bil476\\culinary map of turkey\\.venv\\lib\\site-packages (from matplotlib>=3.6->pointpats>=2.4.0->spopt) (0.12.1)\n",
      "Requirement already satisfied: fonttools>=4.22.0 in c:\\users\\asus\\documents\\4\\4.3\\bil476\\culinary map of turkey\\.venv\\lib\\site-packages (from matplotlib>=3.6->pointpats>=2.4.0->spopt) (4.58.4)\n",
      "Requirement already satisfied: kiwisolver>=1.3.1 in c:\\users\\asus\\documents\\4\\4.3\\bil476\\culinary map of turkey\\.venv\\lib\\site-packages (from matplotlib>=3.6->pointpats>=2.4.0->spopt) (1.4.8)\n",
      "Requirement already satisfied: pillow>=8 in c:\\users\\asus\\documents\\4\\4.3\\bil476\\culinary map of turkey\\.venv\\lib\\site-packages (from matplotlib>=3.6->pointpats>=2.4.0->spopt) (11.2.1)\n",
      "Requirement already satisfied: pyparsing>=2.3.1 in c:\\users\\asus\\documents\\4\\4.3\\bil476\\culinary map of turkey\\.venv\\lib\\site-packages (from matplotlib>=3.6->pointpats>=2.4.0->spopt) (3.2.3)\n",
      "Requirement already satisfied: certifi in c:\\users\\asus\\documents\\4\\4.3\\bil476\\culinary map of turkey\\.venv\\lib\\site-packages (from pyogrio>=0.7.2->geopandas>=0.14.0->spopt) (2025.6.15)\n",
      "Requirement already satisfied: six>=1.5 in c:\\users\\asus\\documents\\4\\4.3\\bil476\\culinary map of turkey\\.venv\\lib\\site-packages (from python-dateutil>=2.8.2->pandas>=2.1.0->spopt) (1.17.0)\n",
      "Requirement already satisfied: charset_normalizer<4,>=2 in c:\\users\\asus\\documents\\4\\4.3\\bil476\\culinary map of turkey\\.venv\\lib\\site-packages (from requests>=2.27->libpysal>=4.10.0->spopt) (3.4.2)\n",
      "Requirement already satisfied: idna<4,>=2.5 in c:\\users\\asus\\documents\\4\\4.3\\bil476\\culinary map of turkey\\.venv\\lib\\site-packages (from requests>=2.27->libpysal>=4.10.0->spopt) (3.10)\n",
      "Requirement already satisfied: urllib3<3,>=1.21.1 in c:\\users\\asus\\documents\\4\\4.3\\bil476\\culinary map of turkey\\.venv\\lib\\site-packages (from requests>=2.27->libpysal>=4.10.0->spopt) (2.5.0)\n",
      "Note: you may need to restart the kernel to use updated packages.\n"
     ]
    },
    {
     "name": "stderr",
     "output_type": "stream",
     "text": [
      "\n",
      "[notice] A new release of pip is available: 25.0.1 -> 25.1.1\n",
      "[notice] To update, run: python.exe -m pip install --upgrade pip\n"
     ]
    }
   ],
   "execution_count": 49
  },
  {
   "metadata": {
    "ExecuteTime": {
     "end_time": "2025-07-28T12:54:15.135053Z",
     "start_time": "2025-07-28T12:54:15.130159Z"
    }
   },
   "cell_type": "code",
   "source": [
    "import spopt\n",
    "print(spopt.__file__)\n",
    "\n"
   ],
   "id": "47aa69e34fcebb69",
   "outputs": [
    {
     "name": "stdout",
     "output_type": "stream",
     "text": [
      "C:\\Users\\ASUS\\Documents\\4\\4.3\\Bil476\\Culinary Map of Turkey\\.venv\\Lib\\site-packages\\spopt\\__init__.py\n"
     ]
    }
   ],
   "execution_count": 53
  },
  {
   "metadata": {
    "ExecuteTime": {
     "end_time": "2025-07-28T13:32:38.647258Z",
     "start_time": "2025-07-28T13:32:38.437073Z"
    }
   },
   "cell_type": "code",
   "source": [
    "import pandas as pd\n",
    "import geopandas as gpd\n",
    "import libpysal\n",
    "import numpy as np\n",
    "from sklearn.cluster import KMeans\n",
    "from sklearn.metrics import pairwise_distances\n",
    "import folium\n",
    "from folium.features import GeoJsonTooltip\n",
    "import json\n",
    "\n",
    "# 1. Load and prepare data\n",
    "geojson_path = '..//tr-cities-utf8.json'\n",
    "gdf_iller = gpd.read_file(geojson_path)\n",
    "merged_gdf = gdf_iller.merge(tfidf, left_on='name', right_index=True)\n",
    "attrs_to_cluster = tfidf.columns.tolist()\n",
    "\n",
    "# 2. Spatial weights matrix\n",
    "w = libpysal.weights.Queen.from_dataframe(merged_gdf)\n",
    "\n",
    "# 3. Parameters\n",
    "N_CLUSTERS = 4\n",
    "TARGET_SIZE = len(merged_gdf) // N_CLUSTERS\n",
    "MAX_ITERATIONS = 100\n",
    "\n",
    "print(f\"Target: {N_CLUSTERS} clusters with ~{TARGET_SIZE} cities each\")\n",
    "\n",
    "# 4. Custom balanced spatial clustering\n",
    "def balanced_spatial_clustering(gdf, n_clusters, attrs, weights, target_size, max_iter=100):\n",
    "    # Initial KMeans clustering\n",
    "    kmeans = KMeans(n_clusters=n_clusters, random_state=42)\n",
    "    gdf['cluster'] = kmeans.fit_predict(gdf[attrs])\n",
    "\n",
    "    for iteration in range(max_iter):\n",
    "        # Calculate cluster sizes\n",
    "        cluster_sizes = gdf['cluster'].value_counts()\n",
    "\n",
    "        # Check if balanced\n",
    "        if all(abs(size - target_size) <= 2 for size in cluster_sizes):\n",
    "            break\n",
    "\n",
    "        # Find clusters to adjust\n",
    "        large_clusters = cluster_sizes[cluster_sizes > target_size + 2].index.tolist()\n",
    "        small_clusters = cluster_sizes[cluster_sizes < target_size - 2].index.tolist()\n",
    "\n",
    "        if not large_clusters or not small_clusters:\n",
    "            break\n",
    "\n",
    "        # For each small cluster, find border cities that can be reassigned\n",
    "        for small_cluster in small_clusters:\n",
    "            small_cities = gdf[gdf['cluster'] == small_cluster]\n",
    "\n",
    "            # Find border cities (those with neighbors in other clusters)\n",
    "            border_cities = []\n",
    "            for idx in small_cities.index:\n",
    "                neighbors = weights.neighbors.get(idx, [])\n",
    "                neighbor_clusters = set(gdf.loc[neighbors, 'cluster'])\n",
    "                if len(neighbor_clusters - {small_cluster}) > 0:\n",
    "                    border_cities.append(idx)\n",
    "\n",
    "            if not border_cities:\n",
    "                continue\n",
    "\n",
    "            # For each border city, find best alternative cluster\n",
    "            for city_idx in border_cities:\n",
    "                current_cluster = gdf.at[city_idx, 'cluster']\n",
    "\n",
    "                # Find neighboring clusters\n",
    "                neighbors = weights.neighbors.get(city_idx, [])\n",
    "                neighbor_clusters = gdf.loc[neighbors, 'cluster'].unique()\n",
    "\n",
    "                # Filter to only clusters that need more cities\n",
    "                candidate_clusters = [c for c in neighbor_clusters\n",
    "                                   if c in large_clusters and c != current_cluster]\n",
    "\n",
    "                if not candidate_clusters:\n",
    "                    continue\n",
    "\n",
    "                # Find closest cluster center\n",
    "                city_data = gdf.loc[city_idx, attrs].values.reshape(1, -1)\n",
    "                cluster_centers = []\n",
    "                for cluster in candidate_clusters:\n",
    "                    center = gdf[gdf['cluster'] == cluster][attrs].mean().values.reshape(1, -1)\n",
    "                    cluster_centers.append((cluster, center))\n",
    "\n",
    "                distances = [(c, pairwise_distances(city_data, center)[0][0])\n",
    "                            for c, center in cluster_centers]\n",
    "                new_cluster = min(distances, key=lambda x: x[1])[0]\n",
    "\n",
    "                # Reassign city\n",
    "                gdf.at[city_idx, 'cluster'] = new_cluster\n",
    "\n",
    "                # Update cluster sizes\n",
    "                cluster_sizes = gdf['cluster'].value_counts()\n",
    "\n",
    "                # Check if we've fixed the imbalance\n",
    "                if all(abs(size - target_size) <= 2 for size in cluster_sizes):\n",
    "                    return gdf\n",
    "\n",
    "    return gdf\n",
    "\n",
    "# Apply clustering\n",
    "merged_gdf = balanced_spatial_clustering(\n",
    "    merged_gdf,\n",
    "    N_CLUSTERS,\n",
    "    attrs_to_cluster,\n",
    "    w,\n",
    "    TARGET_SIZE,\n",
    "    MAX_ITERATIONS\n",
    ")\n",
    "\n",
    "# 5. Verify final cluster sizes\n",
    "final_sizes = merged_gdf['cluster'].value_counts()\n",
    "print(\"Final cluster sizes:\\n\", final_sizes)\n",
    "\n",
    "# 6. Visualization (same as before)\n",
    "city_cluster_map = merged_gdf.set_index('name')['cluster'].to_dict()\n",
    "n_clusters = merged_gdf['cluster'].nunique()\n",
    "\n",
    "color_palette = [\n",
    "    '#1f77b4', '#ff7f0e', '#2ca02c', '#d62728',\n",
    "    '#9467bd', '#8c564b', '#e377c2', '#7f7f7f',\n",
    "    '#bcbd22', '#17becf'\n",
    "]\n",
    "\n",
    "m = folium.Map(location=[39, 35], zoom_start=6, tiles='cartodbpositron')\n",
    "\n",
    "with open(geojson_path, 'r', encoding='utf-8') as f:\n",
    "    geojson_data = json.load(f)\n",
    "\n",
    "for feature in geojson_data['features']:\n",
    "    city_name = feature['properties']['name']\n",
    "    cluster = city_cluster_map.get(city_name)\n",
    "    feature['properties']['cluster'] = int(cluster) if pd.notna(cluster) else -1\n",
    "\n",
    "def style_function(feature):\n",
    "    cluster = feature['properties']['cluster']\n",
    "    if cluster == -1:\n",
    "        return {'fillColor': '#cccccc', 'color': 'black', 'weight': 0.5, 'fillOpacity': 0.3}\n",
    "    else:\n",
    "        color = color_palette[cluster % len(color_palette)]\n",
    "        return {\n",
    "            'fillColor': color,\n",
    "            'color': 'black',\n",
    "            'weight': 0.5,\n",
    "            'fillOpacity': 0.7\n",
    "        }\n",
    "\n",
    "folium.GeoJson(\n",
    "    geojson_data,\n",
    "    name='Şehir Kümeleri',\n",
    "    style_function=style_function,\n",
    "    tooltip=GeoJsonTooltip(\n",
    "        fields=['name', 'cluster'],\n",
    "        aliases=['Şehir:', 'Küme:'],\n",
    "        localize=True,\n",
    "        sticky=True\n",
    "    )\n",
    ").add_to(m)\n",
    "\n",
    "legend_html = f\"\"\"\n",
    "<div style=\"\n",
    "    position: fixed;\n",
    "    bottom: 50px;\n",
    "    left: 50px;\n",
    "    z-index: 1000;\n",
    "    background-color: white;\n",
    "    border: 1px solid black;\n",
    "    padding: 10px;\n",
    "    border-radius: 5px;\n",
    "    font-size: 14px;\">\n",
    "    <b>Yemek Kültürü Bölgeleri</b><br>\n",
    "\"\"\"\n",
    "for i in range(n_clusters):\n",
    "    color = color_palette[i % len(color_palette)]\n",
    "    legend_html += f'<i style=\"background:{color};width:18px;height:18px;float:left;margin-right:8px;\"></i>Bölge {i}<br>'\n",
    "legend_html += '</div>'\n",
    "m.get_root().html.add_child(folium.Element(legend_html))\n",
    "\n",
    "folium.LayerControl().add_to(m)\n",
    "\n",
    "output_path = '..//graphs//sehir_yemek_kume_haritasi.html'\n",
    "m.save(output_path)\n",
    "print(f\"Renkli küme haritası başarıyla oluşturuldu: {output_path}\")"
   ],
   "id": "f9b23db73d8b5979",
   "outputs": [
    {
     "name": "stdout",
     "output_type": "stream",
     "text": [
      "Target: 4 clusters with ~20 cities each\n",
      "Final cluster sizes:\n",
      " cluster\n",
      "0    81\n",
      "Name: count, dtype: int64\n",
      "Renkli küme haritası başarıyla oluşturuldu: ..//graphs//sehir_yemek_kume_haritasi.html\n"
     ]
    },
    {
     "name": "stderr",
     "output_type": "stream",
     "text": [
      "C:\\Users\\ASUS\\AppData\\Local\\Temp\\ipykernel_18480\\2931218758.py:18: FutureWarning: `use_index` defaults to False but will default to True in future. Set True/False directly to control this behavior and silence this warning\n",
      "  w = libpysal.weights.Queen.from_dataframe(merged_gdf)\n"
     ]
    }
   ],
   "execution_count": 69
  },
  {
   "metadata": {
    "ExecuteTime": {
     "end_time": "2025-07-28T13:44:01.337682Z",
     "start_time": "2025-07-28T13:44:01.332508Z"
    }
   },
   "cell_type": "code",
   "source": "tfidf.columns",
   "id": "197e7c4cb65a814a",
   "outputs": [
    {
     "data": {
      "text/plain": [
       "Index(['aperatifler', 'baharat-yapimi', 'bakliyat_yemekleri',\n",
       "       'balik-deniz-urunleri', 'borek', 'cikolatali', 'corba',\n",
       "       'corek-hamurisi', 'dolma', 'dondurma', 'dondurmali',\n",
       "       'dondurulmus-yemekler', 'donut-tatli', 'durum', 'ekmek-hamurisi',\n",
       "       'etli-cig-kofte', 'etsiz-cig-kofte', 'ev-yemekleri',\n",
       "       'geleneksel-tatlilar', 'hamburger', 'helva-tatli', 'hosaf',\n",
       "       'kahvaltılık', 'kanepe', 'kebap', 'kek', 'kirmizi-et-yemekleri', 'kis',\n",
       "       'kis-hazirliklari-diger', 'kizartma', 'kofte', 'komposto',\n",
       "       'krep-hamurisi', 'lokum', 'makarna', 'manti', 'meyveli-tatlilar',\n",
       "       'meze', 'pasta', 'pekmez', 'pide', 'pilav', 'pizza', 'pogaca', 'recel',\n",
       "       'sakatat-yemekleri', 'salamura', 'salata', 'sandvic', 'sarma',\n",
       "       'serbetli-tatlilar', 'sicak', 'sicak-icecekler', 'soguk-icecekler',\n",
       "       'sos', 'sulu-yemek', 'sut-urunleri', 'sutlu-tatlilar', 'tart',\n",
       "       'tatli-kurabiyeler', 'tavuk-yemekleri', 'tost', 'tursu',\n",
       "       'tuzlu-kurabiyeler', 'zeytinyagli', 'cluster'],\n",
       "      dtype='object', name='alt_kategori')"
      ]
     },
     "execution_count": 84,
     "metadata": {},
     "output_type": "execute_result"
    }
   ],
   "execution_count": 84
  },
  {
   "metadata": {
    "ExecuteTime": {
     "end_time": "2025-07-28T13:46:35.545329Z",
     "start_time": "2025-07-28T13:46:35.540197Z"
    }
   },
   "cell_type": "code",
   "source": "tfidf.drop(columns=['cluster'], inplace=True, errors='ignore')",
   "id": "93c602f8cc011fad",
   "outputs": [],
   "execution_count": 88
  },
  {
   "metadata": {
    "ExecuteTime": {
     "end_time": "2025-07-28T14:21:32.174890Z",
     "start_time": "2025-07-28T14:21:31.564251Z"
    }
   },
   "cell_type": "code",
   "source": [
    "import pandas as pd\n",
    "import geopandas as gpd\n",
    "import libpysal\n",
    "# Değişiklik 1: Doğru model olan AZP'yi import ediyoruz.\n",
    "from spopt.region import AZP\n",
    "import folium\n",
    "from folium.features import GeoJsonTooltip\n",
    "import json\n",
    "\n",
    "# Bu kısım sizin kodunuzla aynı, tfidf DataFrame'inizin yüklendiğini varsayıyoruz.\n",
    "# Örnek bir tfidf DataFrame'i oluşturalım (Siz kendi verinizi kullanacaksınız)\n",
    "#-------------------------------------------------------------------------------\n",
    "geojson_path = '..//tr-cities-utf8.json'\n",
    "gdf_iller = gpd.read_file(geojson_path)\n",
    "cities_list = gdf_iller['name'].tolist()\n",
    "\n",
    "\n",
    "merged_gdf = gdf_iller.merge(tfidf, left_on='name', right_index=True)\n",
    "\n",
    "# Kümelemede kullanılacak özniteliklerin (yemek kategorileri) listesi\n",
    "attrs_to_cluster = tfidf.columns.tolist()\n",
    "\n",
    "w = libpysal.weights.Queen.from_dataframe(merged_gdf)\n",
    "\n",
    "MIN_CITIES_PER_CLUSTER = 10\n",
    "N_CLUSTERS = 4\n",
    "\n",
    "# Her şehri \"1\" olarak saymak için gerekli sütun\n",
    "merged_gdf['count'] = 1\n",
    "\n",
    "# AZP modelini, ihtiyacımıza uygun parametrelerle kuruyoruz.\n",
    "# 'floor' veya 'floor_variable' burada hala YOK.\n",
    "model = AZP(\n",
    "    gdf=merged_gdf,\n",
    "    w=w,\n",
    "    attrs_name=attrs_to_cluster,\n",
    "    n_clusters=N_CLUSTERS,\n",
    "    random_state=42 # Belirli bir sayı atayarak\n",
    ")\n",
    "\n",
    "# Değişiklik: floor ve floor_variable değerlerini AZP nesnesinin öznitelikleri olarak ayarlıyoruz.\n",
    "# Yani, model objesi üzerinde doğrudan atama yapıyoruz.\n",
    "model.floor = MIN_CITIES_PER_CLUSTER\n",
    "model.floor_variable = 'count'\n",
    "\n",
    "# Şimdi solve() metodunu parametre olmadan çağırın.\n",
    "model.solve()\n",
    "\n",
    "# Küme etiketlerini birleştirilmiş GeoDataFrame'e ekle\n",
    "merged_gdf['cluster'] = model.labels_\n",
    "\n",
    "print(f\"{N_CLUSTERS} adet bitişik küme başarıyla oluşturuldu.\")\n",
    "# Her bir kümedeki şehir sayısını kontrol edelim\n",
    "print(\"\\nHer Kümedeki Şehir Sayısı:\")\n",
    "print(merged_gdf['cluster'].value_counts().sort_index())\n",
    "print(\"\\nŞehir ve Küme Eşleşmeleri:\\n\", merged_gdf[['name', 'cluster']])\n",
    "\n",
    "\n",
    "# Haritalama kodunuzda herhangi bir değişiklik yapmaya gerek yoktur.\n",
    "# Buradan sonrası sorunsuz çalışacaktır.\n",
    "\n",
    "city_cluster_map = merged_gdf.set_index('name')['cluster'].to_dict()\n",
    "n_clusters = merged_gdf['cluster'].nunique()\n",
    "\n",
    "color_palette = [\n",
    "    '#1f77b4', '#ff7f0e', '#2ca02c', '#d62728',\n",
    "    '#9467bd', '#8c564b', '#e377c2', '#7f7f7f',\n",
    "    '#bcbd22', '#17becf'\n",
    "]\n",
    "\n",
    "m = folium.Map(location=[39, 35], zoom_start=6, tiles='cartodbpositron')\n",
    "\n",
    "with open(geojson_path, 'r', encoding='utf-8') as f:\n",
    "    geojson_data = json.load(f)\n",
    "\n",
    "for feature in geojson_data['features']:\n",
    "    city_name = feature['properties']['name']\n",
    "    cluster = city_cluster_map.get(city_name)\n",
    "    feature['properties']['cluster'] = int(cluster) if pd.notna(cluster) else -1\n",
    "\n",
    "def style_function(feature):\n",
    "    cluster = feature['properties']['cluster']\n",
    "    if cluster == -1:\n",
    "        return {'fillColor': '#cccccc', 'color': 'black', 'weight': 0.5, 'fillOpacity': 0.3}\n",
    "    else:\n",
    "        color = color_palette[cluster % len(color_palette)]\n",
    "        return {\n",
    "            'fillColor': color,\n",
    "            'color': 'black',\n",
    "            'weight': 0.5,\n",
    "            'fillOpacity': 0.7\n",
    "        }\n",
    "\n",
    "folium.GeoJson(\n",
    "    geojson_data,\n",
    "    name='Şehir Kümeleri',\n",
    "    style_function=style_function,\n",
    "    tooltip=GeoJsonTooltip(\n",
    "        fields=['name', 'cluster'],\n",
    "        aliases=['Şehir:', 'Küme:'],\n",
    "        localize=True,\n",
    "        sticky=True\n",
    "    )\n",
    ").add_to(m)\n",
    "\n",
    "legend_html = f\"\"\"\n",
    "<div style=\"\n",
    "    position: fixed;\n",
    "    bottom: 50px;\n",
    "    left: 50px;\n",
    "    z-index: 1000;\n",
    "    background-color: white;\n",
    "    border: 1px solid black;\n",
    "    padding: 10px;\n",
    "    border-radius: 5px;\n",
    "    font-size: 14px;\">\n",
    "    <b>Yemek Kültürü Bölgeleri</b><br>\n",
    "\"\"\"\n",
    "for i in range(n_clusters):\n",
    "    color = color_palette[i % len(color_palette)]\n",
    "    legend_html += f'<i style=\"background:{color};width:18px;height:18px;float:left;margin-right:8px;\"></i>Bölge {i}<br>'\n",
    "legend_html += '</div>'\n",
    "m.get_root().html.add_child(folium.Element(legend_html))\n",
    "\n",
    "folium.LayerControl().add_to(m)\n",
    "\n",
    "output_path = '..//graphs//sehir_yemek_kume_haritasi_min10_AZP.html'\n",
    "m.save(output_path)\n",
    "print(f\"\\nMinimum 10 şehirden oluşan renkli küme haritası başarıyla oluşturuldu: {output_path}\")"
   ],
   "id": "695f56da3660b9ff",
   "outputs": [
    {
     "name": "stderr",
     "output_type": "stream",
     "text": [
      "C:\\Users\\ASUS\\AppData\\Local\\Temp\\ipykernel_18480\\4062019948.py:23: FutureWarning: `use_index` defaults to False but will default to True in future. Set True/False directly to control this behavior and silence this warning\n",
      "  w = libpysal.weights.Queen.from_dataframe(merged_gdf)\n"
     ]
    },
    {
     "name": "stdout",
     "output_type": "stream",
     "text": [
      "4 adet bitişik küme başarıyla oluşturuldu.\n",
      "\n",
      "Her Kümedeki Şehir Sayısı:\n",
      "cluster\n",
      "0.0    19\n",
      "1.0    24\n",
      "2.0    17\n",
      "3.0    21\n",
      "Name: count, dtype: int64\n",
      "\n",
      "Şehir ve Küme Eşleşmeleri:\n",
      "          name  cluster\n",
      "0       Adana      1.0\n",
      "1    Adıyaman      0.0\n",
      "2       Afyon      1.0\n",
      "3        Ağrı      2.0\n",
      "4     Aksaray      1.0\n",
      "..        ...      ...\n",
      "76       Uşak      3.0\n",
      "77        Van      2.0\n",
      "78     Yalova      3.0\n",
      "79     Yozgat      3.0\n",
      "80  Zonguldak      3.0\n",
      "\n",
      "[81 rows x 2 columns]\n",
      "\n",
      "Minimum 10 şehirden oluşan renkli küme haritası başarıyla oluşturuldu: ..//graphs//sehir_yemek_kume_haritasi_min10_AZP.html\n"
     ]
    }
   ],
   "execution_count": 102
  },
  {
   "metadata": {
    "ExecuteTime": {
     "end_time": "2025-07-28T14:22:52.413401Z",
     "start_time": "2025-07-28T14:21:35.206076Z"
    }
   },
   "cell_type": "code",
   "source": [
    "import numpy as np\n",
    "import pandas as pd\n",
    "from sklearn.cluster import AgglomerativeClustering # Son kümeleme için\n",
    "\n",
    "# --- Ön Hazırlık ---\n",
    "# merged_gdf, w, attrs_to_cluster, N_CLUSTERS, MIN_CITIES_PER_CLUSTER tanımlanmış olmalı\n",
    "# Örn: merged_gdf['count'] = 1\n",
    "\n",
    "NUM_RUNS = 100 # Kaç kez çalıştırılacağı\n",
    "\n",
    "# Kümeleme etiketlerini saklamak için bir liste\n",
    "all_labels = []\n",
    "\n",
    "print(f\"AZP modelini {NUM_RUNS} kez çalıştırıyor...\")\n",
    "\n",
    "for i in range(NUM_RUNS):\n",
    "    # Her çalıştırmada yeni bir model oluşturmak önemlidir\n",
    "    model = AZP(\n",
    "        gdf=merged_gdf,\n",
    "        w=w,\n",
    "        attrs_name=attrs_to_cluster,\n",
    "        n_clusters=N_CLUSTERS\n",
    "    )\n",
    "    # Floor ve floor_variable özniteliklerini ata\n",
    "    model.floor = MIN_CITIES_PER_CLUSTER\n",
    "    model.floor_variable = 'count'\n",
    "\n",
    "    try:\n",
    "        model.solve()\n",
    "        all_labels.append(model.labels_)\n",
    "    except Exception as e:\n",
    "        # Hata durumunda (örneğin, bazı iterasyonlarda çözüm bulunamayabilir)\n",
    "        # Bu iterasyonu atlayabilir veya loglayabilirsiniz.\n",
    "        print(f\"Çalıştırma {i+1} hata verdi: {e}\")\n",
    "        continue # Bu çalıştırmayı atla ve sonraki iterasyona geç\n",
    "\n",
    "print(f\"{len(all_labels)} başarılı çalıştırma tamamlandı.\")\n",
    "\n",
    "if not all_labels:\n",
    "    print(\"Hiçbir başarılı kümeleme sonucu elde edilemedi. Lütfen parametrelerinizi kontrol edin.\")\n",
    "else:\n",
    "    # --- Uyuşma Matrisi Oluşturma ---\n",
    "    num_cities = len(merged_gdf)\n",
    "    co_occurrence_matrix = np.zeros((num_cities, num_cities))\n",
    "\n",
    "    for labels in all_labels:\n",
    "        # Her bir çalıştırmanın etiketlerini kullanarak\n",
    "        for i in range(num_cities):\n",
    "            for j in range(i + 1, num_cities): # Tekrar eden çiftleri önlemek için\n",
    "                if labels[i] == labels[j]:\n",
    "                    co_occurrence_matrix[i, j] += 1\n",
    "                    co_occurrence_matrix[j, i] += 1 # Matrisi simetrik yap\n",
    "\n",
    "    # Matrisin köşegenini (kendisiyle aynı kümede olma) de işaretle\n",
    "    np.fill_diagonal(co_occurrence_matrix, len(all_labels)) # Veya NUM_RUNS\n",
    "\n",
    "    # Benzerlik Matrisine Dönüştürme\n",
    "    similarity_matrix = co_occurrence_matrix / len(all_labels) # Başarılı çalıştırma sayısına böl\n",
    "\n",
    "    # --- Son Kümelemeyi Elde Etme ---\n",
    "    # Benzerlik matrisini uzaklık matrisine dönüştür (1 - benzerlik)\n",
    "    distance_matrix = 1 - similarity_matrix\n",
    "\n",
    "    # Hiyerarşik kümeleme kullanıyoruz. Bu, benzerlik matrisi üzerinden kümeleme için uygundur.\n",
    "    # affinity='precomputed' sayesinde kendi hazırladığımız uzaklık matrisini kullanırız.\n",
    "    # linkage='average' yaygın bir bağlantı yöntemidir.\n",
    "    final_cluster_model = AgglomerativeClustering(\n",
    "        n_clusters=N_CLUSTERS,\n",
    "        metric='precomputed', # scikit-learn 1.2+ için \"metric\" yerine \"affinity\" kullanılmalıydı\n",
    "        linkage='average'\n",
    "    )\n",
    "    # Scikit-learn'in bazı versiyonlarında 'affinity' yerine 'metric' kullanılır.\n",
    "    # Eğer hata alırsanız 'metric' yerine 'affinity' deneyin.\n",
    "    # Örneğin, 'metric' yerine 'affinity' (eski sklearn versiyonları için)\n",
    "    # final_cluster_model = AgglomerativeClustering(\n",
    "    #     n_clusters=N_CLUSTERS,\n",
    "    #     affinity='precomputed',\n",
    "    #     linkage='average'\n",
    "    # )\n",
    "\n",
    "    final_labels = final_cluster_model.fit_predict(distance_matrix)\n",
    "\n",
    "    # Nihai küme etiketlerini GeoDataFrame'e ekle\n",
    "    merged_gdf['consensus_cluster'] = final_labels\n",
    "\n",
    "    print(\"\\nKonsensüs kümeleme tamamlandı.\")\n",
    "    print(\"Sonuçlar 'merged_gdf' DataFrame'indeki 'consensus_cluster' sütununda.\")\n",
    "    print(merged_gdf['consensus_cluster'].value_counts())"
   ],
   "id": "25a5e1a3ae6ecfe7",
   "outputs": [
    {
     "name": "stdout",
     "output_type": "stream",
     "text": [
      "AZP modelini 100 kez çalıştırıyor...\n",
      "100 başarılı çalıştırma tamamlandı.\n",
      "\n",
      "Konsensüs kümeleme tamamlandı.\n",
      "Sonuçlar 'merged_gdf' DataFrame'indeki 'consensus_cluster' sütununda.\n",
      "consensus_cluster\n",
      "2    24\n",
      "0    23\n",
      "1    18\n",
      "3    16\n",
      "Name: count, dtype: int64\n"
     ]
    }
   ],
   "execution_count": 103
  },
  {
   "metadata": {
    "ExecuteTime": {
     "end_time": "2025-07-28T14:23:04.067924Z",
     "start_time": "2025-07-28T14:23:04.007990Z"
    }
   },
   "cell_type": "code",
   "source": [
    "city_cluster_map = merged_gdf.set_index('name')['consensus_cluster'].to_dict()\n",
    "n_clusters = merged_gdf['consensus_cluster'].nunique()\n",
    "\n",
    "color_palette = [\n",
    "    '#1f77b4', '#ff7f0e', '#2ca02c', '#d62728',\n",
    "    '#9467bd', '#8c564b', '#e377c2', '#7f7f7f',\n",
    "    '#bcbd22', '#17becf'\n",
    "]\n",
    "\n",
    "m = folium.Map(location=[39, 35], zoom_start=6, tiles='cartodbpositron')\n",
    "\n",
    "with open(geojson_path, 'r', encoding='utf-8') as f:\n",
    "    geojson_data = json.load(f)\n",
    "\n",
    "for feature in geojson_data['features']:\n",
    "    city_name = feature['properties']['name']\n",
    "    cluster = city_cluster_map.get(city_name)\n",
    "    feature['properties']['cluster'] = int(cluster) if pd.notna(cluster) else -1\n",
    "\n",
    "def style_function(feature):\n",
    "    cluster = feature['properties']['cluster']\n",
    "    if cluster == -1:\n",
    "        return {'fillColor': '#cccccc', 'color': 'black', 'weight': 0.5, 'fillOpacity': 0.3}\n",
    "    else:\n",
    "        color = color_palette[cluster % len(color_palette)]\n",
    "        return {\n",
    "            'fillColor': color,\n",
    "            'color': 'black',\n",
    "            'weight': 0.5,\n",
    "            'fillOpacity': 0.7\n",
    "        }\n",
    "\n",
    "folium.GeoJson(\n",
    "    geojson_data,\n",
    "    name='Şehir Kümeleri',\n",
    "    style_function=style_function,\n",
    "    tooltip=GeoJsonTooltip(\n",
    "        fields=['name', 'cluster'],\n",
    "        aliases=['Şehir:', 'Küme:'],\n",
    "        localize=True,\n",
    "        sticky=True\n",
    "    )\n",
    ").add_to(m)\n",
    "\n",
    "legend_html = f\"\"\"\n",
    "<div style=\"\n",
    "    position: fixed;\n",
    "    bottom: 50px;\n",
    "    left: 50px;\n",
    "    z-index: 1000;\n",
    "    background-color: white;\n",
    "    border: 1px solid black;\n",
    "    padding: 10px;\n",
    "    border-radius: 5px;\n",
    "    font-size: 14px;\">\n",
    "    <b>Yemek Kültürü Bölgeleri</b><br>\n",
    "\"\"\"\n",
    "for i in range(n_clusters):\n",
    "    color = color_palette[i % len(color_palette)]\n",
    "    legend_html += f'<i style=\"background:{color};width:18px;height:18px;float:left;margin-right:8px;\"></i>Bölge {i}<br>'\n",
    "legend_html += '</div>'\n",
    "m.get_root().html.add_child(folium.Element(legend_html))\n",
    "\n",
    "folium.LayerControl().add_to(m)\n",
    "\n",
    "output_path = '..//graphs//sehir_yemek_kume_haritasi_min10_AZP100.html'\n",
    "m.save(output_path)\n",
    "print(f\"\\nMinimum 10 şehirden oluşan renkli küme haritası başarıyla oluşturuldu: {output_path}\")"
   ],
   "id": "34926584990b5742",
   "outputs": [
    {
     "name": "stdout",
     "output_type": "stream",
     "text": [
      "\n",
      "Minimum 10 şehirden oluşan renkli küme haritası başarıyla oluşturuldu: ..//graphs//sehir_yemek_kume_haritasi_min10_AZP100.html\n"
     ]
    }
   ],
   "execution_count": 104
  },
  {
   "metadata": {
    "ExecuteTime": {
     "end_time": "2025-07-28T14:23:06.147964Z",
     "start_time": "2025-07-28T14:23:06.039778Z"
    }
   },
   "cell_type": "code",
   "source": [
    "from scipy import stats\n",
    "import pandas as pd\n",
    "import numpy as np\n",
    "\n",
    "# 'merged_gdf' GeoDataFrame'iniz ve 'consensus_cluster' sütununuzun oluştuğunu varsayalım\n",
    "# 'attrs_to_cluster' ise kümelemede kullanılan TF-IDF sütun adlarınızın listesi\n",
    "\n",
    "print(\"Z-Testi ile küme özelliklerini analiz ediyor...\")\n",
    "\n",
    "# Her bir küme için analiz\n",
    "for cluster_id in sorted(merged_gdf['consensus_cluster'].unique()):\n",
    "    print(f\"\\n--- Küme {cluster_id} Analizi ---\")\n",
    "    cluster_data = merged_gdf[merged_gdf['consensus_cluster'] == cluster_id]\n",
    "\n",
    "    for attr in attrs_to_cluster:\n",
    "        # Kümenin özellik ortalaması ve standart sapması\n",
    "        cluster_mean = cluster_data[attr].mean()\n",
    "        cluster_std = cluster_data[attr].std()\n",
    "        cluster_n = len(cluster_data)\n",
    "\n",
    "        # Genel veri setinin özellik ortalaması ve standart sapması (popülasyon olarak kabul)\n",
    "        # Geniş veri setinde çok sayıda şehir olduğu için örneklem boyutu büyük kabul edilebilir.\n",
    "        population_mean = merged_gdf[attr].mean()\n",
    "        population_std = merged_gdf[attr].std() # Eğer popülasyon std. sapması bilinmiyorsa örneklemden tahmin edilir.\n",
    "\n",
    "        # Eğer kümenin standart sapması sıfırsa (tüm değerler aynıysa) veya örneklem çok küçükse\n",
    "        # Z-testi uygulanamaz veya anlamsız olur. Bu durumlar için kontrol ekleyelim.\n",
    "        if cluster_n <= 1 or population_std == 0:\n",
    "            print(f\"  Özellik '{attr}': Yetersiz veri veya sıfır standart sapma. Z-testi uygulanamadı.\")\n",
    "            continue\n",
    "\n",
    "        # Z-skoru hesaplama\n",
    "        # Not: Z-testi varsayımı normal dağılım ve bilinen popülasyon standart sapmasıdır.\n",
    "        # Büyük örneklemler için örneklem standart sapması popülasyon standart sapmasının iyi bir tahminidir.\n",
    "        try:\n",
    "            z_score = (cluster_mean - population_mean) / (population_std / np.sqrt(cluster_n))\n",
    "            p_value = stats.norm.sf(abs(z_score)) * 2 # Çift taraflı p-değeri\n",
    "        except ZeroDivisionError:\n",
    "            print(f\"  Özellik '{attr}': Standart hata hesaplanırken sıfıra bölme hatası. Z-testi uygulanamadı.\")\n",
    "            continue\n",
    "\n",
    "\n",
    "        # Anlamlılık kontrolü\n",
    "        alpha = 0.05 # Anlamlılık düzeyi\n",
    "\n",
    "        interpretation = \"\"\n",
    "        if p_value < alpha:\n",
    "            if cluster_mean > population_mean:\n",
    "                interpretation = \"İstatistiksel olarak **anlamlı derecede YÜKSEK**\"\n",
    "            else:\n",
    "                interpretation = \"İstatistiksel olarak **anlamlı derecede DÜŞÜK**\"\n",
    "        else:\n",
    "            interpretation = \"İstatistiksel olarak **anlamlı bir fark YOK**\"\n",
    "\n",
    "        print(f\"  Özellik '{attr}': Ort.={cluster_mean:.4f}, Z-skor={z_score:.2f}, P-değeri={p_value:.4f} -> {interpretation} (Genel Ort: {population_mean:.4f})\")\n",
    "\n",
    "# Bu analizi yaptıktan sonra, her kümenin hangi özellikler (alt_kategoriler) açısından\n",
    "# genel ortalamadan belirgin şekilde farklılaştığını görebilirsiniz.\n",
    "# Bu size her kümenin \"temasını\" verecektir."
   ],
   "id": "8239ee795caded9b",
   "outputs": [
    {
     "name": "stdout",
     "output_type": "stream",
     "text": [
      "Z-Testi ile küme özelliklerini analiz ediyor...\n",
      "\n",
      "--- Küme 0 Analizi ---\n",
      "  Özellik 'aperatifler': Ort.=-0.0000, Z-skor=0.02, P-değeri=0.9819 -> İstatistiksel olarak **anlamlı bir fark YOK** (Genel Ort: -0.0000)\n",
      "  Özellik 'baharat-yapimi': Ort.=0.0000, Z-skor=-1.13, P-değeri=0.2601 -> İstatistiksel olarak **anlamlı bir fark YOK** (Genel Ort: 0.0001)\n",
      "  Özellik 'bakliyat_yemekleri': Ort.=0.0000, Z-skor=-1.23, P-değeri=0.2181 -> İstatistiksel olarak **anlamlı bir fark YOK** (Genel Ort: 0.0000)\n",
      "  Özellik 'balik-deniz-urunleri': Yetersiz veri veya sıfır standart sapma. Z-testi uygulanamadı.\n",
      "  Özellik 'borek': Ort.=-0.0001, Z-skor=0.37, P-değeri=0.7139 -> İstatistiksel olarak **anlamlı bir fark YOK** (Genel Ort: -0.0001)\n",
      "  Özellik 'cikolatali': Ort.=-0.0000, Z-skor=-0.23, P-değeri=0.8180 -> İstatistiksel olarak **anlamlı bir fark YOK** (Genel Ort: -0.0000)\n",
      "  Özellik 'corba': Ort.=-0.0001, Z-skor=1.64, P-değeri=0.1018 -> İstatistiksel olarak **anlamlı bir fark YOK** (Genel Ort: -0.0001)\n",
      "  Özellik 'corek-hamurisi': Ort.=0.0000, Z-skor=1.97, P-değeri=0.0489 -> İstatistiksel olarak **anlamlı derecede YÜKSEK** (Genel Ort: 0.0000)\n",
      "  Özellik 'dolma': Ort.=0.0001, Z-skor=0.23, P-değeri=0.8203 -> İstatistiksel olarak **anlamlı bir fark YOK** (Genel Ort: 0.0000)\n",
      "  Özellik 'dondurma': Ort.=0.0000, Z-skor=-1.83, P-değeri=0.0678 -> İstatistiksel olarak **anlamlı bir fark YOK** (Genel Ort: 0.0001)\n",
      "  Özellik 'dondurmali': Ort.=0.0001, Z-skor=0.49, P-değeri=0.6220 -> İstatistiksel olarak **anlamlı bir fark YOK** (Genel Ort: 0.0001)\n",
      "  Özellik 'dondurulmus-yemekler': Ort.=0.0000, Z-skor=-1.31, P-değeri=0.1893 -> İstatistiksel olarak **anlamlı bir fark YOK** (Genel Ort: 0.0001)\n",
      "  Özellik 'donut-tatli': Ort.=0.0001, Z-skor=0.09, P-değeri=0.9290 -> İstatistiksel olarak **anlamlı bir fark YOK** (Genel Ort: 0.0001)\n",
      "  Özellik 'durum': Ort.=0.0001, Z-skor=-0.05, P-değeri=0.9613 -> İstatistiksel olarak **anlamlı bir fark YOK** (Genel Ort: 0.0001)\n",
      "  Özellik 'ekmek-hamurisi': Ort.=-0.0000, Z-skor=-0.32, P-değeri=0.7454 -> İstatistiksel olarak **anlamlı bir fark YOK** (Genel Ort: -0.0000)\n",
      "  Özellik 'etli-cig-kofte': Ort.=0.0000, Z-skor=-0.93, P-değeri=0.3509 -> İstatistiksel olarak **anlamlı bir fark YOK** (Genel Ort: 0.0000)\n",
      "  Özellik 'etsiz-cig-kofte': Ort.=0.0000, Z-skor=-0.93, P-değeri=0.3510 -> İstatistiksel olarak **anlamlı bir fark YOK** (Genel Ort: 0.0000)\n",
      "  Özellik 'ev-yemekleri': Ort.=-0.0000, Z-skor=1.19, P-değeri=0.2346 -> İstatistiksel olarak **anlamlı bir fark YOK** (Genel Ort: -0.0000)\n",
      "  Özellik 'geleneksel-tatlilar': Ort.=0.0000, Z-skor=-0.30, P-değeri=0.7654 -> İstatistiksel olarak **anlamlı bir fark YOK** (Genel Ort: 0.0000)\n",
      "  Özellik 'hamburger': Ort.=0.0000, Z-skor=-1.18, P-değeri=0.2397 -> İstatistiksel olarak **anlamlı bir fark YOK** (Genel Ort: 0.0000)\n",
      "  Özellik 'helva-tatli': Ort.=-0.0000, Z-skor=-0.12, P-değeri=0.9064 -> İstatistiksel olarak **anlamlı bir fark YOK** (Genel Ort: -0.0000)\n",
      "  Özellik 'hosaf': Ort.=0.0000, Z-skor=-1.23, P-değeri=0.2172 -> İstatistiksel olarak **anlamlı bir fark YOK** (Genel Ort: 0.0001)\n",
      "  Özellik 'kahvaltılık': Ort.=-0.0000, Z-skor=-0.40, P-değeri=0.6885 -> İstatistiksel olarak **anlamlı bir fark YOK** (Genel Ort: -0.0000)\n",
      "  Özellik 'kanepe': Ort.=0.0001, Z-skor=1.88, P-değeri=0.0602 -> İstatistiksel olarak **anlamlı bir fark YOK** (Genel Ort: 0.0001)\n",
      "  Özellik 'kebap': Yetersiz veri veya sıfır standart sapma. Z-testi uygulanamadı.\n",
      "  Özellik 'kek': Ort.=-0.0001, Z-skor=-1.38, P-değeri=0.1687 -> İstatistiksel olarak **anlamlı bir fark YOK** (Genel Ort: -0.0001)\n",
      "  Özellik 'kirmizi-et-yemekleri': Ort.=-0.0000, Z-skor=1.81, P-değeri=0.0709 -> İstatistiksel olarak **anlamlı bir fark YOK** (Genel Ort: -0.0000)\n",
      "  Özellik 'kis': Ort.=0.0001, Z-skor=1.64, P-değeri=0.1003 -> İstatistiksel olarak **anlamlı bir fark YOK** (Genel Ort: 0.0001)\n",
      "  Özellik 'kis-hazirliklari-diger': Ort.=0.0001, Z-skor=-1.06, P-değeri=0.2906 -> İstatistiksel olarak **anlamlı bir fark YOK** (Genel Ort: 0.0001)\n",
      "  Özellik 'kizartma': Yetersiz veri veya sıfır standart sapma. Z-testi uygulanamadı.\n",
      "  Özellik 'kofte': Ort.=-0.0000, Z-skor=1.71, P-değeri=0.0867 -> İstatistiksel olarak **anlamlı bir fark YOK** (Genel Ort: -0.0000)\n",
      "  Özellik 'komposto': Ort.=0.0000, Z-skor=-0.82, P-değeri=0.4128 -> İstatistiksel olarak **anlamlı bir fark YOK** (Genel Ort: 0.0001)\n",
      "  Özellik 'krep-hamurisi': Ort.=0.0001, Z-skor=0.89, P-değeri=0.3748 -> İstatistiksel olarak **anlamlı bir fark YOK** (Genel Ort: 0.0001)\n",
      "  Özellik 'lokum': Ort.=0.0000, Z-skor=0.64, P-değeri=0.5236 -> İstatistiksel olarak **anlamlı bir fark YOK** (Genel Ort: 0.0000)\n",
      "  Özellik 'makarna': Ort.=-0.0000, Z-skor=0.89, P-değeri=0.3749 -> İstatistiksel olarak **anlamlı bir fark YOK** (Genel Ort: -0.0000)\n",
      "  Özellik 'manti': Yetersiz veri veya sıfır standart sapma. Z-testi uygulanamadı.\n",
      "  Özellik 'meyveli-tatlilar': Ort.=-0.0000, Z-skor=-1.26, P-değeri=0.2076 -> İstatistiksel olarak **anlamlı bir fark YOK** (Genel Ort: -0.0000)\n",
      "  Özellik 'meze': Ort.=-0.0000, Z-skor=0.97, P-değeri=0.3308 -> İstatistiksel olarak **anlamlı bir fark YOK** (Genel Ort: -0.0000)\n",
      "  Özellik 'pasta': Ort.=-0.0001, Z-skor=-2.65, P-değeri=0.0079 -> İstatistiksel olarak **anlamlı derecede DÜŞÜK** (Genel Ort: -0.0001)\n",
      "  Özellik 'pekmez': Ort.=0.0001, Z-skor=0.36, P-değeri=0.7187 -> İstatistiksel olarak **anlamlı bir fark YOK** (Genel Ort: 0.0001)\n",
      "  Özellik 'pide': Ort.=-0.0000, Z-skor=0.60, P-değeri=0.5465 -> İstatistiksel olarak **anlamlı bir fark YOK** (Genel Ort: -0.0000)\n",
      "  Özellik 'pilav': Ort.=-0.0000, Z-skor=3.15, P-değeri=0.0016 -> İstatistiksel olarak **anlamlı derecede YÜKSEK** (Genel Ort: -0.0000)\n",
      "  Özellik 'pizza': Ort.=-0.0000, Z-skor=-0.75, P-değeri=0.4514 -> İstatistiksel olarak **anlamlı bir fark YOK** (Genel Ort: -0.0000)\n",
      "  Özellik 'pogaca': Ort.=-0.0001, Z-skor=-2.77, P-değeri=0.0056 -> İstatistiksel olarak **anlamlı derecede DÜŞÜK** (Genel Ort: -0.0001)\n",
      "  Özellik 'recel': Ort.=0.0000, Z-skor=-0.07, P-değeri=0.9405 -> İstatistiksel olarak **anlamlı bir fark YOK** (Genel Ort: 0.0000)\n",
      "  Özellik 'sakatat-yemekleri': Ort.=0.0000, Z-skor=-0.65, P-değeri=0.5137 -> İstatistiksel olarak **anlamlı bir fark YOK** (Genel Ort: 0.0000)\n",
      "  Özellik 'salamura': Ort.=0.0001, Z-skor=0.37, P-değeri=0.7149 -> İstatistiksel olarak **anlamlı bir fark YOK** (Genel Ort: 0.0001)\n",
      "  Özellik 'salata': Ort.=-0.0000, Z-skor=-0.06, P-değeri=0.9488 -> İstatistiksel olarak **anlamlı bir fark YOK** (Genel Ort: -0.0000)\n",
      "  Özellik 'sandvic': Ort.=0.0000, Z-skor=-1.33, P-değeri=0.1845 -> İstatistiksel olarak **anlamlı bir fark YOK** (Genel Ort: 0.0001)\n",
      "  Özellik 'sarma': Ort.=0.0000, Z-skor=-1.55, P-değeri=0.1221 -> İstatistiksel olarak **anlamlı bir fark YOK** (Genel Ort: 0.0001)\n",
      "  Özellik 'serbetli-tatlilar': Ort.=-0.0001, Z-skor=-0.35, P-değeri=0.7270 -> İstatistiksel olarak **anlamlı bir fark YOK** (Genel Ort: -0.0001)\n",
      "  Özellik 'sicak': Ort.=0.0000, Z-skor=-1.87, P-değeri=0.0617 -> İstatistiksel olarak **anlamlı bir fark YOK** (Genel Ort: 0.0000)\n",
      "  Özellik 'sicak-icecekler': Ort.=0.0000, Z-skor=-1.04, P-değeri=0.2992 -> İstatistiksel olarak **anlamlı bir fark YOK** (Genel Ort: 0.0000)\n",
      "  Özellik 'soguk-icecekler': Ort.=0.0000, Z-skor=-0.23, P-değeri=0.8190 -> İstatistiksel olarak **anlamlı bir fark YOK** (Genel Ort: 0.0000)\n",
      "  Özellik 'sos': Ort.=0.0000, Z-skor=-1.08, P-değeri=0.2819 -> İstatistiksel olarak **anlamlı bir fark YOK** (Genel Ort: 0.0000)\n",
      "  Özellik 'sulu-yemek': Ort.=0.0000, Z-skor=-0.78, P-değeri=0.4379 -> İstatistiksel olarak **anlamlı bir fark YOK** (Genel Ort: 0.0000)\n",
      "  Özellik 'sut-urunleri': Ort.=0.0000, Z-skor=-1.03, P-değeri=0.3028 -> İstatistiksel olarak **anlamlı bir fark YOK** (Genel Ort: 0.0000)\n",
      "  Özellik 'sutlu-tatlilar': Ort.=-0.0001, Z-skor=-1.58, P-değeri=0.1136 -> İstatistiksel olarak **anlamlı bir fark YOK** (Genel Ort: -0.0001)\n",
      "  Özellik 'tart': Ort.=0.0000, Z-skor=-0.46, P-değeri=0.6468 -> İstatistiksel olarak **anlamlı bir fark YOK** (Genel Ort: 0.0000)\n",
      "  Özellik 'tatli-kurabiyeler': Ort.=-0.0001, Z-skor=-1.99, P-değeri=0.0465 -> İstatistiksel olarak **anlamlı derecede DÜŞÜK** (Genel Ort: -0.0001)\n",
      "  Özellik 'tavuk-yemekleri': Ort.=-0.0000, Z-skor=1.95, P-değeri=0.0516 -> İstatistiksel olarak **anlamlı bir fark YOK** (Genel Ort: -0.0001)\n",
      "  Özellik 'tost': Ort.=0.0000, Z-skor=-0.29, P-değeri=0.7687 -> İstatistiksel olarak **anlamlı bir fark YOK** (Genel Ort: 0.0001)\n",
      "  Özellik 'tursu': Ort.=0.0000, Z-skor=-0.95, P-değeri=0.3406 -> İstatistiksel olarak **anlamlı bir fark YOK** (Genel Ort: 0.0000)\n",
      "  Özellik 'tuzlu-kurabiyeler': Ort.=-0.0000, Z-skor=-1.30, P-değeri=0.1926 -> İstatistiksel olarak **anlamlı bir fark YOK** (Genel Ort: -0.0000)\n",
      "  Özellik 'zeytinyagli': Ort.=-0.0000, Z-skor=1.70, P-değeri=0.0894 -> İstatistiksel olarak **anlamlı bir fark YOK** (Genel Ort: -0.0000)\n",
      "\n",
      "--- Küme 1 Analizi ---\n",
      "  Özellik 'aperatifler': Ort.=-0.0000, Z-skor=0.66, P-değeri=0.5093 -> İstatistiksel olarak **anlamlı bir fark YOK** (Genel Ort: -0.0000)\n",
      "  Özellik 'baharat-yapimi': Ort.=0.0001, Z-skor=2.08, P-değeri=0.0377 -> İstatistiksel olarak **anlamlı derecede YÜKSEK** (Genel Ort: 0.0001)\n",
      "  Özellik 'bakliyat_yemekleri': Ort.=0.0000, Z-skor=0.86, P-değeri=0.3909 -> İstatistiksel olarak **anlamlı bir fark YOK** (Genel Ort: 0.0000)\n",
      "  Özellik 'balik-deniz-urunleri': Yetersiz veri veya sıfır standart sapma. Z-testi uygulanamadı.\n",
      "  Özellik 'borek': Ort.=-0.0001, Z-skor=0.11, P-değeri=0.9137 -> İstatistiksel olarak **anlamlı bir fark YOK** (Genel Ort: -0.0001)\n",
      "  Özellik 'cikolatali': Ort.=-0.0000, Z-skor=-0.05, P-değeri=0.9635 -> İstatistiksel olarak **anlamlı bir fark YOK** (Genel Ort: -0.0000)\n",
      "  Özellik 'corba': Ort.=-0.0001, Z-skor=0.82, P-değeri=0.4104 -> İstatistiksel olarak **anlamlı bir fark YOK** (Genel Ort: -0.0001)\n",
      "  Özellik 'corek-hamurisi': Ort.=0.0000, Z-skor=-0.49, P-değeri=0.6265 -> İstatistiksel olarak **anlamlı bir fark YOK** (Genel Ort: 0.0000)\n",
      "  Özellik 'dolma': Ort.=0.0000, Z-skor=-0.30, P-değeri=0.7664 -> İstatistiksel olarak **anlamlı bir fark YOK** (Genel Ort: 0.0000)\n",
      "  Özellik 'dondurma': Ort.=0.0001, Z-skor=-0.37, P-değeri=0.7111 -> İstatistiksel olarak **anlamlı bir fark YOK** (Genel Ort: 0.0001)\n",
      "  Özellik 'dondurmali': Ort.=0.0001, Z-skor=0.31, P-değeri=0.7532 -> İstatistiksel olarak **anlamlı bir fark YOK** (Genel Ort: 0.0001)\n",
      "  Özellik 'dondurulmus-yemekler': Ort.=0.0001, Z-skor=-0.06, P-değeri=0.9530 -> İstatistiksel olarak **anlamlı bir fark YOK** (Genel Ort: 0.0001)\n",
      "  Özellik 'donut-tatli': Ort.=0.0001, Z-skor=-0.54, P-değeri=0.5911 -> İstatistiksel olarak **anlamlı bir fark YOK** (Genel Ort: 0.0001)\n",
      "  Özellik 'durum': Ort.=0.0001, Z-skor=0.63, P-değeri=0.5311 -> İstatistiksel olarak **anlamlı bir fark YOK** (Genel Ort: 0.0001)\n",
      "  Özellik 'ekmek-hamurisi': Ort.=-0.0000, Z-skor=0.11, P-değeri=0.9155 -> İstatistiksel olarak **anlamlı bir fark YOK** (Genel Ort: -0.0000)\n",
      "  Özellik 'etli-cig-kofte': Ort.=0.0001, Z-skor=1.32, P-değeri=0.1871 -> İstatistiksel olarak **anlamlı bir fark YOK** (Genel Ort: 0.0000)\n",
      "  Özellik 'etsiz-cig-kofte': Ort.=0.0001, Z-skor=1.50, P-değeri=0.1340 -> İstatistiksel olarak **anlamlı bir fark YOK** (Genel Ort: 0.0000)\n",
      "  Özellik 'ev-yemekleri': Ort.=-0.0000, Z-skor=-0.03, P-değeri=0.9723 -> İstatistiksel olarak **anlamlı bir fark YOK** (Genel Ort: -0.0000)\n",
      "  Özellik 'geleneksel-tatlilar': Ort.=0.0000, Z-skor=1.56, P-değeri=0.1181 -> İstatistiksel olarak **anlamlı bir fark YOK** (Genel Ort: 0.0000)\n",
      "  Özellik 'hamburger': Ort.=0.0001, Z-skor=1.32, P-değeri=0.1863 -> İstatistiksel olarak **anlamlı bir fark YOK** (Genel Ort: 0.0000)\n",
      "  Özellik 'helva-tatli': Ort.=-0.0000, Z-skor=0.76, P-değeri=0.4485 -> İstatistiksel olarak **anlamlı bir fark YOK** (Genel Ort: -0.0000)\n",
      "  Özellik 'hosaf': Ort.=0.0000, Z-skor=-0.39, P-değeri=0.6932 -> İstatistiksel olarak **anlamlı bir fark YOK** (Genel Ort: 0.0001)\n",
      "  Özellik 'kahvaltılık': Ort.=-0.0001, Z-skor=-1.08, P-değeri=0.2818 -> İstatistiksel olarak **anlamlı bir fark YOK** (Genel Ort: -0.0000)\n",
      "  Özellik 'kanepe': Ort.=0.0000, Z-skor=-0.96, P-değeri=0.3357 -> İstatistiksel olarak **anlamlı bir fark YOK** (Genel Ort: 0.0001)\n",
      "  Özellik 'kebap': Yetersiz veri veya sıfır standart sapma. Z-testi uygulanamadı.\n",
      "  Özellik 'kek': Ort.=-0.0001, Z-skor=1.48, P-değeri=0.1383 -> İstatistiksel olarak **anlamlı bir fark YOK** (Genel Ort: -0.0001)\n",
      "  Özellik 'kirmizi-et-yemekleri': Ort.=-0.0000, Z-skor=-1.71, P-değeri=0.0882 -> İstatistiksel olarak **anlamlı bir fark YOK** (Genel Ort: -0.0000)\n",
      "  Özellik 'kis': Ort.=0.0000, Z-skor=-0.60, P-değeri=0.5516 -> İstatistiksel olarak **anlamlı bir fark YOK** (Genel Ort: 0.0001)\n",
      "  Özellik 'kis-hazirliklari-diger': Ort.=0.0001, Z-skor=0.84, P-değeri=0.3986 -> İstatistiksel olarak **anlamlı bir fark YOK** (Genel Ort: 0.0001)\n",
      "  Özellik 'kizartma': Yetersiz veri veya sıfır standart sapma. Z-testi uygulanamadı.\n",
      "  Özellik 'kofte': Ort.=-0.0000, Z-skor=-0.30, P-değeri=0.7662 -> İstatistiksel olarak **anlamlı bir fark YOK** (Genel Ort: -0.0000)\n",
      "  Özellik 'komposto': Ort.=0.0001, Z-skor=1.40, P-değeri=0.1623 -> İstatistiksel olarak **anlamlı bir fark YOK** (Genel Ort: 0.0001)\n",
      "  Özellik 'krep-hamurisi': Ort.=0.0001, Z-skor=-0.18, P-değeri=0.8540 -> İstatistiksel olarak **anlamlı bir fark YOK** (Genel Ort: 0.0001)\n",
      "  Özellik 'lokum': Ort.=0.0000, Z-skor=0.45, P-değeri=0.6525 -> İstatistiksel olarak **anlamlı bir fark YOK** (Genel Ort: 0.0000)\n",
      "  Özellik 'makarna': Ort.=-0.0000, Z-skor=1.44, P-değeri=0.1510 -> İstatistiksel olarak **anlamlı bir fark YOK** (Genel Ort: -0.0000)\n",
      "  Özellik 'manti': Yetersiz veri veya sıfır standart sapma. Z-testi uygulanamadı.\n",
      "  Özellik 'meyveli-tatlilar': Ort.=-0.0000, Z-skor=0.64, P-değeri=0.5205 -> İstatistiksel olarak **anlamlı bir fark YOK** (Genel Ort: -0.0000)\n",
      "  Özellik 'meze': Ort.=-0.0000, Z-skor=-0.69, P-değeri=0.4910 -> İstatistiksel olarak **anlamlı bir fark YOK** (Genel Ort: -0.0000)\n",
      "  Özellik 'pasta': Ort.=-0.0001, Z-skor=1.28, P-değeri=0.1988 -> İstatistiksel olarak **anlamlı bir fark YOK** (Genel Ort: -0.0001)\n",
      "  Özellik 'pekmez': Ort.=0.0001, Z-skor=0.36, P-değeri=0.7176 -> İstatistiksel olarak **anlamlı bir fark YOK** (Genel Ort: 0.0001)\n",
      "  Özellik 'pide': Ort.=-0.0000, Z-skor=-0.60, P-değeri=0.5484 -> İstatistiksel olarak **anlamlı bir fark YOK** (Genel Ort: -0.0000)\n",
      "  Özellik 'pilav': Ort.=-0.0000, Z-skor=-1.42, P-değeri=0.1544 -> İstatistiksel olarak **anlamlı bir fark YOK** (Genel Ort: -0.0000)\n",
      "  Özellik 'pizza': Ort.=-0.0000, Z-skor=0.20, P-değeri=0.8421 -> İstatistiksel olarak **anlamlı bir fark YOK** (Genel Ort: -0.0000)\n",
      "  Özellik 'pogaca': Ort.=-0.0001, Z-skor=0.26, P-değeri=0.7929 -> İstatistiksel olarak **anlamlı bir fark YOK** (Genel Ort: -0.0001)\n",
      "  Özellik 'recel': Ort.=0.0000, Z-skor=1.05, P-değeri=0.2954 -> İstatistiksel olarak **anlamlı bir fark YOK** (Genel Ort: 0.0000)\n",
      "  Özellik 'sakatat-yemekleri': Ort.=0.0001, Z-skor=1.07, P-değeri=0.2853 -> İstatistiksel olarak **anlamlı bir fark YOK** (Genel Ort: 0.0000)\n",
      "  Özellik 'salamura': Ort.=0.0001, Z-skor=1.18, P-değeri=0.2390 -> İstatistiksel olarak **anlamlı bir fark YOK** (Genel Ort: 0.0001)\n",
      "  Özellik 'salata': Ort.=-0.0000, Z-skor=1.15, P-değeri=0.2514 -> İstatistiksel olarak **anlamlı bir fark YOK** (Genel Ort: -0.0000)\n",
      "  Özellik 'sandvic': Ort.=0.0001, Z-skor=0.67, P-değeri=0.5006 -> İstatistiksel olarak **anlamlı bir fark YOK** (Genel Ort: 0.0001)\n",
      "  Özellik 'sarma': Ort.=0.0001, Z-skor=-0.37, P-değeri=0.7137 -> İstatistiksel olarak **anlamlı bir fark YOK** (Genel Ort: 0.0001)\n",
      "  Özellik 'serbetli-tatlilar': Ort.=-0.0001, Z-skor=-1.54, P-değeri=0.1234 -> İstatistiksel olarak **anlamlı bir fark YOK** (Genel Ort: -0.0001)\n",
      "  Özellik 'sicak': Ort.=0.0000, Z-skor=0.03, P-değeri=0.9760 -> İstatistiksel olarak **anlamlı bir fark YOK** (Genel Ort: 0.0000)\n",
      "  Özellik 'sicak-icecekler': Ort.=0.0000, Z-skor=2.42, P-değeri=0.0156 -> İstatistiksel olarak **anlamlı derecede YÜKSEK** (Genel Ort: 0.0000)\n",
      "  Özellik 'soguk-icecekler': Ort.=0.0000, Z-skor=1.76, P-değeri=0.0785 -> İstatistiksel olarak **anlamlı bir fark YOK** (Genel Ort: 0.0000)\n",
      "  Özellik 'sos': Ort.=0.0000, Z-skor=-0.14, P-değeri=0.8861 -> İstatistiksel olarak **anlamlı bir fark YOK** (Genel Ort: 0.0000)\n",
      "  Özellik 'sulu-yemek': Ort.=0.0000, Z-skor=0.49, P-değeri=0.6227 -> İstatistiksel olarak **anlamlı bir fark YOK** (Genel Ort: 0.0000)\n",
      "  Özellik 'sut-urunleri': Ort.=0.0000, Z-skor=0.91, P-değeri=0.3650 -> İstatistiksel olarak **anlamlı bir fark YOK** (Genel Ort: 0.0000)\n",
      "  Özellik 'sutlu-tatlilar': Ort.=-0.0001, Z-skor=0.71, P-değeri=0.4808 -> İstatistiksel olarak **anlamlı bir fark YOK** (Genel Ort: -0.0001)\n",
      "  Özellik 'tart': Ort.=0.0000, Z-skor=-0.47, P-değeri=0.6349 -> İstatistiksel olarak **anlamlı bir fark YOK** (Genel Ort: 0.0000)\n",
      "  Özellik 'tatli-kurabiyeler': Ort.=-0.0001, Z-skor=0.87, P-değeri=0.3861 -> İstatistiksel olarak **anlamlı bir fark YOK** (Genel Ort: -0.0001)\n",
      "  Özellik 'tavuk-yemekleri': Ort.=-0.0001, Z-skor=-1.05, P-değeri=0.2946 -> İstatistiksel olarak **anlamlı bir fark YOK** (Genel Ort: -0.0001)\n",
      "  Özellik 'tost': Ort.=0.0001, Z-skor=0.09, P-değeri=0.9253 -> İstatistiksel olarak **anlamlı bir fark YOK** (Genel Ort: 0.0001)\n",
      "  Özellik 'tursu': Ort.=0.0000, Z-skor=1.02, P-değeri=0.3078 -> İstatistiksel olarak **anlamlı bir fark YOK** (Genel Ort: 0.0000)\n",
      "  Özellik 'tuzlu-kurabiyeler': Ort.=-0.0000, Z-skor=0.48, P-değeri=0.6294 -> İstatistiksel olarak **anlamlı bir fark YOK** (Genel Ort: -0.0000)\n",
      "  Özellik 'zeytinyagli': Ort.=-0.0000, Z-skor=1.43, P-değeri=0.1529 -> İstatistiksel olarak **anlamlı bir fark YOK** (Genel Ort: -0.0000)\n",
      "\n",
      "--- Küme 2 Analizi ---\n",
      "  Özellik 'aperatifler': Ort.=-0.0000, Z-skor=0.10, P-değeri=0.9170 -> İstatistiksel olarak **anlamlı bir fark YOK** (Genel Ort: -0.0000)\n",
      "  Özellik 'baharat-yapimi': Ort.=0.0000, Z-skor=-1.43, P-değeri=0.1523 -> İstatistiksel olarak **anlamlı bir fark YOK** (Genel Ort: 0.0001)\n",
      "  Özellik 'bakliyat_yemekleri': Ort.=0.0000, Z-skor=0.01, P-değeri=0.9897 -> İstatistiksel olarak **anlamlı bir fark YOK** (Genel Ort: 0.0000)\n",
      "  Özellik 'balik-deniz-urunleri': Yetersiz veri veya sıfır standart sapma. Z-testi uygulanamadı.\n",
      "  Özellik 'borek': Ort.=-0.0001, Z-skor=-0.52, P-değeri=0.6020 -> İstatistiksel olarak **anlamlı bir fark YOK** (Genel Ort: -0.0001)\n",
      "  Özellik 'cikolatali': Ort.=-0.0000, Z-skor=0.53, P-değeri=0.5948 -> İstatistiksel olarak **anlamlı bir fark YOK** (Genel Ort: -0.0000)\n",
      "  Özellik 'corba': Ort.=-0.0001, Z-skor=-0.29, P-değeri=0.7719 -> İstatistiksel olarak **anlamlı bir fark YOK** (Genel Ort: -0.0001)\n",
      "  Özellik 'corek-hamurisi': Ort.=0.0000, Z-skor=-0.31, P-değeri=0.7560 -> İstatistiksel olarak **anlamlı bir fark YOK** (Genel Ort: 0.0000)\n",
      "  Özellik 'dolma': Ort.=0.0000, Z-skor=-0.16, P-değeri=0.8755 -> İstatistiksel olarak **anlamlı bir fark YOK** (Genel Ort: 0.0000)\n",
      "  Özellik 'dondurma': Ort.=0.0001, Z-skor=1.42, P-değeri=0.1560 -> İstatistiksel olarak **anlamlı bir fark YOK** (Genel Ort: 0.0001)\n",
      "  Özellik 'dondurmali': Ort.=0.0001, Z-skor=0.44, P-değeri=0.6579 -> İstatistiksel olarak **anlamlı bir fark YOK** (Genel Ort: 0.0001)\n",
      "  Özellik 'dondurulmus-yemekler': Ort.=0.0000, Z-skor=-0.40, P-değeri=0.6924 -> İstatistiksel olarak **anlamlı bir fark YOK** (Genel Ort: 0.0001)\n",
      "  Özellik 'donut-tatli': Ort.=0.0000, Z-skor=-0.88, P-değeri=0.3801 -> İstatistiksel olarak **anlamlı bir fark YOK** (Genel Ort: 0.0001)\n",
      "  Özellik 'durum': Ort.=0.0001, Z-skor=1.29, P-değeri=0.1970 -> İstatistiksel olarak **anlamlı bir fark YOK** (Genel Ort: 0.0001)\n",
      "  Özellik 'ekmek-hamurisi': Ort.=-0.0000, Z-skor=-0.94, P-değeri=0.3463 -> İstatistiksel olarak **anlamlı bir fark YOK** (Genel Ort: -0.0000)\n",
      "  Özellik 'etli-cig-kofte': Ort.=0.0000, Z-skor=-0.65, P-değeri=0.5171 -> İstatistiksel olarak **anlamlı bir fark YOK** (Genel Ort: 0.0000)\n",
      "  Özellik 'etsiz-cig-kofte': Ort.=0.0000, Z-skor=-0.16, P-değeri=0.8732 -> İstatistiksel olarak **anlamlı bir fark YOK** (Genel Ort: 0.0000)\n",
      "  Özellik 'ev-yemekleri': Ort.=-0.0000, Z-skor=0.41, P-değeri=0.6843 -> İstatistiksel olarak **anlamlı bir fark YOK** (Genel Ort: -0.0000)\n",
      "  Özellik 'geleneksel-tatlilar': Ort.=0.0000, Z-skor=-1.00, P-değeri=0.3185 -> İstatistiksel olarak **anlamlı bir fark YOK** (Genel Ort: 0.0000)\n",
      "  Özellik 'hamburger': Ort.=0.0000, Z-skor=-0.63, P-değeri=0.5304 -> İstatistiksel olarak **anlamlı bir fark YOK** (Genel Ort: 0.0000)\n",
      "  Özellik 'helva-tatli': Ort.=-0.0000, Z-skor=0.32, P-değeri=0.7502 -> İstatistiksel olarak **anlamlı bir fark YOK** (Genel Ort: -0.0000)\n",
      "  Özellik 'hosaf': Ort.=0.0000, Z-skor=-0.48, P-değeri=0.6345 -> İstatistiksel olarak **anlamlı bir fark YOK** (Genel Ort: 0.0001)\n",
      "  Özellik 'kahvaltılık': Ort.=-0.0000, Z-skor=-0.19, P-değeri=0.8515 -> İstatistiksel olarak **anlamlı bir fark YOK** (Genel Ort: -0.0000)\n",
      "  Özellik 'kanepe': Ort.=0.0001, Z-skor=-0.08, P-değeri=0.9343 -> İstatistiksel olarak **anlamlı bir fark YOK** (Genel Ort: 0.0001)\n",
      "  Özellik 'kebap': Yetersiz veri veya sıfır standart sapma. Z-testi uygulanamadı.\n",
      "  Özellik 'kek': Ort.=-0.0001, Z-skor=-1.54, P-değeri=0.1239 -> İstatistiksel olarak **anlamlı bir fark YOK** (Genel Ort: -0.0001)\n",
      "  Özellik 'kirmizi-et-yemekleri': Ort.=-0.0000, Z-skor=1.24, P-değeri=0.2158 -> İstatistiksel olarak **anlamlı bir fark YOK** (Genel Ort: -0.0000)\n",
      "  Özellik 'kis': Ort.=0.0001, Z-skor=1.56, P-değeri=0.1196 -> İstatistiksel olarak **anlamlı bir fark YOK** (Genel Ort: 0.0001)\n",
      "  Özellik 'kis-hazirliklari-diger': Ort.=0.0001, Z-skor=0.44, P-değeri=0.6578 -> İstatistiksel olarak **anlamlı bir fark YOK** (Genel Ort: 0.0001)\n",
      "  Özellik 'kizartma': Yetersiz veri veya sıfır standart sapma. Z-testi uygulanamadı.\n",
      "  Özellik 'kofte': Ort.=-0.0000, Z-skor=1.19, P-değeri=0.2323 -> İstatistiksel olarak **anlamlı bir fark YOK** (Genel Ort: -0.0000)\n",
      "  Özellik 'komposto': Ort.=0.0001, Z-skor=0.13, P-değeri=0.8972 -> İstatistiksel olarak **anlamlı bir fark YOK** (Genel Ort: 0.0001)\n",
      "  Özellik 'krep-hamurisi': Ort.=0.0001, Z-skor=1.27, P-değeri=0.2031 -> İstatistiksel olarak **anlamlı bir fark YOK** (Genel Ort: 0.0001)\n",
      "  Özellik 'lokum': Ort.=0.0000, Z-skor=-1.20, P-değeri=0.2305 -> İstatistiksel olarak **anlamlı bir fark YOK** (Genel Ort: 0.0000)\n",
      "  Özellik 'makarna': Ort.=-0.0000, Z-skor=-1.62, P-değeri=0.1047 -> İstatistiksel olarak **anlamlı bir fark YOK** (Genel Ort: -0.0000)\n",
      "  Özellik 'manti': Yetersiz veri veya sıfır standart sapma. Z-testi uygulanamadı.\n",
      "  Özellik 'meyveli-tatlilar': Ort.=-0.0000, Z-skor=-0.26, P-değeri=0.7915 -> İstatistiksel olarak **anlamlı bir fark YOK** (Genel Ort: -0.0000)\n",
      "  Özellik 'meze': Ort.=-0.0000, Z-skor=-0.94, P-değeri=0.3454 -> İstatistiksel olarak **anlamlı bir fark YOK** (Genel Ort: -0.0000)\n",
      "  Özellik 'pasta': Ort.=-0.0001, Z-skor=0.74, P-değeri=0.4568 -> İstatistiksel olarak **anlamlı bir fark YOK** (Genel Ort: -0.0001)\n",
      "  Özellik 'pekmez': Ort.=0.0000, Z-skor=-0.92, P-değeri=0.3563 -> İstatistiksel olarak **anlamlı bir fark YOK** (Genel Ort: 0.0001)\n",
      "  Özellik 'pide': Ort.=-0.0000, Z-skor=0.56, P-değeri=0.5748 -> İstatistiksel olarak **anlamlı bir fark YOK** (Genel Ort: -0.0000)\n",
      "  Özellik 'pilav': Ort.=-0.0000, Z-skor=0.36, P-değeri=0.7160 -> İstatistiksel olarak **anlamlı bir fark YOK** (Genel Ort: -0.0000)\n",
      "  Özellik 'pizza': Ort.=-0.0000, Z-skor=0.07, P-değeri=0.9444 -> İstatistiksel olarak **anlamlı bir fark YOK** (Genel Ort: -0.0000)\n",
      "  Özellik 'pogaca': Ort.=-0.0001, Z-skor=0.84, P-değeri=0.4024 -> İstatistiksel olarak **anlamlı bir fark YOK** (Genel Ort: -0.0001)\n",
      "  Özellik 'recel': Ort.=0.0000, Z-skor=-0.72, P-değeri=0.4698 -> İstatistiksel olarak **anlamlı bir fark YOK** (Genel Ort: 0.0000)\n",
      "  Özellik 'sakatat-yemekleri': Ort.=0.0001, Z-skor=0.19, P-değeri=0.8532 -> İstatistiksel olarak **anlamlı bir fark YOK** (Genel Ort: 0.0000)\n",
      "  Özellik 'salamura': Ort.=0.0001, Z-skor=-0.05, P-değeri=0.9635 -> İstatistiksel olarak **anlamlı bir fark YOK** (Genel Ort: 0.0001)\n",
      "  Özellik 'salata': Ort.=-0.0000, Z-skor=-0.71, P-değeri=0.4785 -> İstatistiksel olarak **anlamlı bir fark YOK** (Genel Ort: -0.0000)\n",
      "  Özellik 'sandvic': Ort.=0.0001, Z-skor=1.77, P-değeri=0.0760 -> İstatistiksel olarak **anlamlı bir fark YOK** (Genel Ort: 0.0001)\n",
      "  Özellik 'sarma': Ort.=0.0001, Z-skor=-0.20, P-değeri=0.8445 -> İstatistiksel olarak **anlamlı bir fark YOK** (Genel Ort: 0.0001)\n",
      "  Özellik 'serbetli-tatlilar': Ort.=-0.0001, Z-skor=3.16, P-değeri=0.0016 -> İstatistiksel olarak **anlamlı derecede YÜKSEK** (Genel Ort: -0.0001)\n",
      "  Özellik 'sicak': Ort.=0.0000, Z-skor=-1.28, P-değeri=0.2007 -> İstatistiksel olarak **anlamlı bir fark YOK** (Genel Ort: 0.0000)\n",
      "  Özellik 'sicak-icecekler': Ort.=0.0000, Z-skor=-0.48, P-değeri=0.6348 -> İstatistiksel olarak **anlamlı bir fark YOK** (Genel Ort: 0.0000)\n",
      "  Özellik 'soguk-icecekler': Ort.=0.0000, Z-skor=-0.33, P-değeri=0.7431 -> İstatistiksel olarak **anlamlı bir fark YOK** (Genel Ort: 0.0000)\n",
      "  Özellik 'sos': Ort.=0.0000, Z-skor=1.72, P-değeri=0.0851 -> İstatistiksel olarak **anlamlı bir fark YOK** (Genel Ort: 0.0000)\n",
      "  Özellik 'sulu-yemek': Ort.=0.0000, Z-skor=-0.89, P-değeri=0.3712 -> İstatistiksel olarak **anlamlı bir fark YOK** (Genel Ort: 0.0000)\n",
      "  Özellik 'sut-urunleri': Ort.=0.0000, Z-skor=0.25, P-değeri=0.8051 -> İstatistiksel olarak **anlamlı bir fark YOK** (Genel Ort: 0.0000)\n",
      "  Özellik 'sutlu-tatlilar': Ort.=-0.0001, Z-skor=-0.35, P-değeri=0.7232 -> İstatistiksel olarak **anlamlı bir fark YOK** (Genel Ort: -0.0001)\n",
      "  Özellik 'tart': Ort.=0.0000, Z-skor=0.57, P-değeri=0.5713 -> İstatistiksel olarak **anlamlı bir fark YOK** (Genel Ort: 0.0000)\n",
      "  Özellik 'tatli-kurabiyeler': Ort.=-0.0001, Z-skor=-0.11, P-değeri=0.9156 -> İstatistiksel olarak **anlamlı bir fark YOK** (Genel Ort: -0.0001)\n",
      "  Özellik 'tavuk-yemekleri': Ort.=-0.0001, Z-skor=-0.32, P-değeri=0.7521 -> İstatistiksel olarak **anlamlı bir fark YOK** (Genel Ort: -0.0001)\n",
      "  Özellik 'tost': Ort.=0.0001, Z-skor=1.44, P-değeri=0.1509 -> İstatistiksel olarak **anlamlı bir fark YOK** (Genel Ort: 0.0001)\n",
      "  Özellik 'tursu': Ort.=0.0000, Z-skor=1.36, P-değeri=0.1748 -> İstatistiksel olarak **anlamlı bir fark YOK** (Genel Ort: 0.0000)\n",
      "  Özellik 'tuzlu-kurabiyeler': Ort.=-0.0000, Z-skor=0.11, P-değeri=0.9143 -> İstatistiksel olarak **anlamlı bir fark YOK** (Genel Ort: -0.0000)\n",
      "  Özellik 'zeytinyagli': Ort.=-0.0000, Z-skor=-4.03, P-değeri=0.0001 -> İstatistiksel olarak **anlamlı derecede DÜŞÜK** (Genel Ort: -0.0000)\n",
      "\n",
      "--- Küme 3 Analizi ---\n",
      "  Özellik 'aperatifler': Ort.=-0.0000, Z-skor=-0.85, P-değeri=0.3928 -> İstatistiksel olarak **anlamlı bir fark YOK** (Genel Ort: -0.0000)\n",
      "  Özellik 'baharat-yapimi': Ort.=0.0001, Z-skor=0.90, P-değeri=0.3685 -> İstatistiksel olarak **anlamlı bir fark YOK** (Genel Ort: 0.0001)\n",
      "  Özellik 'bakliyat_yemekleri': Ort.=0.0000, Z-skor=0.55, P-değeri=0.5817 -> İstatistiksel olarak **anlamlı bir fark YOK** (Genel Ort: 0.0000)\n",
      "  Özellik 'balik-deniz-urunleri': Yetersiz veri veya sıfır standart sapma. Z-testi uygulanamadı.\n",
      "  Özellik 'borek': Ort.=-0.0001, Z-skor=0.08, P-değeri=0.9328 -> İstatistiksel olarak **anlamlı bir fark YOK** (Genel Ort: -0.0001)\n",
      "  Özellik 'cikolatali': Ort.=-0.0000, Z-skor=-0.33, P-değeri=0.7437 -> İstatistiksel olarak **anlamlı bir fark YOK** (Genel Ort: -0.0000)\n",
      "  Özellik 'corba': Ort.=-0.0001, Z-skor=-2.48, P-değeri=0.0131 -> İstatistiksel olarak **anlamlı derecede DÜŞÜK** (Genel Ort: -0.0001)\n",
      "  Özellik 'corek-hamurisi': Ort.=0.0000, Z-skor=-1.46, P-değeri=0.1430 -> İstatistiksel olarak **anlamlı bir fark YOK** (Genel Ort: 0.0000)\n",
      "  Özellik 'dolma': Ort.=0.0001, Z-skor=0.23, P-değeri=0.8145 -> İstatistiksel olarak **anlamlı bir fark YOK** (Genel Ort: 0.0000)\n",
      "  Özellik 'dondurma': Ort.=0.0001, Z-skor=0.84, P-değeri=0.3983 -> İstatistiksel olarak **anlamlı bir fark YOK** (Genel Ort: 0.0001)\n",
      "  Özellik 'dondurmali': Ort.=0.0000, Z-skor=-1.47, P-değeri=0.1424 -> İstatistiksel olarak **anlamlı bir fark YOK** (Genel Ort: 0.0001)\n",
      "  Özellik 'dondurulmus-yemekler': Ort.=0.0001, Z-skor=2.12, P-değeri=0.0339 -> İstatistiksel olarak **anlamlı derecede YÜKSEK** (Genel Ort: 0.0001)\n",
      "  Özellik 'donut-tatli': Ort.=0.0001, Z-skor=1.54, P-değeri=0.1241 -> İstatistiksel olarak **anlamlı bir fark YOK** (Genel Ort: 0.0001)\n",
      "  Özellik 'durum': Ort.=0.0000, Z-skor=-2.19, P-değeri=0.0288 -> İstatistiksel olarak **anlamlı derecede DÜŞÜK** (Genel Ort: 0.0001)\n",
      "  Özellik 'ekmek-hamurisi': Ort.=-0.0000, Z-skor=1.43, P-değeri=0.1527 -> İstatistiksel olarak **anlamlı bir fark YOK** (Genel Ort: -0.0000)\n",
      "  Özellik 'etli-cig-kofte': Ort.=0.0000, Z-skor=0.51, P-değeri=0.6081 -> İstatistiksel olarak **anlamlı bir fark YOK** (Genel Ort: 0.0000)\n",
      "  Özellik 'etsiz-cig-kofte': Ort.=0.0000, Z-skor=-0.28, P-değeri=0.7829 -> İstatistiksel olarak **anlamlı bir fark YOK** (Genel Ort: 0.0000)\n",
      "  Özellik 'ev-yemekleri': Ort.=-0.0000, Z-skor=-1.89, P-değeri=0.0593 -> İstatistiksel olarak **anlamlı bir fark YOK** (Genel Ort: -0.0000)\n",
      "  Özellik 'geleneksel-tatlilar': Ort.=0.0000, Z-skor=-0.08, P-değeri=0.9379 -> İstatistiksel olarak **anlamlı bir fark YOK** (Genel Ort: 0.0000)\n",
      "  Özellik 'hamburger': Ort.=0.0001, Z-skor=0.78, P-değeri=0.4378 -> İstatistiksel olarak **anlamlı bir fark YOK** (Genel Ort: 0.0000)\n",
      "  Özellik 'helva-tatli': Ort.=-0.0000, Z-skor=-1.05, P-değeri=0.2924 -> İstatistiksel olarak **anlamlı bir fark YOK** (Genel Ort: -0.0000)\n",
      "  Özellik 'hosaf': Ort.=0.0001, Z-skor=2.48, P-değeri=0.0131 -> İstatistiksel olarak **anlamlı derecede YÜKSEK** (Genel Ort: 0.0001)\n",
      "  Özellik 'kahvaltılık': Ort.=-0.0000, Z-skor=1.85, P-değeri=0.0641 -> İstatistiksel olarak **anlamlı bir fark YOK** (Genel Ort: -0.0000)\n",
      "  Özellik 'kanepe': Ort.=0.0000, Z-skor=-1.13, P-değeri=0.2580 -> İstatistiksel olarak **anlamlı bir fark YOK** (Genel Ort: 0.0001)\n",
      "  Özellik 'kebap': Yetersiz veri veya sıfır standart sapma. Z-testi uygulanamadı.\n",
      "  Özellik 'kek': Ort.=-0.0001, Z-skor=1.96, P-değeri=0.0497 -> İstatistiksel olarak **anlamlı derecede YÜKSEK** (Genel Ort: -0.0001)\n",
      "  Özellik 'kirmizi-et-yemekleri': Ort.=-0.0000, Z-skor=-1.87, P-değeri=0.0611 -> İstatistiksel olarak **anlamlı bir fark YOK** (Genel Ort: -0.0000)\n",
      "  Özellik 'kis': Ort.=0.0000, Z-skor=-3.24, P-değeri=0.0012 -> İstatistiksel olarak **anlamlı derecede DÜŞÜK** (Genel Ort: 0.0001)\n",
      "  Özellik 'kis-hazirliklari-diger': Ort.=0.0001, Z-skor=-0.17, P-değeri=0.8644 -> İstatistiksel olarak **anlamlı bir fark YOK** (Genel Ort: 0.0001)\n",
      "  Özellik 'kizartma': Yetersiz veri veya sıfır standart sapma. Z-testi uygulanamadı.\n",
      "  Özellik 'kofte': Ort.=-0.0000, Z-skor=-3.20, P-değeri=0.0014 -> İstatistiksel olarak **anlamlı derecede DÜŞÜK** (Genel Ort: -0.0000)\n",
      "  Özellik 'komposto': Ort.=0.0001, Z-skor=-0.66, P-değeri=0.5104 -> İstatistiksel olarak **anlamlı bir fark YOK** (Genel Ort: 0.0001)\n",
      "  Özellik 'krep-hamurisi': Ort.=0.0000, Z-skor=-2.43, P-değeri=0.0152 -> İstatistiksel olarak **anlamlı derecede DÜŞÜK** (Genel Ort: 0.0001)\n",
      "  Özellik 'lokum': Ort.=0.0000, Z-skor=0.23, P-değeri=0.8210 -> İstatistiksel olarak **anlamlı bir fark YOK** (Genel Ort: 0.0000)\n",
      "  Özellik 'makarna': Ort.=-0.0000, Z-skor=-0.60, P-değeri=0.5485 -> İstatistiksel olarak **anlamlı bir fark YOK** (Genel Ort: -0.0000)\n",
      "  Özellik 'manti': Yetersiz veri veya sıfır standart sapma. Z-testi uygulanamadı.\n",
      "  Özellik 'meyveli-tatlilar': Ort.=-0.0000, Z-skor=1.15, P-değeri=0.2489 -> İstatistiksel olarak **anlamlı bir fark YOK** (Genel Ort: -0.0000)\n",
      "  Özellik 'meze': Ort.=-0.0000, Z-skor=0.72, P-değeri=0.4716 -> İstatistiksel olarak **anlamlı bir fark YOK** (Genel Ort: -0.0000)\n",
      "  Özellik 'pasta': Ort.=-0.0001, Z-skor=0.91, P-değeri=0.3633 -> İstatistiksel olarak **anlamlı bir fark YOK** (Genel Ort: -0.0001)\n",
      "  Özellik 'pekmez': Ort.=0.0001, Z-skor=0.31, P-değeri=0.7532 -> İstatistiksel olarak **anlamlı bir fark YOK** (Genel Ort: 0.0001)\n",
      "  Özellik 'pide': Ort.=-0.0000, Z-skor=-0.77, P-değeri=0.4392 -> İstatistiksel olarak **anlamlı bir fark YOK** (Genel Ort: -0.0000)\n",
      "  Özellik 'pilav': Ort.=-0.0000, Z-skor=-2.72, P-değeri=0.0066 -> İstatistiksel olarak **anlamlı derecede DÜŞÜK** (Genel Ort: -0.0000)\n",
      "  Özellik 'pizza': Ort.=-0.0000, Z-skor=0.61, P-değeri=0.5444 -> İstatistiksel olarak **anlamlı bir fark YOK** (Genel Ort: -0.0000)\n",
      "  Özellik 'pogaca': Ort.=-0.0001, Z-skor=2.02, P-değeri=0.0439 -> İstatistiksel olarak **anlamlı derecede YÜKSEK** (Genel Ort: -0.0001)\n",
      "  Özellik 'recel': Ort.=0.0000, Z-skor=-0.14, P-değeri=0.8925 -> İstatistiksel olarak **anlamlı bir fark YOK** (Genel Ort: 0.0000)\n",
      "  Özellik 'sakatat-yemekleri': Ort.=0.0000, Z-skor=-0.58, P-değeri=0.5641 -> İstatistiksel olarak **anlamlı bir fark YOK** (Genel Ort: 0.0000)\n",
      "  Özellik 'salamura': Ort.=0.0000, Z-skor=-1.63, P-değeri=0.1029 -> İstatistiksel olarak **anlamlı bir fark YOK** (Genel Ort: 0.0001)\n",
      "  Özellik 'salata': Ort.=-0.0000, Z-skor=-0.27, P-değeri=0.7861 -> İstatistiksel olarak **anlamlı bir fark YOK** (Genel Ort: -0.0000)\n",
      "  Özellik 'sandvic': Ort.=0.0000, Z-skor=-1.30, P-değeri=0.1947 -> İstatistiksel olarak **anlamlı bir fark YOK** (Genel Ort: 0.0001)\n",
      "  Özellik 'sarma': Ort.=0.0002, Z-skor=2.48, P-değeri=0.0130 -> İstatistiksel olarak **anlamlı derecede YÜKSEK** (Genel Ort: 0.0001)\n",
      "  Özellik 'serbetli-tatlilar': Ort.=-0.0001, Z-skor=-1.82, P-değeri=0.0690 -> İstatistiksel olarak **anlamlı bir fark YOK** (Genel Ort: -0.0001)\n",
      "  Özellik 'sicak': Ort.=0.0001, Z-skor=3.77, P-değeri=0.0002 -> İstatistiksel olarak **anlamlı derecede YÜKSEK** (Genel Ort: 0.0000)\n",
      "  Özellik 'sicak-icecekler': Ort.=0.0000, Z-skor=-0.74, P-değeri=0.4602 -> İstatistiksel olarak **anlamlı bir fark YOK** (Genel Ort: 0.0000)\n",
      "  Özellik 'soguk-icecekler': Ort.=0.0000, Z-skor=-1.19, P-değeri=0.2339 -> İstatistiksel olarak **anlamlı bir fark YOK** (Genel Ort: 0.0000)\n",
      "  Özellik 'sos': Ort.=0.0000, Z-skor=-0.67, P-değeri=0.5050 -> İstatistiksel olarak **anlamlı bir fark YOK** (Genel Ort: 0.0000)\n",
      "  Özellik 'sulu-yemek': Ort.=0.0000, Z-skor=1.50, P-değeri=0.1327 -> İstatistiksel olarak **anlamlı bir fark YOK** (Genel Ort: 0.0000)\n",
      "  Özellik 'sut-urunleri': Ort.=0.0000, Z-skor=-0.03, P-değeri=0.9780 -> İstatistiksel olarak **anlamlı bir fark YOK** (Genel Ort: 0.0000)\n",
      "  Özellik 'sutlu-tatlilar': Ort.=-0.0001, Z-skor=1.58, P-değeri=0.1134 -> İstatistiksel olarak **anlamlı bir fark YOK** (Genel Ort: -0.0001)\n",
      "  Özellik 'tart': Ort.=0.0000, Z-skor=0.36, P-değeri=0.7191 -> İstatistiksel olarak **anlamlı bir fark YOK** (Genel Ort: 0.0000)\n",
      "  Özellik 'tatli-kurabiyeler': Ort.=-0.0001, Z-skor=1.60, P-değeri=0.1101 -> İstatistiksel olarak **anlamlı bir fark YOK** (Genel Ort: -0.0001)\n",
      "  Özellik 'tavuk-yemekleri': Ort.=-0.0001, Z-skor=-0.84, P-değeri=0.4037 -> İstatistiksel olarak **anlamlı bir fark YOK** (Genel Ort: -0.0001)\n",
      "  Özellik 'tost': Ort.=0.0000, Z-skor=-1.51, P-değeri=0.1321 -> İstatistiksel olarak **anlamlı bir fark YOK** (Genel Ort: 0.0001)\n",
      "  Özellik 'tursu': Ort.=0.0000, Z-skor=-1.60, P-değeri=0.1093 -> İstatistiksel olarak **anlamlı bir fark YOK** (Genel Ort: 0.0000)\n",
      "  Özellik 'tuzlu-kurabiyeler': Ort.=-0.0000, Z-skor=0.92, P-değeri=0.3582 -> İstatistiksel olarak **anlamlı bir fark YOK** (Genel Ort: -0.0000)\n",
      "  Özellik 'zeytinyagli': Ort.=-0.0000, Z-skor=1.38, P-değeri=0.1683 -> İstatistiksel olarak **anlamlı bir fark YOK** (Genel Ort: -0.0000)\n"
     ]
    }
   ],
   "execution_count": 105
  }
 ],
 "metadata": {
  "kernelspec": {
   "display_name": "Python 3",
   "language": "python",
   "name": "python3"
  },
  "language_info": {
   "codemirror_mode": {
    "name": "ipython",
    "version": 2
   },
   "file_extension": ".py",
   "mimetype": "text/x-python",
   "name": "python",
   "nbconvert_exporter": "python",
   "pygments_lexer": "ipython2",
   "version": "2.7.6"
  }
 },
 "nbformat": 4,
 "nbformat_minor": 5
}
